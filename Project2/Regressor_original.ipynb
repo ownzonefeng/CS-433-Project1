{
 "cells": [
  {
   "cell_type": "code",
   "execution_count": 111,
   "metadata": {},
   "outputs": [],
   "source": [
    "import pandas as pd\n",
    "import numpy as np\n",
    "import os\n",
    "from sklearn.ensemble import RandomForestRegressor\n",
    "from sklearn.model_selection import GridSearchCV\n",
    "from scipy import stats\n",
    "import joblib\n",
    "from sklearn.model_selection import train_test_split\n",
    "import sklearn.metrics as metrics\n",
    "from sklearn.model_selection import GroupShuffleSplit\n",
    "import matplotlib.pyplot as plt\n",
    "from sklearn.preprocessing import PolynomialFeatures"
   ]
  },
  {
   "cell_type": "code",
   "execution_count": 112,
   "metadata": {},
   "outputs": [],
   "source": [
    "%matplotlib inline"
   ]
  },
  {
   "cell_type": "code",
   "execution_count": 113,
   "metadata": {},
   "outputs": [],
   "source": [
    "def rmse(y_true, y_pred):\n",
    "    rmse = np.sqrt(metrics.mean_squared_error(y_true, y_pred))\n",
    "    return rmse\n",
    "\n",
    "def lcc(y_true, y_pred):\n",
    "    lcc, _ = stats.pearsonr(y_true, y_pred)\n",
    "    return lcc\n",
    "\n",
    "def srocc(y_true, y_pred):\n",
    "    srocc, _ = stats.spearmanr(y_true, y_pred)\n",
    "    return srocc"
   ]
  },
  {
   "cell_type": "code",
   "execution_count": 114,
   "metadata": {},
   "outputs": [],
   "source": [
    "def accuracy(y_true, y_pred):\n",
    "    ratio = abs(y_true - y_pred) / y_true\n",
    "    return 1 - np.mean(ratio)"
   ]
  },
  {
   "cell_type": "code",
   "execution_count": 115,
   "metadata": {},
   "outputs": [
    {
     "data": {
      "text/plain": [
       "{'rmse': make_scorer(rmse, greater_is_better=False),\n",
       " 'lcc': make_scorer(lcc),\n",
       " 'srocc': make_scorer(srocc)}"
      ]
     },
     "execution_count": 115,
     "metadata": {},
     "output_type": "execute_result"
    }
   ],
   "source": [
    "scorer = {}\n",
    "scorer['rmse'] = metrics.make_scorer(rmse, greater_is_better=False)\n",
    "scorer['lcc'] = metrics.make_scorer(lcc, greater_is_better=True)\n",
    "scorer['srocc'] = metrics.make_scorer(srocc, greater_is_better=True)\n",
    "scorer"
   ]
  },
  {
   "cell_type": "code",
   "execution_count": 116,
   "metadata": {},
   "outputs": [],
   "source": [
    "features = pd.read_pickle('features.pkl')\n",
    "labels = pd.read_pickle('labels.pkl')"
   ]
  },
  {
   "cell_type": "code",
   "execution_count": 117,
   "metadata": {},
   "outputs": [],
   "source": [
    "features = features.drop(['Blockloss'], axis = 1)"
   ]
  },
  {
   "cell_type": "code",
   "execution_count": 118,
   "metadata": {},
   "outputs": [
    {
     "data": {
      "text/html": [
       "<div>\n",
       "<style scoped>\n",
       "    .dataframe tbody tr th:only-of-type {\n",
       "        vertical-align: middle;\n",
       "    }\n",
       "\n",
       "    .dataframe tbody tr th {\n",
       "        vertical-align: top;\n",
       "    }\n",
       "\n",
       "    .dataframe thead th {\n",
       "        text-align: right;\n",
       "    }\n",
       "</style>\n",
       "<table border=\"1\" class=\"dataframe\">\n",
       "  <thead>\n",
       "    <tr style=\"text-align: right;\">\n",
       "      <th></th>\n",
       "      <th>msssim</th>\n",
       "      <th>psnr</th>\n",
       "      <th>psnrhvs</th>\n",
       "      <th>psnrhvsm</th>\n",
       "      <th>ssim</th>\n",
       "      <th>vifp</th>\n",
       "      <th>Blockiness</th>\n",
       "      <th>Blur</th>\n",
       "      <th>Contrast</th>\n",
       "      <th>Exposure(bri)</th>\n",
       "      <th>Flickering</th>\n",
       "      <th>Interlace</th>\n",
       "      <th>Noise</th>\n",
       "      <th>SA</th>\n",
       "      <th>TA</th>\n",
       "    </tr>\n",
       "  </thead>\n",
       "  <tbody>\n",
       "    <tr>\n",
       "      <th>G10BoatInPark_ERP_4096x2048_fps30_qp27_14547k.mp4</th>\n",
       "      <td>0.993424</td>\n",
       "      <td>41.829451</td>\n",
       "      <td>39.401728</td>\n",
       "      <td>43.855814</td>\n",
       "      <td>0.989905</td>\n",
       "      <td>0.818723</td>\n",
       "      <td>0.918001</td>\n",
       "      <td>6.318822</td>\n",
       "      <td>56.274408</td>\n",
       "      <td>122.973648</td>\n",
       "      <td>0.973981</td>\n",
       "      <td>0.004543</td>\n",
       "      <td>0.385048</td>\n",
       "      <td>48.017774</td>\n",
       "      <td>12.572215</td>\n",
       "    </tr>\n",
       "    <tr>\n",
       "      <th>G10BoatInPark_ERP_4096x2048_fps30_qp37_3270k.mp4</th>\n",
       "      <td>0.978172</td>\n",
       "      <td>37.045777</td>\n",
       "      <td>34.074029</td>\n",
       "      <td>36.540714</td>\n",
       "      <td>0.975696</td>\n",
       "      <td>0.721947</td>\n",
       "      <td>0.923023</td>\n",
       "      <td>6.802874</td>\n",
       "      <td>56.220687</td>\n",
       "      <td>122.235861</td>\n",
       "      <td>0.974016</td>\n",
       "      <td>0.001439</td>\n",
       "      <td>0.250219</td>\n",
       "      <td>45.613703</td>\n",
       "      <td>12.228131</td>\n",
       "    </tr>\n",
       "    <tr>\n",
       "      <th>G10BoatInPark_ERP_4096x2048_fps30_qp42_1507k.mp4</th>\n",
       "      <td>0.959965</td>\n",
       "      <td>34.534499</td>\n",
       "      <td>31.430402</td>\n",
       "      <td>33.216521</td>\n",
       "      <td>0.962685</td>\n",
       "      <td>0.672978</td>\n",
       "      <td>0.923070</td>\n",
       "      <td>7.194109</td>\n",
       "      <td>56.157094</td>\n",
       "      <td>121.932088</td>\n",
       "      <td>0.973082</td>\n",
       "      <td>0.001407</td>\n",
       "      <td>0.243489</td>\n",
       "      <td>42.835611</td>\n",
       "      <td>11.782598</td>\n",
       "    </tr>\n",
       "    <tr>\n",
       "      <th>G10BodybuildingWorkout_ERP_7680x3840_fps29.97_qp27_6105k.mp4</th>\n",
       "      <td>0.997337</td>\n",
       "      <td>46.713699</td>\n",
       "      <td>44.069635</td>\n",
       "      <td>48.525252</td>\n",
       "      <td>0.997130</td>\n",
       "      <td>0.915188</td>\n",
       "      <td>0.941557</td>\n",
       "      <td>10.663758</td>\n",
       "      <td>107.170623</td>\n",
       "      <td>125.000000</td>\n",
       "      <td>0.975835</td>\n",
       "      <td>0.000408</td>\n",
       "      <td>0.691092</td>\n",
       "      <td>55.521111</td>\n",
       "      <td>3.173898</td>\n",
       "    </tr>\n",
       "    <tr>\n",
       "      <th>G10BodybuildingWorkout_ERP_7680x3840_fps29.97_qp37_913k.mp4</th>\n",
       "      <td>0.993475</td>\n",
       "      <td>42.391911</td>\n",
       "      <td>39.490941</td>\n",
       "      <td>42.097111</td>\n",
       "      <td>0.994158</td>\n",
       "      <td>0.873338</td>\n",
       "      <td>0.916841</td>\n",
       "      <td>10.873596</td>\n",
       "      <td>107.176925</td>\n",
       "      <td>124.268885</td>\n",
       "      <td>0.970290</td>\n",
       "      <td>0.001945</td>\n",
       "      <td>0.350776</td>\n",
       "      <td>55.119636</td>\n",
       "      <td>3.099582</td>\n",
       "    </tr>\n",
       "  </tbody>\n",
       "</table>\n",
       "</div>"
      ],
      "text/plain": [
       "                                                      msssim       psnr  \\\n",
       "G10BoatInPark_ERP_4096x2048_fps30_qp27_14547k.mp4   0.993424  41.829451   \n",
       "G10BoatInPark_ERP_4096x2048_fps30_qp37_3270k.mp4    0.978172  37.045777   \n",
       "G10BoatInPark_ERP_4096x2048_fps30_qp42_1507k.mp4    0.959965  34.534499   \n",
       "G10BodybuildingWorkout_ERP_7680x3840_fps29.97_q...  0.997337  46.713699   \n",
       "G10BodybuildingWorkout_ERP_7680x3840_fps29.97_q...  0.993475  42.391911   \n",
       "\n",
       "                                                      psnrhvs   psnrhvsm  \\\n",
       "G10BoatInPark_ERP_4096x2048_fps30_qp27_14547k.mp4   39.401728  43.855814   \n",
       "G10BoatInPark_ERP_4096x2048_fps30_qp37_3270k.mp4    34.074029  36.540714   \n",
       "G10BoatInPark_ERP_4096x2048_fps30_qp42_1507k.mp4    31.430402  33.216521   \n",
       "G10BodybuildingWorkout_ERP_7680x3840_fps29.97_q...  44.069635  48.525252   \n",
       "G10BodybuildingWorkout_ERP_7680x3840_fps29.97_q...  39.490941  42.097111   \n",
       "\n",
       "                                                        ssim      vifp  \\\n",
       "G10BoatInPark_ERP_4096x2048_fps30_qp27_14547k.mp4   0.989905  0.818723   \n",
       "G10BoatInPark_ERP_4096x2048_fps30_qp37_3270k.mp4    0.975696  0.721947   \n",
       "G10BoatInPark_ERP_4096x2048_fps30_qp42_1507k.mp4    0.962685  0.672978   \n",
       "G10BodybuildingWorkout_ERP_7680x3840_fps29.97_q...  0.997130  0.915188   \n",
       "G10BodybuildingWorkout_ERP_7680x3840_fps29.97_q...  0.994158  0.873338   \n",
       "\n",
       "                                                    Blockiness       Blur  \\\n",
       "G10BoatInPark_ERP_4096x2048_fps30_qp27_14547k.mp4     0.918001   6.318822   \n",
       "G10BoatInPark_ERP_4096x2048_fps30_qp37_3270k.mp4      0.923023   6.802874   \n",
       "G10BoatInPark_ERP_4096x2048_fps30_qp42_1507k.mp4      0.923070   7.194109   \n",
       "G10BodybuildingWorkout_ERP_7680x3840_fps29.97_q...    0.941557  10.663758   \n",
       "G10BodybuildingWorkout_ERP_7680x3840_fps29.97_q...    0.916841  10.873596   \n",
       "\n",
       "                                                      Contrast  Exposure(bri)  \\\n",
       "G10BoatInPark_ERP_4096x2048_fps30_qp27_14547k.mp4    56.274408     122.973648   \n",
       "G10BoatInPark_ERP_4096x2048_fps30_qp37_3270k.mp4     56.220687     122.235861   \n",
       "G10BoatInPark_ERP_4096x2048_fps30_qp42_1507k.mp4     56.157094     121.932088   \n",
       "G10BodybuildingWorkout_ERP_7680x3840_fps29.97_q...  107.170623     125.000000   \n",
       "G10BodybuildingWorkout_ERP_7680x3840_fps29.97_q...  107.176925     124.268885   \n",
       "\n",
       "                                                    Flickering  Interlace  \\\n",
       "G10BoatInPark_ERP_4096x2048_fps30_qp27_14547k.mp4     0.973981   0.004543   \n",
       "G10BoatInPark_ERP_4096x2048_fps30_qp37_3270k.mp4      0.974016   0.001439   \n",
       "G10BoatInPark_ERP_4096x2048_fps30_qp42_1507k.mp4      0.973082   0.001407   \n",
       "G10BodybuildingWorkout_ERP_7680x3840_fps29.97_q...    0.975835   0.000408   \n",
       "G10BodybuildingWorkout_ERP_7680x3840_fps29.97_q...    0.970290   0.001945   \n",
       "\n",
       "                                                       Noise         SA  \\\n",
       "G10BoatInPark_ERP_4096x2048_fps30_qp27_14547k.mp4   0.385048  48.017774   \n",
       "G10BoatInPark_ERP_4096x2048_fps30_qp37_3270k.mp4    0.250219  45.613703   \n",
       "G10BoatInPark_ERP_4096x2048_fps30_qp42_1507k.mp4    0.243489  42.835611   \n",
       "G10BodybuildingWorkout_ERP_7680x3840_fps29.97_q...  0.691092  55.521111   \n",
       "G10BodybuildingWorkout_ERP_7680x3840_fps29.97_q...  0.350776  55.119636   \n",
       "\n",
       "                                                           TA  \n",
       "G10BoatInPark_ERP_4096x2048_fps30_qp27_14547k.mp4   12.572215  \n",
       "G10BoatInPark_ERP_4096x2048_fps30_qp37_3270k.mp4    12.228131  \n",
       "G10BoatInPark_ERP_4096x2048_fps30_qp42_1507k.mp4    11.782598  \n",
       "G10BodybuildingWorkout_ERP_7680x3840_fps29.97_q...   3.173898  \n",
       "G10BodybuildingWorkout_ERP_7680x3840_fps29.97_q...   3.099582  "
      ]
     },
     "execution_count": 118,
     "metadata": {},
     "output_type": "execute_result"
    }
   ],
   "source": [
    "features.head()"
   ]
  },
  {
   "cell_type": "code",
   "execution_count": 119,
   "metadata": {},
   "outputs": [],
   "source": [
    "parameters_grid_search_3rd = joblib.load('parameters_grid_search_3rd.sav')"
   ]
  },
  {
   "cell_type": "code",
   "execution_count": 120,
   "metadata": {},
   "outputs": [
    {
     "data": {
      "text/plain": [
       "Index(['G10BoatInPark_ERP_4096x2048_fps30_qp27_14547k.mp4',\n",
       "       'G10BoatInPark_ERP_4096x2048_fps30_qp37_3270k.mp4',\n",
       "       'G10BoatInPark_ERP_4096x2048_fps30_qp42_1507k.mp4',\n",
       "       'G10BodybuildingWorkout_ERP_7680x3840_fps29.97_qp27_6105k.mp4',\n",
       "       'G10BodybuildingWorkout_ERP_7680x3840_fps29.97_qp37_913k.mp4',\n",
       "       'G10BodybuildingWorkout_ERP_7680x3840_fps29.97_qp42_697k.mp4',\n",
       "       'G10BuddhaCave_ERP_4096x2048_fps30_qp27_1289k.mp4',\n",
       "       'G10BuddhaCave_ERP_4096x2048_fps30_qp37_236k.mp4',\n",
       "       'G10BuddhaCave_ERP_4096x2048_fps30_qp42_170k.mp4',\n",
       "       'G10DrivingInCountry_ERP_3840x1920_fps30_qp27_27706k.mp4',\n",
       "       ...\n",
       "       'G9DivingWithJellyfish_ERP_7680x3840_fps25_qp42_876k.mp4',\n",
       "       'G9DrivingInCity_ERP_3840x1920_fps30_qp27_11315k.mp4',\n",
       "       'G9DrivingInCity_ERP_3840x1920_fps30_qp37_2350k.mp4',\n",
       "       'G9DrivingInCity_ERP_3840x1920_fps30_qp42_1069k.mp4',\n",
       "       'G9FootballMatch_ERP_4096x2048_fps30_qp27_1529k.mp4',\n",
       "       'G9FootballMatch_ERP_4096x2048_fps30_qp37_220k.mp4',\n",
       "       'G9FootballMatch_ERP_4096x2048_fps30_qp42_288k.mp4',\n",
       "       'G9GreatWall_ERP_4096x2048_fps30_qp27_43911k.mp4',\n",
       "       'G9GreatWall_ERP_4096x2048_fps30_qp37_7750k.mp4',\n",
       "       'G9GreatWall_ERP_4096x2048_fps30_qp42_3096k.mp4'],\n",
       "      dtype='object', length=177)"
      ]
     },
     "execution_count": 120,
     "metadata": {},
     "output_type": "execute_result"
    }
   ],
   "source": [
    "labels.index"
   ]
  },
  {
   "cell_type": "code",
   "execution_count": 121,
   "metadata": {},
   "outputs": [
    {
     "data": {
      "text/plain": [
       "G10BoatInPark_ERP_4096x2048_fps30_qp27_14547k.mp4               35.015519\n",
       "G10BoatInPark_ERP_4096x2048_fps30_qp37_3270k.mp4                40.812728\n",
       "G10BoatInPark_ERP_4096x2048_fps30_qp42_1507k.mp4                55.277610\n",
       "G10BodybuildingWorkout_ERP_7680x3840_fps29.97_qp27_6105k.mp4    34.989982\n",
       "G10BodybuildingWorkout_ERP_7680x3840_fps29.97_qp37_913k.mp4     56.596125\n",
       "Name: DMOS, dtype: float64"
      ]
     },
     "execution_count": 121,
     "metadata": {},
     "output_type": "execute_result"
    }
   ],
   "source": [
    "labels.head()"
   ]
  },
  {
   "cell_type": "code",
   "execution_count": 122,
   "metadata": {},
   "outputs": [],
   "source": [
    "group_label = np.arange(len(features.index) / 3)\n",
    "group_label = np.matlib.repmat(group_label,3,1)\n",
    "group_label = group_label.reshape(-1,1, order='F')"
   ]
  },
  {
   "cell_type": "code",
   "execution_count": 123,
   "metadata": {},
   "outputs": [],
   "source": [
    "Reg_video = RandomForestRegressor(random_state=8, n_jobs=-1)"
   ]
  },
  {
   "cell_type": "code",
   "execution_count": 124,
   "metadata": {},
   "outputs": [],
   "source": [
    "def CV_Generator(features, labels, group_label, n=8, test_ratio=0.2):\n",
    "    CV_Group = GroupShuffleSplit(n_splits=n, test_size=test_ratio, random_state=8)\n",
    "    for train, test in CV_Group.split(features, labels, groups=group_label):\n",
    "        yield train, test"
   ]
  },
  {
   "cell_type": "code",
   "execution_count": 125,
   "metadata": {},
   "outputs": [],
   "source": [
    "parameters_grid_GCV_3MET = {}"
   ]
  },
  {
   "cell_type": "code",
   "execution_count": 126,
   "metadata": {},
   "outputs": [],
   "source": [
    "parameters_grid_GCV_3MET['n_estimators'] = [150,411, 729]\n",
    "parameters_grid_GCV_3MET['criterion'] = ['mse']\n",
    "parameters_grid_GCV_3MET['max_depth'] = [8]\n",
    "parameters_grid_GCV_3MET['min_samples_split'] = [3]\n",
    "parameters_grid_GCV_3MET['min_samples_leaf'] = [3]\n",
    "parameters_grid_GCV_3MET['max_features'] = ['auto']\n",
    "parameters_grid_GCV_3MET['bootstrap'] = [True]\n",
    "parameters_grid_GCV_3MET['verbose'] = [0]\n",
    "parameters_grid_GCV_3MET['oob_score'] = [True]"
   ]
  },
  {
   "cell_type": "code",
   "execution_count": 127,
   "metadata": {},
   "outputs": [
    {
     "data": {
      "text/plain": [
       "{'n_estimators': [150, 411, 729],\n",
       " 'criterion': ['mse'],\n",
       " 'max_depth': [8],\n",
       " 'min_samples_split': [3],\n",
       " 'min_samples_leaf': [3],\n",
       " 'max_features': ['auto'],\n",
       " 'bootstrap': [True],\n",
       " 'verbose': [0],\n",
       " 'oob_score': [True]}"
      ]
     },
     "execution_count": 127,
     "metadata": {},
     "output_type": "execute_result"
    }
   ],
   "source": [
    "parameters_grid_GCV_3MET"
   ]
  },
  {
   "cell_type": "code",
   "execution_count": 128,
   "metadata": {},
   "outputs": [],
   "source": [
    "parameters_grid_search_GCV_3MET = GridSearchCV(estimator = Reg_video, param_grid = parameters_grid_GCV_3MET, \n",
    "                          cv = CV_Generator(features, labels, group_label), n_jobs = -1, verbose = 1, return_train_score=True, \n",
    "                                      error_score = np.nan, scoring = scorer, refit = 'rmse', iid=False)"
   ]
  },
  {
   "cell_type": "code",
   "execution_count": 129,
   "metadata": {},
   "outputs": [
    {
     "name": "stdout",
     "output_type": "stream",
     "text": [
      "Fitting 8 folds for each of 3 candidates, totalling 24 fits\n"
     ]
    },
    {
     "name": "stderr",
     "output_type": "stream",
     "text": [
      "[Parallel(n_jobs=-1)]: Using backend LokyBackend with 12 concurrent workers.\n",
      "[Parallel(n_jobs=-1)]: Done  24 out of  24 | elapsed:    5.9s finished\n"
     ]
    },
    {
     "data": {
      "text/plain": [
       "GridSearchCV(cv=<generator object CV_Generator at 0x1a2097f570>,\n",
       "       error_score=nan,\n",
       "       estimator=RandomForestRegressor(bootstrap=True, criterion='mse', max_depth=None,\n",
       "           max_features='auto', max_leaf_nodes=None,\n",
       "           min_impurity_decrease=0.0, min_impurity_split=None,\n",
       "           min_samples_leaf=1, min_samples_split=2,\n",
       "           min_weight_fraction_leaf=0.0, n_estimators='warn', n_jobs=-1,\n",
       "           oob_score=False, random_state=8, verbose=0, warm_start=False),\n",
       "       fit_params=None, iid=False, n_jobs=-1,\n",
       "       param_grid={'n_estimators': [150, 411, 729], 'criterion': ['mse'], 'max_depth': [8], 'min_samples_split': [3], 'min_samples_leaf': [3], 'max_features': ['auto'], 'bootstrap': [True], 'verbose': [0], 'oob_score': [True]},\n",
       "       pre_dispatch='2*n_jobs', refit='rmse', return_train_score=True,\n",
       "       scoring={'rmse': make_scorer(rmse, greater_is_better=False), 'lcc': make_scorer(lcc), 'srocc': make_scorer(srocc)},\n",
       "       verbose=1)"
      ]
     },
     "execution_count": 129,
     "metadata": {},
     "output_type": "execute_result"
    }
   ],
   "source": [
    "parameters_grid_search_GCV_3MET.fit(features, labels)"
   ]
  },
  {
   "cell_type": "code",
   "execution_count": 130,
   "metadata": {},
   "outputs": [
    {
     "data": {
      "text/plain": [
       "{'bootstrap': True,\n",
       " 'criterion': 'mse',\n",
       " 'max_depth': 8,\n",
       " 'max_features': 'auto',\n",
       " 'min_samples_leaf': 3,\n",
       " 'min_samples_split': 3,\n",
       " 'n_estimators': 150,\n",
       " 'oob_score': True,\n",
       " 'verbose': 0}"
      ]
     },
     "execution_count": 130,
     "metadata": {},
     "output_type": "execute_result"
    }
   ],
   "source": [
    "parameters_grid_search_GCV_3MET.best_params_"
   ]
  },
  {
   "cell_type": "code",
   "execution_count": null,
   "metadata": {},
   "outputs": [],
   "source": []
  },
  {
   "cell_type": "code",
   "execution_count": null,
   "metadata": {},
   "outputs": [],
   "source": []
  },
  {
   "cell_type": "code",
   "execution_count": 131,
   "metadata": {},
   "outputs": [
    {
     "name": "stdout",
     "output_type": "stream",
     "text": [
      "RMSE: 4.173438763067636 7.1573247289514486\n",
      "LCC: 0.9469359346817884 0.8273286550384965\n",
      "SROCC: 0.9498565863264693 0.8038610038610039\n",
      "Accuracy: 0.9364440043939698 0.8892668603527055\n",
      "\n",
      "\n",
      "RMSE: 3.9659599190361843 8.292416305625723\n",
      "LCC: 0.9444821348186567 0.8292888120129284\n",
      "SROCC: 0.9456141101930732 0.8097812097812098\n",
      "Accuracy: 0.9414568351347136 0.8616959320286482\n",
      "\n",
      "\n",
      "RMSE: 4.001719269286814 8.681191086501174\n",
      "LCC: 0.9526478320532112 0.6220573622584952\n",
      "SROCC: 0.9556701913609315 0.646074646074646\n",
      "Accuracy: 0.9411186362319199 0.8631572748684638\n",
      "\n",
      "\n",
      "RMSE: 3.913703577998886 7.849399285930683\n",
      "LCC: 0.9541272918284113 0.7379180338333297\n",
      "SROCC: 0.9546598741384476 0.7652509652509653\n",
      "Accuracy: 0.941385777934777 0.8787359896968299\n",
      "\n",
      "\n",
      "RMSE: 3.9118677296755036 8.627113965214273\n",
      "LCC: 0.9531472271223123 0.731941158625529\n",
      "SROCC: 0.9534012586155229 0.7212355212355213\n",
      "Accuracy: 0.9418198615224878 0.8589930782909261\n",
      "\n",
      "\n",
      "Model saved\n",
      "RMSE: 4.295145892496544 4.945801499449066\n",
      "LCC: 0.9462656146171348 0.9015302854102969\n",
      "SROCC: 0.9477374887623614 0.8813384813384814\n",
      "Accuracy: 0.9348519069811949 0.9140552002606737\n",
      "\n",
      "\n",
      "RMSE: 4.101190572457816 7.208848993303631\n",
      "LCC: 0.9464879420858 0.8795385400308174\n",
      "SROCC: 0.9465216832912366 0.9124839124839126\n",
      "Accuracy: 0.9389069737397981 0.8615917850034885\n",
      "\n",
      "\n",
      "RMSE: 4.055335890763761 6.850708908631462\n",
      "LCC: 0.9507188270249758 0.8063691452637626\n",
      "SROCC: 0.9519200308232372 0.7758043758043759\n",
      "Accuracy: 0.938816195519893 0.8887751574246598\n",
      "\n",
      "\n",
      "RMSE: 4.12728833945176 6.851829834741802\n",
      "LCC: 0.9496561508722932 0.8091161432508487\n",
      "SROCC: 0.9527205787919002 0.838867438867439\n",
      "Accuracy: 0.9381210962685788 0.8839429524748749\n",
      "\n",
      "\n",
      "RMSE: 4.26332729192776 6.442197207384004\n",
      "LCC: 0.945816513646832 0.8695373850283475\n",
      "SROCC: 0.9503103728755511 0.903989703989704\n",
      "Accuracy: 0.936300200166113 0.8879012654709393\n",
      "\n",
      "\n",
      "10\n",
      "RMSE: 3.9401029764742344 7.614732071548301\n",
      "LCC: 0.9539059085989682 0.7348375078479925\n",
      "SROCC: 0.9503317779014512 0.7611325611325612\n",
      "Accuracy: 0.9393002294313711 0.8838723590823235\n",
      "\n",
      "\n",
      "RMSE: 3.7964252112679207 8.608885013132742\n",
      "LCC: 0.9562169746714521 0.6739159440442983\n",
      "SROCC: 0.9585170598056423 0.6244530244530245\n",
      "Accuracy: 0.9414563065270278 0.8712087077374463\n",
      "\n",
      "\n",
      "RMSE: 4.08333864898558 7.254582535280322\n",
      "LCC: 0.9487378356078333 0.7931123355737465\n",
      "SROCC: 0.9460893017680551 0.794851994851995\n",
      "Accuracy: 0.9371908271812005 0.8997680959309783\n",
      "\n",
      "\n",
      "RMSE: 4.224809726729527 6.310775446327029\n",
      "LCC: 0.9456977460317182 0.8653158208158704\n",
      "SROCC: 0.9491930305235667 0.8494208494208494\n",
      "Accuracy: 0.936385410957441 0.8830530467403388\n",
      "\n",
      "\n",
      "RMSE: 4.138300519639733 6.994824000796585\n",
      "LCC: 0.9506547313668856 0.7169268728275722\n",
      "SROCC: 0.9496339740571085 0.7685971685971686\n",
      "Accuracy: 0.9365487644737444 0.8916997296362627\n",
      "\n",
      "\n",
      "RMSE: 4.106299909029989 6.86176083759114\n",
      "LCC: 0.9475549451615795 0.8431277576761006\n",
      "SROCC: 0.9480842501819425 0.832947232947233\n",
      "Accuracy: 0.938263401199678 0.8912458073856702\n",
      "\n",
      "\n"
     ]
    }
   ],
   "source": [
    "idx = 0\n",
    "for train_idx, test_idx in CV_Generator(features, labels, group_label, 16, test_ratio=0.2):\n",
    "    train_features = features.iloc[train_idx]\n",
    "    train_labels = labels.iloc[train_idx]\n",
    "    test_features = features.iloc[test_idx]\n",
    "    test_labels = labels.iloc[test_idx]\n",
    "    best_model = parameters_grid_search_GCV_3MET.best_estimator_.fit(train_features, train_labels)\n",
    "    train_pred = best_model.predict(train_features)\n",
    "    test_pred = best_model.predict(test_features)\n",
    "    #label_pred_ave[test_idx] = label_pred_ave[test_idx] + test_pred\n",
    "    #label_count[test_idx] = label_count[test_idx] + 1\n",
    "    if idx == 5:\n",
    "        final_model = best_model\n",
    "        print('Model saved')\n",
    "        #print(test_pred - test_labels)\n",
    "    print('RMSE:', rmse(train_labels, train_pred), rmse(test_labels, test_pred))\n",
    "    print('LCC:', lcc(train_labels, train_pred), lcc(test_labels, test_pred))\n",
    "    print('SROCC:', srocc(train_labels, train_pred), srocc(test_labels, test_pred))\n",
    "    print('Accuracy:', accuracy(train_labels, train_pred), accuracy(test_labels, test_pred))\n",
    "    print('\\n')\n",
    "    idx += 1\n",
    "    if idx % 10 == 0:\n",
    "        print(idx)"
   ]
  },
  {
   "cell_type": "code",
   "execution_count": 132,
   "metadata": {},
   "outputs": [],
   "source": [
    "#joblib.dump(final_model, 'best_model.sav')"
   ]
  },
  {
   "cell_type": "code",
   "execution_count": 133,
   "metadata": {},
   "outputs": [],
   "source": [
    "#final_model = joblib.load('best_model.sav')"
   ]
  },
  {
   "cell_type": "code",
   "execution_count": 134,
   "metadata": {},
   "outputs": [],
   "source": [
    "label_pred_ave = np.zeros_like(labels)\n",
    "label_count = np.zeros_like(labels)"
   ]
  },
  {
   "cell_type": "code",
   "execution_count": 135,
   "metadata": {},
   "outputs": [
    {
     "name": "stdout",
     "output_type": "stream",
     "text": [
      "10\n",
      "20\n",
      "30\n",
      "40\n",
      "50\n",
      "60\n",
      "70\n",
      "80\n",
      "90\n",
      "100\n"
     ]
    }
   ],
   "source": [
    "idx = 0\n",
    "for train_idx, test_idx in CV_Generator(features, labels, group_label, 100, test_ratio=0.2):\n",
    "    test_features = features.iloc[test_idx]\n",
    "    test_labels = labels.iloc[test_idx]\n",
    "    test_pred = final_model.predict(test_features)\n",
    "    label_pred_ave[test_idx] = label_pred_ave[test_idx] + test_pred\n",
    "    label_count[test_idx] = label_count[test_idx] + 1\n",
    "    #if idx == 5:\n",
    "    #    final_model = best_model\n",
    "    #    print('Model saved')\n",
    "    #print('RMSE:', rmse(train_labels, train_pred), rmse(test_labels, test_pred))\n",
    "    #print('LCC:', lcc(train_labels, train_pred), lcc(test_labels, test_pred))\n",
    "    #print('SROCC:', srocc(train_labels, train_pred), srocc(test_labels, test_pred))\n",
    "    #print('Accuracy:', accuracy(train_labels, train_pred), accuracy(test_labels, test_pred))\n",
    "    #print('\\n')\n",
    "    idx += 1\n",
    "    if idx % 10 == 0:\n",
    "        print(idx)"
   ]
  },
  {
   "cell_type": "code",
   "execution_count": 136,
   "metadata": {},
   "outputs": [],
   "source": [
    "label_pred_ave = label_pred_ave / label_count"
   ]
  },
  {
   "cell_type": "code",
   "execution_count": null,
   "metadata": {},
   "outputs": [],
   "source": []
  },
  {
   "cell_type": "code",
   "execution_count": 137,
   "metadata": {},
   "outputs": [
    {
     "name": "stdout",
     "output_type": "stream",
     "text": [
      "RMSE: 4.796723796869648\n",
      "LCC: 0.922594467393692\n",
      "SROCC: 0.9216685999203615\n",
      "Accuracy 0.9287005007629306\n"
     ]
    }
   ],
   "source": [
    "print('RMSE:', rmse(labels, label_pred_ave))\n",
    "print('LCC:', lcc(labels, label_pred_ave))\n",
    "print('SROCC:', srocc(labels, label_pred_ave))\n",
    "print('Accuracy', accuracy(labels, label_pred_ave))"
   ]
  },
  {
   "cell_type": "code",
   "execution_count": 138,
   "metadata": {},
   "outputs": [],
   "source": [
    "feature_importance = pd.DataFrame(final_model.feature_importances_, index=features.columns, columns=['Weight'])"
   ]
  },
  {
   "cell_type": "code",
   "execution_count": 139,
   "metadata": {},
   "outputs": [],
   "source": [
    "feature_importance = feature_importance.sort_values(by = 'Weight', ascending=False)"
   ]
  },
  {
   "cell_type": "code",
   "execution_count": 140,
   "metadata": {},
   "outputs": [
    {
     "data": {
      "text/html": [
       "<div>\n",
       "<style scoped>\n",
       "    .dataframe tbody tr th:only-of-type {\n",
       "        vertical-align: middle;\n",
       "    }\n",
       "\n",
       "    .dataframe tbody tr th {\n",
       "        vertical-align: top;\n",
       "    }\n",
       "\n",
       "    .dataframe thead th {\n",
       "        text-align: right;\n",
       "    }\n",
       "</style>\n",
       "<table border=\"1\" class=\"dataframe\">\n",
       "  <thead>\n",
       "    <tr style=\"text-align: right;\">\n",
       "      <th></th>\n",
       "      <th>Weight</th>\n",
       "    </tr>\n",
       "  </thead>\n",
       "  <tbody>\n",
       "    <tr>\n",
       "      <th>msssim</th>\n",
       "      <td>0.380318</td>\n",
       "    </tr>\n",
       "    <tr>\n",
       "      <th>TA</th>\n",
       "      <td>0.181886</td>\n",
       "    </tr>\n",
       "    <tr>\n",
       "      <th>psnrhvsm</th>\n",
       "      <td>0.150509</td>\n",
       "    </tr>\n",
       "    <tr>\n",
       "      <th>SA</th>\n",
       "      <td>0.046529</td>\n",
       "    </tr>\n",
       "    <tr>\n",
       "      <th>Noise</th>\n",
       "      <td>0.040862</td>\n",
       "    </tr>\n",
       "    <tr>\n",
       "      <th>Blur</th>\n",
       "      <td>0.034587</td>\n",
       "    </tr>\n",
       "    <tr>\n",
       "      <th>Interlace</th>\n",
       "      <td>0.032374</td>\n",
       "    </tr>\n",
       "    <tr>\n",
       "      <th>Flickering</th>\n",
       "      <td>0.028311</td>\n",
       "    </tr>\n",
       "    <tr>\n",
       "      <th>ssim</th>\n",
       "      <td>0.022061</td>\n",
       "    </tr>\n",
       "    <tr>\n",
       "      <th>Exposure(bri)</th>\n",
       "      <td>0.019179</td>\n",
       "    </tr>\n",
       "    <tr>\n",
       "      <th>Contrast</th>\n",
       "      <td>0.015221</td>\n",
       "    </tr>\n",
       "    <tr>\n",
       "      <th>Blockiness</th>\n",
       "      <td>0.013835</td>\n",
       "    </tr>\n",
       "    <tr>\n",
       "      <th>psnrhvs</th>\n",
       "      <td>0.013096</td>\n",
       "    </tr>\n",
       "    <tr>\n",
       "      <th>vifp</th>\n",
       "      <td>0.011880</td>\n",
       "    </tr>\n",
       "    <tr>\n",
       "      <th>psnr</th>\n",
       "      <td>0.009350</td>\n",
       "    </tr>\n",
       "  </tbody>\n",
       "</table>\n",
       "</div>"
      ],
      "text/plain": [
       "                 Weight\n",
       "msssim         0.380318\n",
       "TA             0.181886\n",
       "psnrhvsm       0.150509\n",
       "SA             0.046529\n",
       "Noise          0.040862\n",
       "Blur           0.034587\n",
       "Interlace      0.032374\n",
       "Flickering     0.028311\n",
       "ssim           0.022061\n",
       "Exposure(bri)  0.019179\n",
       "Contrast       0.015221\n",
       "Blockiness     0.013835\n",
       "psnrhvs        0.013096\n",
       "vifp           0.011880\n",
       "psnr           0.009350"
      ]
     },
     "execution_count": 140,
     "metadata": {},
     "output_type": "execute_result"
    }
   ],
   "source": [
    "feature_importance"
   ]
  },
  {
   "cell_type": "code",
   "execution_count": 141,
   "metadata": {},
   "outputs": [
    {
     "data": {
      "text/plain": [
       "<function matplotlib.pyplot.tight_layout(pad=1.08, h_pad=None, w_pad=None, rect=None)>"
      ]
     },
     "execution_count": 141,
     "metadata": {},
     "output_type": "execute_result"
    },
    {
     "data": {
      "image/png": "[encoded data removed]",
      "text/plain": [
       "<Figure size 1728x648 with 1 Axes>"
      ]
     },
     "metadata": {},
     "output_type": "display_data"
    }
   ],
   "source": [
    "fig, ax = plt.subplots(figsize = (24, 9))\n",
    "ax.bar(feature_importance.index, feature_importance['Weight'])\n",
    "plt.tight_layout"
   ]
  },
  {
   "cell_type": "code",
   "execution_count": 142,
   "metadata": {},
   "outputs": [],
   "source": [
    "features_augment = features.loc[:,['msssim', 'TA', 'psnrhvsm']]"
   ]
  },
  {
   "cell_type": "code",
   "execution_count": null,
   "metadata": {},
   "outputs": [],
   "source": []
  },
  {
   "cell_type": "code",
   "execution_count": null,
   "metadata": {},
   "outputs": [],
   "source": []
  },
  {
   "cell_type": "code",
   "execution_count": null,
   "metadata": {},
   "outputs": [],
   "source": []
  },
  {
   "cell_type": "code",
   "execution_count": null,
   "metadata": {},
   "outputs": [],
   "source": []
  },
  {
   "cell_type": "code",
   "execution_count": null,
   "metadata": {},
   "outputs": [],
   "source": []
  },
  {
   "cell_type": "code",
   "execution_count": null,
   "metadata": {},
   "outputs": [],
   "source": []
  },
  {
   "cell_type": "code",
   "execution_count": null,
   "metadata": {},
   "outputs": [],
   "source": []
  },
  {
   "cell_type": "code",
   "execution_count": null,
   "metadata": {},
   "outputs": [],
   "source": []
  },
  {
   "cell_type": "code",
   "execution_count": null,
   "metadata": {},
   "outputs": [],
   "source": []
  },
  {
   "cell_type": "code",
   "execution_count": null,
   "metadata": {},
   "outputs": [],
   "source": []
  },
  {
   "cell_type": "code",
   "execution_count": null,
   "metadata": {},
   "outputs": [],
   "source": []
  },
  {
   "cell_type": "code",
   "execution_count": null,
   "metadata": {},
   "outputs": [],
   "source": []
  },
  {
   "cell_type": "code",
   "execution_count": null,
   "metadata": {},
   "outputs": [],
   "source": []
  },
  {
   "cell_type": "code",
   "execution_count": null,
   "metadata": {},
   "outputs": [],
   "source": []
  },
  {
   "cell_type": "code",
   "execution_count": null,
   "metadata": {},
   "outputs": [],
   "source": []
  },
  {
   "cell_type": "code",
   "execution_count": null,
   "metadata": {},
   "outputs": [],
   "source": []
  },
  {
   "cell_type": "code",
   "execution_count": null,
   "metadata": {},
   "outputs": [],
   "source": []
  },
  {
   "cell_type": "code",
   "execution_count": null,
   "metadata": {},
   "outputs": [],
   "source": []
  },
  {
   "cell_type": "code",
   "execution_count": null,
   "metadata": {},
   "outputs": [],
   "source": []
  }
 ],
 "metadata": {
  "kernelspec": {
   "display_name": "Python 3",
   "language": "python",
   "name": "python3"
  },
  "language_info": {
   "codemirror_mode": {
    "name": "ipython",
    "version": 3
   },
   "file_extension": ".py",
   "mimetype": "text/x-python",
   "name": "python",
   "nbconvert_exporter": "python",
   "pygments_lexer": "ipython3",
   "version": "3.6.6"
  }
 },
 "nbformat": 4,
 "nbformat_minor": 2
}
