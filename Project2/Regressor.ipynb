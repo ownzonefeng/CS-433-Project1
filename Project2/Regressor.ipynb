{
 "cells": [
  {
   "cell_type": "code",
   "execution_count": 1,
   "metadata": {},
   "outputs": [],
   "source": [
    "import pandas as pd\n",
    "import numpy as np\n",
    "import os\n",
    "from sklearn.ensemble import RandomForestRegressor\n",
    "from sklearn.ensemble import RandomForestClassifier\n",
    "from sklearn.model_selection import GridSearchCV"
   ]
  },
  {
   "cell_type": "code",
   "execution_count": 2,
   "metadata": {},
   "outputs": [],
   "source": [
    "features = pd.read_pickle('features.pkl')\n",
    "labels = pd.read_pickle('labels.pkl')"
   ]
  },
  {
   "cell_type": "code",
   "execution_count": 3,
   "metadata": {},
   "outputs": [
    {
     "data": {
      "text/plain": [
       "Index(['G10BoatInPark_ERP_4096x2048_fps30_qp27_14547k.mp4',\n",
       "       'G10BoatInPark_ERP_4096x2048_fps30_qp37_3270k.mp4',\n",
       "       'G10BoatInPark_ERP_4096x2048_fps30_qp42_1507k.mp4',\n",
       "       'G10BodybuildingWorkout_ERP_7680x3840_fps29.97_qp27_6105k.mp4',\n",
       "       'G10BodybuildingWorkout_ERP_7680x3840_fps29.97_qp37_913k.mp4',\n",
       "       'G10BodybuildingWorkout_ERP_7680x3840_fps29.97_qp42_697k.mp4',\n",
       "       'G10BuddhaCave_ERP_4096x2048_fps30_qp27_1289k.mp4',\n",
       "       'G10BuddhaCave_ERP_4096x2048_fps30_qp37_236k.mp4',\n",
       "       'G10BuddhaCave_ERP_4096x2048_fps30_qp42_170k.mp4',\n",
       "       'G10DrivingInCountry_ERP_3840x1920_fps30_qp27_27706k.mp4',\n",
       "       ...\n",
       "       'G9DivingWithJellyfish_ERP_7680x3840_fps25_qp42_876k.mp4',\n",
       "       'G9DrivingInCity_ERP_3840x1920_fps30_qp27_11315k.mp4',\n",
       "       'G9DrivingInCity_ERP_3840x1920_fps30_qp37_2350k.mp4',\n",
       "       'G9DrivingInCity_ERP_3840x1920_fps30_qp42_1069k.mp4',\n",
       "       'G9FootballMatch_ERP_4096x2048_fps30_qp27_1529k.mp4',\n",
       "       'G9FootballMatch_ERP_4096x2048_fps30_qp37_220k.mp4',\n",
       "       'G9FootballMatch_ERP_4096x2048_fps30_qp42_288k.mp4',\n",
       "       'G9GreatWall_ERP_4096x2048_fps30_qp27_43911k.mp4',\n",
       "       'G9GreatWall_ERP_4096x2048_fps30_qp37_7750k.mp4',\n",
       "       'G9GreatWall_ERP_4096x2048_fps30_qp42_3096k.mp4'],\n",
       "      dtype='object', length=177)"
      ]
     },
     "execution_count": 3,
     "metadata": {},
     "output_type": "execute_result"
    }
   ],
   "source": [
    "labels.index"
   ]
  },
  {
   "cell_type": "code",
   "execution_count": 4,
   "metadata": {},
   "outputs": [
    {
     "data": {
      "text/plain": [
       "Index(['G10BoatInPark_ERP_4096x2048_fps30_qp27_14547k.mp4',\n",
       "       'G10BoatInPark_ERP_4096x2048_fps30_qp37_3270k.mp4',\n",
       "       'G10BoatInPark_ERP_4096x2048_fps30_qp42_1507k.mp4',\n",
       "       'G10BodybuildingWorkout_ERP_7680x3840_fps29.97_qp27_6105k.mp4',\n",
       "       'G10BodybuildingWorkout_ERP_7680x3840_fps29.97_qp37_913k.mp4',\n",
       "       'G10BodybuildingWorkout_ERP_7680x3840_fps29.97_qp42_697k.mp4',\n",
       "       'G10BuddhaCave_ERP_4096x2048_fps30_qp27_1289k.mp4',\n",
       "       'G10BuddhaCave_ERP_4096x2048_fps30_qp37_236k.mp4',\n",
       "       'G10BuddhaCave_ERP_4096x2048_fps30_qp42_170k.mp4',\n",
       "       'G10DrivingInCountry_ERP_3840x1920_fps30_qp27_27706k.mp4',\n",
       "       ...\n",
       "       'G9DivingWithJellyfish_ERP_7680x3840_fps25_qp42_876k.mp4',\n",
       "       'G9DrivingInCity_ERP_3840x1920_fps30_qp27_11315k.mp4',\n",
       "       'G9DrivingInCity_ERP_3840x1920_fps30_qp37_2350k.mp4',\n",
       "       'G9DrivingInCity_ERP_3840x1920_fps30_qp42_1069k.mp4',\n",
       "       'G9FootballMatch_ERP_4096x2048_fps30_qp27_1529k.mp4',\n",
       "       'G9FootballMatch_ERP_4096x2048_fps30_qp37_220k.mp4',\n",
       "       'G9FootballMatch_ERP_4096x2048_fps30_qp42_288k.mp4',\n",
       "       'G9GreatWall_ERP_4096x2048_fps30_qp27_43911k.mp4',\n",
       "       'G9GreatWall_ERP_4096x2048_fps30_qp37_7750k.mp4',\n",
       "       'G9GreatWall_ERP_4096x2048_fps30_qp42_3096k.mp4'],\n",
       "      dtype='object', length=177)"
      ]
     },
     "execution_count": 4,
     "metadata": {},
     "output_type": "execute_result"
    }
   ],
   "source": [
    "features.index"
   ]
  },
  {
   "cell_type": "code",
   "execution_count": 5,
   "metadata": {},
   "outputs": [],
   "source": [
    "Reg_video = RandomForestRegressor(random_state=8, n_jobs=-1)"
   ]
  },
  {
   "cell_type": "code",
   "execution_count": 26,
   "metadata": {},
   "outputs": [],
   "source": [
    "parameters_grid = {}"
   ]
  },
  {
   "cell_type": "code",
   "execution_count": 27,
   "metadata": {},
   "outputs": [],
   "source": [
    "parameters_grid['n_estimators'] = [int(x) for x in np.matlib.linspace(100,300,5)]\n",
    "parameters_grid['criterion'] = ['mse', 'mae']\n",
    "parameters_grid['max_depth'] = [int(x) for x in np.matlib.linspace(10,150,5)]\n",
    "parameters_grid['max_depth'].append(None)\n",
    "parameters_grid['min_samples_split'] = [2, 5, 10, 20]\n",
    "parameters_grid['min_samples_leaf'] = [1, 3, 10, 20]\n",
    "parameters_grid['max_features'] = ['auto', 'sqrt', 'log2']\n",
    "parameters_grid['bootstrap'] = [True, False]\n",
    "#parameters_grid['oob_score'] = [True, False]\n",
    "parameters_grid['verbose'] = [0, 1]"
   ]
  },
  {
   "cell_type": "code",
   "execution_count": 28,
   "metadata": {},
   "outputs": [
    {
     "data": {
      "text/plain": [
       "{'n_estimators': [100, 150, 200, 250, 300],\n",
       " 'criterion': ['mse', 'mae'],\n",
       " 'max_depth': [10, 45, 80, 115, 150, None],\n",
       " 'min_samples_split': [2, 5, 10, 20],\n",
       " 'min_samples_leaf': [1, 3, 10, 20],\n",
       " 'max_features': ['auto', 'sqrt', 'log2'],\n",
       " 'bootstrap': [True, False],\n",
       " 'verbose': [0, 1]}"
      ]
     },
     "execution_count": 28,
     "metadata": {},
     "output_type": "execute_result"
    }
   ],
   "source": [
    "parameters_grid"
   ]
  },
  {
   "cell_type": "code",
   "execution_count": 29,
   "metadata": {},
   "outputs": [],
   "source": [
    "parameters_grid_search = GridSearchCV(estimator = Reg_video, param_grid = parameters_grid, \n",
    "                          cv = 5, n_jobs = -1, verbose = 1, return_train_score=True)"
   ]
  },
  {
   "cell_type": "code",
   "execution_count": 30,
   "metadata": {},
   "outputs": [
    {
     "name": "stdout",
     "output_type": "stream",
     "text": [
      "Fitting 5 folds for each of 11520 candidates, totalling 57600 fits\n"
     ]
    },
    {
     "name": "stderr",
     "output_type": "stream",
     "text": [
      "[Parallel(n_jobs=-1)]: Using backend LokyBackend with 12 concurrent workers.\n",
      "[Parallel(n_jobs=-1)]: Done  26 tasks      | elapsed:    4.0s\n",
      "[Parallel(n_jobs=-1)]: Done 176 tasks      | elapsed:   14.2s\n",
      "[Parallel(n_jobs=-1)]: Done 426 tasks      | elapsed:   30.7s\n",
      "[Parallel(n_jobs=-1)]: Done 776 tasks      | elapsed:   50.2s\n",
      "[Parallel(n_jobs=-1)]: Done 1226 tasks      | elapsed:  1.3min\n",
      "[Parallel(n_jobs=-1)]: Done 1776 tasks      | elapsed:  1.7min\n",
      "[Parallel(n_jobs=-1)]: Done 2426 tasks      | elapsed:  2.3min\n",
      "[Parallel(n_jobs=-1)]: Done 3176 tasks      | elapsed:  3.1min\n",
      "[Parallel(n_jobs=-1)]: Done 4026 tasks      | elapsed:  3.9min\n",
      "[Parallel(n_jobs=-1)]: Done 4976 tasks      | elapsed:  4.8min\n",
      "[Parallel(n_jobs=-1)]: Done 6026 tasks      | elapsed:  5.8min\n",
      "[Parallel(n_jobs=-1)]: Done 7176 tasks      | elapsed:  6.8min\n",
      "[Parallel(n_jobs=-1)]: Done 8426 tasks      | elapsed:  8.1min\n",
      "[Parallel(n_jobs=-1)]: Done 9776 tasks      | elapsed:  9.3min\n",
      "[Parallel(n_jobs=-1)]: Done 11226 tasks      | elapsed: 10.7min\n",
      "[Parallel(n_jobs=-1)]: Done 12776 tasks      | elapsed: 12.2min\n",
      "[Parallel(n_jobs=-1)]: Done 14426 tasks      | elapsed: 13.8min\n",
      "[Parallel(n_jobs=-1)]: Done 16176 tasks      | elapsed: 17.9min\n",
      "[Parallel(n_jobs=-1)]: Done 18026 tasks      | elapsed: 22.2min\n",
      "[Parallel(n_jobs=-1)]: Done 19976 tasks      | elapsed: 26.4min\n",
      "[Parallel(n_jobs=-1)]: Done 22026 tasks      | elapsed: 30.6min\n",
      "[Parallel(n_jobs=-1)]: Done 24176 tasks      | elapsed: 34.7min\n",
      "[Parallel(n_jobs=-1)]: Done 26426 tasks      | elapsed: 38.9min\n",
      "[Parallel(n_jobs=-1)]: Done 28776 tasks      | elapsed: 43.7min\n",
      "[Parallel(n_jobs=-1)]: Done 31226 tasks      | elapsed: 46.2min\n",
      "[Parallel(n_jobs=-1)]: Done 33776 tasks      | elapsed: 49.0min\n",
      "[Parallel(n_jobs=-1)]: Done 36426 tasks      | elapsed: 51.9min\n",
      "[Parallel(n_jobs=-1)]: Done 39176 tasks      | elapsed: 54.8min\n",
      "[Parallel(n_jobs=-1)]: Done 42026 tasks      | elapsed: 57.7min\n",
      "[Parallel(n_jobs=-1)]: Done 44976 tasks      | elapsed: 65.8min\n",
      "[Parallel(n_jobs=-1)]: Done 48026 tasks      | elapsed: 75.0min\n",
      "[Parallel(n_jobs=-1)]: Done 51176 tasks      | elapsed: 87.8min\n",
      "[Parallel(n_jobs=-1)]: Done 54426 tasks      | elapsed: 97.8min\n",
      "[Parallel(n_jobs=-1)]: Done 57600 out of 57600 | elapsed: 107.5min finished\n",
      "/Users/wentao/anaconda3/lib/python3.6/site-packages/sklearn/model_selection/_search.py:841: DeprecationWarning: The default of the `iid` parameter will change from True to False in version 0.22 and will be removed in 0.24. This will change numeric results when test-set sizes are unequal.\n",
      "  DeprecationWarning)\n"
     ]
    },
    {
     "data": {
      "text/plain": [
       "GridSearchCV(cv=5, error_score='raise-deprecating',\n",
       "       estimator=RandomForestRegressor(bootstrap=True, criterion='mse', max_depth=None,\n",
       "           max_features='auto', max_leaf_nodes=None,\n",
       "           min_impurity_decrease=0.0, min_impurity_split=None,\n",
       "           min_samples_leaf=1, min_samples_split=2,\n",
       "           min_weight_fraction_leaf=0.0, n_estimators='warn', n_jobs=-1,\n",
       "           oob_score=False, random_state=8, verbose=0, warm_start=False),\n",
       "       fit_params=None, iid='warn', n_jobs=-1,\n",
       "       param_grid={'n_estimators': [100, 150, 200, 250, 300], 'criterion': ['mse', 'mae'], 'max_depth': [10, 45, 80, 115, 150, None], 'min_samples_split': [2, 5, 10, 20], 'min_samples_leaf': [1, 3, 10, 20], 'max_features': ['auto', 'sqrt', 'log2'], 'bootstrap': [True, False], 'verbose': [0, 1]},\n",
       "       pre_dispatch='2*n_jobs', refit=True, return_train_score=True,\n",
       "       scoring=None, verbose=1)"
      ]
     },
     "execution_count": 30,
     "metadata": {},
     "output_type": "execute_result"
    }
   ],
   "source": [
    "parameters_grid_search.fit(features, labels)"
   ]
  },
  {
   "cell_type": "code",
   "execution_count": 31,
   "metadata": {},
   "outputs": [
    {
     "data": {
      "text/plain": [
       "{'bootstrap': True,\n",
       " 'criterion': 'mse',\n",
       " 'max_depth': 10,\n",
       " 'max_features': 'auto',\n",
       " 'min_samples_leaf': 3,\n",
       " 'min_samples_split': 2,\n",
       " 'n_estimators': 150,\n",
       " 'verbose': 0}"
      ]
     },
     "execution_count": 31,
     "metadata": {},
     "output_type": "execute_result"
    }
   ],
   "source": [
    "parameters_grid_search.best_params_"
   ]
  },
  {
   "cell_type": "code",
   "execution_count": 63,
   "metadata": {},
   "outputs": [
    {
     "data": {
      "text/plain": [
       "['parameters_grid_search.sav']"
      ]
     },
     "execution_count": 63,
     "metadata": {},
     "output_type": "execute_result"
    }
   ],
   "source": [
    "import joblib\n",
    "joblib.dump(parameters_grid_search, 'parameters_grid_search.sav')"
   ]
  },
  {
   "cell_type": "code",
   "execution_count": 32,
   "metadata": {},
   "outputs": [],
   "source": [
    "from sklearn.model_selection import train_test_split"
   ]
  },
  {
   "cell_type": "code",
   "execution_count": 34,
   "metadata": {},
   "outputs": [],
   "source": [
    "train_features, test_features, train_labels, test_lables = train_test_split(features, labels, test_size = 0.2, random_state = 8)"
   ]
  },
  {
   "cell_type": "code",
   "execution_count": 36,
   "metadata": {},
   "outputs": [],
   "source": [
    "best_model = parameters_grid_search.best_estimator_.fit(train_features, train_labels)"
   ]
  },
  {
   "cell_type": "code",
   "execution_count": 37,
   "metadata": {},
   "outputs": [],
   "source": [
    "test_pred = best_model.predict(test_features)"
   ]
  },
  {
   "cell_type": "code",
   "execution_count": 39,
   "metadata": {},
   "outputs": [],
   "source": [
    "import sklearn.metrics as metrics"
   ]
  },
  {
   "cell_type": "code",
   "execution_count": 55,
   "metadata": {},
   "outputs": [],
   "source": [
    "def eva_model(y_true, y_pred):\n",
    "    error_ratio = abs(y_pred - y_true) / y_true\n",
    "    accuracy = 1 - np.mean(error_ratio)\n",
    "    mse = metrics.mean_squared_error(y_true, y_pred)\n",
    "    mae = metrics.mean_absolute_error(y_true, y_pred)\n",
    "    print('Accuracy {:2.2%}'.format(accuracy))\n",
    "    print('MSE {:2.2f}'.format(mse))\n",
    "    print('MAE {:2.2f}'.format(mae))\n",
    "    return accuracy, mse, mae"
   ]
  },
  {
   "cell_type": "code",
   "execution_count": 56,
   "metadata": {},
   "outputs": [
    {
     "name": "stdout",
     "output_type": "stream",
     "text": [
      "Accuracy 77.62%\n",
      "MSE 99.34\n",
      "MAE 7.97\n"
     ]
    }
   ],
   "source": [
    "accuray_best, mse_best, mae_best = eva_model(test_lables, test_pred)"
   ]
  },
  {
   "cell_type": "code",
   "execution_count": 66,
   "metadata": {},
   "outputs": [
    {
     "name": "stdout",
     "output_type": "stream",
     "text": [
      "27.865229354077403\n",
      "14.14616126942032\n",
      "5.1031742057527225\n",
      "13.531754861042891\n",
      "7.721759496471051\n",
      "10.894231514155202\n",
      "1.0622440177699914\n",
      "0.09155130394922395\n",
      "11.753870242524293\n",
      "7.855978068863045\n",
      "5.72328743136579\n",
      "7.896671638381157\n",
      "0.3405969378120304\n",
      "16.41320677418745\n",
      "8.599828604054224\n",
      "14.900882051587274\n",
      "10.601548109406792\n",
      "19.02895157837697\n",
      "15.955648854214196\n",
      "9.804492225531064\n",
      "1.9552834323658885\n",
      "7.759075363342653\n",
      "1.9244396100961794\n",
      "5.2019097729924795\n",
      "6.648652684333392\n",
      "0.7616687736935575\n",
      "0.1656295405275472\n",
      "1.58957808032671\n",
      "8.923879007817185\n",
      "4.080535955317927\n",
      "8.464433074652888\n",
      "10.401413500492048\n",
      "3.5844232604033053\n",
      "7.325838089083518\n",
      "3.5226052596107813\n",
      "5.301406690408712\n"
     ]
    }
   ],
   "source": [
    "for i in range(test_lables.shape[0]):\n",
    "    print(abs(test_lables[i] - test_pred[i]))"
   ]
  },
  {
   "cell_type": "code",
   "execution_count": null,
   "metadata": {},
   "outputs": [],
   "source": []
  }
 ],
 "metadata": {
  "kernelspec": {
   "display_name": "Python 3",
   "language": "python",
   "name": "python3"
  },
  "language_info": {
   "codemirror_mode": {
    "name": "ipython",
    "version": 3
   },
   "file_extension": ".py",
   "mimetype": "text/x-python",
   "name": "python",
   "nbconvert_exporter": "python",
   "pygments_lexer": "ipython3",
   "version": "3.6.6"
  }
 },
 "nbformat": 4,
 "nbformat_minor": 2
}
