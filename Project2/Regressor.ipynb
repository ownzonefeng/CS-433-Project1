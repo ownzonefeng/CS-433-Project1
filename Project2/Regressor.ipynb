{
 "cells": [
  {
   "cell_type": "code",
   "execution_count": 3,
   "metadata": {},
   "outputs": [],
   "source": [
    "import pandas as pd\n",
    "import numpy as np\n",
    "import os\n",
    "from sklearn.ensemble import RandomForestRegressor\n",
    "from sklearn.ensemble import RandomForestClassifier\n",
    "from sklearn.model_selection import GridSearchCV"
   ]
  },
  {
   "cell_type": "code",
   "execution_count": 12,
   "metadata": {},
   "outputs": [],
   "source": [
    "features = pd.read_pickle('features.pkl')\n",
    "labels = pd.read_pickle('labels.pkl')"
   ]
  },
  {
   "cell_type": "code",
   "execution_count": 13,
   "metadata": {},
   "outputs": [
    {
     "data": {
      "text/plain": [
       "Index(['G10BoatInPark_ERP_4096x2048_fps30_qp27_14547k.mp4',\n",
       "       'G10BoatInPark_ERP_4096x2048_fps30_qp37_3270k.mp4',\n",
       "       'G10BoatInPark_ERP_4096x2048_fps30_qp42_1507k.mp4',\n",
       "       'G10BodybuildingWorkout_ERP_7680x3840_fps29.97_qp27_6105k.mp4',\n",
       "       'G10BodybuildingWorkout_ERP_7680x3840_fps29.97_qp37_913k.mp4',\n",
       "       'G10BodybuildingWorkout_ERP_7680x3840_fps29.97_qp42_697k.mp4',\n",
       "       'G10BuddhaCave_ERP_4096x2048_fps30_qp27_1289k.mp4',\n",
       "       'G10BuddhaCave_ERP_4096x2048_fps30_qp37_236k.mp4',\n",
       "       'G10BuddhaCave_ERP_4096x2048_fps30_qp42_170k.mp4',\n",
       "       'G10DrivingInCountry_ERP_3840x1920_fps30_qp27_27706k.mp4',\n",
       "       ...\n",
       "       'G9DivingWithJellyfish_ERP_7680x3840_fps25_qp42_876k.mp4',\n",
       "       'G9DrivingInCity_ERP_3840x1920_fps30_qp27_11315k.mp4',\n",
       "       'G9DrivingInCity_ERP_3840x1920_fps30_qp37_2350k.mp4',\n",
       "       'G9DrivingInCity_ERP_3840x1920_fps30_qp42_1069k.mp4',\n",
       "       'G9FootballMatch_ERP_4096x2048_fps30_qp27_1529k.mp4',\n",
       "       'G9FootballMatch_ERP_4096x2048_fps30_qp37_220k.mp4',\n",
       "       'G9FootballMatch_ERP_4096x2048_fps30_qp42_288k.mp4',\n",
       "       'G9GreatWall_ERP_4096x2048_fps30_qp27_43911k.mp4',\n",
       "       'G9GreatWall_ERP_4096x2048_fps30_qp37_7750k.mp4',\n",
       "       'G9GreatWall_ERP_4096x2048_fps30_qp42_3096k.mp4'],\n",
       "      dtype='object', length=177)"
      ]
     },
     "execution_count": 13,
     "metadata": {},
     "output_type": "execute_result"
    }
   ],
   "source": [
    "labels.index"
   ]
  },
  {
   "cell_type": "code",
   "execution_count": 4,
   "metadata": {},
   "outputs": [
    {
     "data": {
      "text/plain": [
       "Index(['G10BoatInPark_ERP_4096x2048_fps30_qp27_14547k.mp4',\n",
       "       'G10BoatInPark_ERP_4096x2048_fps30_qp37_3270k.mp4',\n",
       "       'G10BoatInPark_ERP_4096x2048_fps30_qp42_1507k.mp4',\n",
       "       'G10BodybuildingWorkout_ERP_7680x3840_fps29.97_qp27_6105k.mp4',\n",
       "       'G10BodybuildingWorkout_ERP_7680x3840_fps29.97_qp37_913k.mp4',\n",
       "       'G10BodybuildingWorkout_ERP_7680x3840_fps29.97_qp42_697k.mp4',\n",
       "       'G10BuddhaCave_ERP_4096x2048_fps30_qp27_1289k.mp4',\n",
       "       'G10BuddhaCave_ERP_4096x2048_fps30_qp37_236k.mp4',\n",
       "       'G10BuddhaCave_ERP_4096x2048_fps30_qp42_170k.mp4',\n",
       "       'G10DrivingInCountry_ERP_3840x1920_fps30_qp27_27706k.mp4',\n",
       "       ...\n",
       "       'G9DivingWithJellyfish_ERP_7680x3840_fps25_qp42_876k.mp4',\n",
       "       'G9DrivingInCity_ERP_3840x1920_fps30_qp27_11315k.mp4',\n",
       "       'G9DrivingInCity_ERP_3840x1920_fps30_qp37_2350k.mp4',\n",
       "       'G9DrivingInCity_ERP_3840x1920_fps30_qp42_1069k.mp4',\n",
       "       'G9FootballMatch_ERP_4096x2048_fps30_qp27_1529k.mp4',\n",
       "       'G9FootballMatch_ERP_4096x2048_fps30_qp37_220k.mp4',\n",
       "       'G9FootballMatch_ERP_4096x2048_fps30_qp42_288k.mp4',\n",
       "       'G9GreatWall_ERP_4096x2048_fps30_qp27_43911k.mp4',\n",
       "       'G9GreatWall_ERP_4096x2048_fps30_qp37_7750k.mp4',\n",
       "       'G9GreatWall_ERP_4096x2048_fps30_qp42_3096k.mp4'],\n",
       "      dtype='object', length=177)"
      ]
     },
     "execution_count": 4,
     "metadata": {},
     "output_type": "execute_result"
    }
   ],
   "source": [
    "features.index"
   ]
  },
  {
   "cell_type": "code",
   "execution_count": 10,
   "metadata": {},
   "outputs": [],
   "source": [
    "Reg_video = RandomForestRegressor(random_state=8, n_jobs=-1)"
   ]
  },
  {
   "cell_type": "code",
   "execution_count": 26,
   "metadata": {},
   "outputs": [],
   "source": [
    "parameters_grid = {}"
   ]
  },
  {
   "cell_type": "code",
   "execution_count": 27,
   "metadata": {},
   "outputs": [],
   "source": [
    "parameters_grid['n_estimators'] = [int(x) for x in np.matlib.linspace(100,300,5)]\n",
    "parameters_grid['criterion'] = ['mse', 'mae']\n",
    "parameters_grid['max_depth'] = [int(x) for x in np.matlib.linspace(10,150,5)]\n",
    "parameters_grid['max_depth'].append(None)\n",
    "parameters_grid['min_samples_split'] = [2, 5, 10, 20]\n",
    "parameters_grid['min_samples_leaf'] = [1, 3, 10, 20]\n",
    "parameters_grid['max_features'] = ['auto', 'sqrt', 'log2']\n",
    "parameters_grid['bootstrap'] = [True, False]\n",
    "#parameters_grid['oob_score'] = [True, False]\n",
    "parameters_grid['verbose'] = [0, 1]"
   ]
  },
  {
   "cell_type": "code",
   "execution_count": 28,
   "metadata": {},
   "outputs": [
    {
     "data": {
      "text/plain": [
       "{'n_estimators': [100, 150, 200, 250, 300],\n",
       " 'criterion': ['mse', 'mae'],\n",
       " 'max_depth': [10, 45, 80, 115, 150, None],\n",
       " 'min_samples_split': [2, 5, 10, 20],\n",
       " 'min_samples_leaf': [1, 3, 10, 20],\n",
       " 'max_features': ['auto', 'sqrt', 'log2'],\n",
       " 'bootstrap': [True, False],\n",
       " 'verbose': [0, 1]}"
      ]
     },
     "execution_count": 28,
     "metadata": {},
     "output_type": "execute_result"
    }
   ],
   "source": [
    "parameters_grid"
   ]
  },
  {
   "cell_type": "code",
   "execution_count": 29,
   "metadata": {},
   "outputs": [],
   "source": [
    "parameters_grid_search = GridSearchCV(estimator = Reg_video, param_grid = parameters_grid, \n",
    "                          cv = 5, n_jobs = -1, verbose = 1, return_train_score=True)"
   ]
  },
  {
   "cell_type": "code",
   "execution_count": 30,
   "metadata": {},
   "outputs": [
    {
     "name": "stdout",
     "output_type": "stream",
     "text": [
      "Fitting 5 folds for each of 11520 candidates, totalling 57600 fits\n"
     ]
    },
    {
     "name": "stderr",
     "output_type": "stream",
     "text": [
      "[Parallel(n_jobs=-1)]: Using backend LokyBackend with 12 concurrent workers.\n",
      "[Parallel(n_jobs=-1)]: Done  26 tasks      | elapsed:    4.0s\n",
      "[Parallel(n_jobs=-1)]: Done 176 tasks      | elapsed:   14.2s\n",
      "[Parallel(n_jobs=-1)]: Done 426 tasks      | elapsed:   30.7s\n",
      "[Parallel(n_jobs=-1)]: Done 776 tasks      | elapsed:   50.2s\n",
      "[Parallel(n_jobs=-1)]: Done 1226 tasks      | elapsed:  1.3min\n",
      "[Parallel(n_jobs=-1)]: Done 1776 tasks      | elapsed:  1.7min\n",
      "[Parallel(n_jobs=-1)]: Done 2426 tasks      | elapsed:  2.3min\n",
      "[Parallel(n_jobs=-1)]: Done 3176 tasks      | elapsed:  3.1min\n",
      "[Parallel(n_jobs=-1)]: Done 4026 tasks      | elapsed:  3.9min\n",
      "[Parallel(n_jobs=-1)]: Done 4976 tasks      | elapsed:  4.8min\n",
      "[Parallel(n_jobs=-1)]: Done 6026 tasks      | elapsed:  5.8min\n",
      "[Parallel(n_jobs=-1)]: Done 7176 tasks      | elapsed:  6.8min\n",
      "[Parallel(n_jobs=-1)]: Done 8426 tasks      | elapsed:  8.1min\n",
      "[Parallel(n_jobs=-1)]: Done 9776 tasks      | elapsed:  9.3min\n",
      "[Parallel(n_jobs=-1)]: Done 11226 tasks      | elapsed: 10.7min\n",
      "[Parallel(n_jobs=-1)]: Done 12776 tasks      | elapsed: 12.2min\n",
      "[Parallel(n_jobs=-1)]: Done 14426 tasks      | elapsed: 13.8min\n",
      "[Parallel(n_jobs=-1)]: Done 16176 tasks      | elapsed: 17.9min\n",
      "[Parallel(n_jobs=-1)]: Done 18026 tasks      | elapsed: 22.2min\n",
      "[Parallel(n_jobs=-1)]: Done 19976 tasks      | elapsed: 26.4min\n",
      "[Parallel(n_jobs=-1)]: Done 22026 tasks      | elapsed: 30.6min\n",
      "[Parallel(n_jobs=-1)]: Done 24176 tasks      | elapsed: 34.7min\n",
      "[Parallel(n_jobs=-1)]: Done 26426 tasks      | elapsed: 38.9min\n",
      "[Parallel(n_jobs=-1)]: Done 28776 tasks      | elapsed: 43.7min\n",
      "[Parallel(n_jobs=-1)]: Done 31226 tasks      | elapsed: 46.2min\n",
      "[Parallel(n_jobs=-1)]: Done 33776 tasks      | elapsed: 49.0min\n",
      "[Parallel(n_jobs=-1)]: Done 36426 tasks      | elapsed: 51.9min\n",
      "[Parallel(n_jobs=-1)]: Done 39176 tasks      | elapsed: 54.8min\n",
      "[Parallel(n_jobs=-1)]: Done 42026 tasks      | elapsed: 57.7min\n",
      "[Parallel(n_jobs=-1)]: Done 44976 tasks      | elapsed: 65.8min\n",
      "[Parallel(n_jobs=-1)]: Done 48026 tasks      | elapsed: 75.0min\n",
      "[Parallel(n_jobs=-1)]: Done 51176 tasks      | elapsed: 87.8min\n",
      "[Parallel(n_jobs=-1)]: Done 54426 tasks      | elapsed: 97.8min\n",
      "[Parallel(n_jobs=-1)]: Done 57600 out of 57600 | elapsed: 107.5min finished\n",
      "/Users/wentao/anaconda3/lib/python3.6/site-packages/sklearn/model_selection/_search.py:841: DeprecationWarning: The default of the `iid` parameter will change from True to False in version 0.22 and will be removed in 0.24. This will change numeric results when test-set sizes are unequal.\n",
      "  DeprecationWarning)\n"
     ]
    },
    {
     "data": {
      "text/plain": [
       "GridSearchCV(cv=5, error_score='raise-deprecating',\n",
       "       estimator=RandomForestRegressor(bootstrap=True, criterion='mse', max_depth=None,\n",
       "           max_features='auto', max_leaf_nodes=None,\n",
       "           min_impurity_decrease=0.0, min_impurity_split=None,\n",
       "           min_samples_leaf=1, min_samples_split=2,\n",
       "           min_weight_fraction_leaf=0.0, n_estimators='warn', n_jobs=-1,\n",
       "           oob_score=False, random_state=8, verbose=0, warm_start=False),\n",
       "       fit_params=None, iid='warn', n_jobs=-1,\n",
       "       param_grid={'n_estimators': [100, 150, 200, 250, 300], 'criterion': ['mse', 'mae'], 'max_depth': [10, 45, 80, 115, 150, None], 'min_samples_split': [2, 5, 10, 20], 'min_samples_leaf': [1, 3, 10, 20], 'max_features': ['auto', 'sqrt', 'log2'], 'bootstrap': [True, False], 'verbose': [0, 1]},\n",
       "       pre_dispatch='2*n_jobs', refit=True, return_train_score=True,\n",
       "       scoring=None, verbose=1)"
      ]
     },
     "execution_count": 30,
     "metadata": {},
     "output_type": "execute_result"
    }
   ],
   "source": [
    "parameters_grid_search.fit(features, labels)"
   ]
  },
  {
   "cell_type": "code",
   "execution_count": 31,
   "metadata": {},
   "outputs": [
    {
     "data": {
      "text/plain": [
       "{'bootstrap': True,\n",
       " 'criterion': 'mse',\n",
       " 'max_depth': 10,\n",
       " 'max_features': 'auto',\n",
       " 'min_samples_leaf': 3,\n",
       " 'min_samples_split': 2,\n",
       " 'n_estimators': 150,\n",
       " 'verbose': 0}"
      ]
     },
     "execution_count": 31,
     "metadata": {},
     "output_type": "execute_result"
    }
   ],
   "source": [
    "parameters_grid_search.best_params_"
   ]
  },
  {
   "cell_type": "code",
   "execution_count": 21,
   "metadata": {},
   "outputs": [],
   "source": [
    "import joblib"
   ]
  },
  {
   "cell_type": "code",
   "execution_count": 63,
   "metadata": {},
   "outputs": [
    {
     "data": {
      "text/plain": [
       "['parameters_grid_search.sav']"
      ]
     },
     "execution_count": 63,
     "metadata": {},
     "output_type": "execute_result"
    }
   ],
   "source": [
    "joblib.dump(parameters_grid_search, 'parameters_grid_search.sav')"
   ]
  },
  {
   "cell_type": "code",
   "execution_count": 35,
   "metadata": {},
   "outputs": [],
   "source": [
    "from sklearn.model_selection import train_test_split"
   ]
  },
  {
   "cell_type": "code",
   "execution_count": 36,
   "metadata": {},
   "outputs": [],
   "source": [
    "train_features, test_features, train_labels, test_lables = train_test_split(features, labels, test_size = 0.2, random_state = 8)"
   ]
  },
  {
   "cell_type": "code",
   "execution_count": 37,
   "metadata": {},
   "outputs": [],
   "source": [
    "import sklearn.metrics as metrics"
   ]
  },
  {
   "cell_type": "code",
   "execution_count": 43,
   "metadata": {},
   "outputs": [],
   "source": [
    "def eva_model(y_true, y_pred):\n",
    "    error_ratio = abs(y_pred - y_true) / y_true\n",
    "    accuracy = 1 - np.mean(error_ratio)\n",
    "    mse = metrics.mean_squared_error(y_true, y_pred)\n",
    "    mae = metrics.mean_absolute_error(y_true, y_pred)\n",
    "    print('Accuracy {:2.2%}'.format(accuracy))\n",
    "    print('MSE {:2.2f}'.format(mse))\n",
    "    print('MAE {:2.2f}'.format(mae))\n",
    "    return [accuracy, mse, mae]"
   ]
  },
  {
   "cell_type": "code",
   "execution_count": 15,
   "metadata": {},
   "outputs": [],
   "source": [
    "parameters_grid_2nd = {}"
   ]
  },
  {
   "cell_type": "code",
   "execution_count": 16,
   "metadata": {},
   "outputs": [],
   "source": [
    "parameters_grid_2nd['n_estimators'] = [int(x) for x in np.matlib.linspace(125,199,5)]\n",
    "parameters_grid_2nd['n_estimators'].append(150)\n",
    "parameters_grid_2nd['criterion'] = ['mse']\n",
    "parameters_grid_2nd['max_depth'] = [int(x) for x in np.matlib.linspace(5,44,5)]\n",
    "parameters_grid_2nd['max_depth'].append(10)\n",
    "parameters_grid_2nd['min_samples_split'] = [2, 3, 4, 6, 7]\n",
    "parameters_grid_2nd['min_samples_leaf'] = [2, 3, 4, 5, 6, 7]\n",
    "parameters_grid_2nd['max_features'] = ['auto']\n",
    "parameters_grid_2nd['bootstrap'] = [True]\n",
    "parameters_grid_2nd['oob_score'] = [True, False]\n",
    "parameters_grid_2nd['verbose'] = [0, 1]"
   ]
  },
  {
   "cell_type": "code",
   "execution_count": 17,
   "metadata": {},
   "outputs": [
    {
     "data": {
      "text/plain": [
       "{'n_estimators': [125, 143, 162, 180, 199, 150],\n",
       " 'criterion': ['mse'],\n",
       " 'max_depth': [5, 14, 24, 34, 44, 10],\n",
       " 'min_samples_split': [2, 3, 4, 6, 7],\n",
       " 'min_samples_leaf': [2, 3, 4, 5, 6, 7],\n",
       " 'max_features': ['auto'],\n",
       " 'bootstrap': [True],\n",
       " 'oob_score': [True, False],\n",
       " 'verbose': [0, 1]}"
      ]
     },
     "execution_count": 17,
     "metadata": {},
     "output_type": "execute_result"
    }
   ],
   "source": [
    "parameters_grid_2nd"
   ]
  },
  {
   "cell_type": "code",
   "execution_count": 18,
   "metadata": {},
   "outputs": [],
   "source": [
    "parameters_grid_search_2nd = GridSearchCV(estimator = Reg_video, param_grid = parameters_grid_2nd, \n",
    "                          cv = 5, n_jobs = -1, verbose = 1, return_train_score=True)"
   ]
  },
  {
   "cell_type": "code",
   "execution_count": 19,
   "metadata": {},
   "outputs": [
    {
     "name": "stdout",
     "output_type": "stream",
     "text": [
      "Fitting 5 folds for each of 4320 candidates, totalling 21600 fits\n"
     ]
    },
    {
     "name": "stderr",
     "output_type": "stream",
     "text": [
      "[Parallel(n_jobs=-1)]: Using backend LokyBackend with 12 concurrent workers.\n",
      "[Parallel(n_jobs=-1)]: Done  26 tasks      | elapsed:    3.4s\n",
      "[Parallel(n_jobs=-1)]: Done 176 tasks      | elapsed:   11.5s\n",
      "[Parallel(n_jobs=-1)]: Done 426 tasks      | elapsed:   25.9s\n",
      "[Parallel(n_jobs=-1)]: Done 776 tasks      | elapsed:   46.1s\n",
      "[Parallel(n_jobs=-1)]: Done 1226 tasks      | elapsed:  1.2min\n",
      "[Parallel(n_jobs=-1)]: Done 1776 tasks      | elapsed:  1.7min\n",
      "[Parallel(n_jobs=-1)]: Done 2426 tasks      | elapsed:  2.4min\n",
      "[Parallel(n_jobs=-1)]: Done 3176 tasks      | elapsed:  3.0min\n",
      "[Parallel(n_jobs=-1)]: Done 4026 tasks      | elapsed:  3.9min\n",
      "[Parallel(n_jobs=-1)]: Done 4976 tasks      | elapsed:  4.9min\n",
      "[Parallel(n_jobs=-1)]: Done 6026 tasks      | elapsed:  5.9min\n",
      "[Parallel(n_jobs=-1)]: Done 7176 tasks      | elapsed:  7.0min\n",
      "[Parallel(n_jobs=-1)]: Done 8426 tasks      | elapsed:  8.3min\n",
      "[Parallel(n_jobs=-1)]: Done 9776 tasks      | elapsed:  9.5min\n",
      "[Parallel(n_jobs=-1)]: Done 11226 tasks      | elapsed: 11.0min\n",
      "[Parallel(n_jobs=-1)]: Done 12776 tasks      | elapsed: 12.6min\n",
      "[Parallel(n_jobs=-1)]: Done 14426 tasks      | elapsed: 14.1min\n",
      "[Parallel(n_jobs=-1)]: Done 16176 tasks      | elapsed: 16.0min\n",
      "[Parallel(n_jobs=-1)]: Done 18026 tasks      | elapsed: 17.7min\n",
      "[Parallel(n_jobs=-1)]: Done 19976 tasks      | elapsed: 19.8min\n",
      "[Parallel(n_jobs=-1)]: Done 21600 out of 21600 | elapsed: 21.4min finished\n",
      "/Users/wentao/anaconda3/lib/python3.6/site-packages/sklearn/model_selection/_search.py:841: DeprecationWarning: The default of the `iid` parameter will change from True to False in version 0.22 and will be removed in 0.24. This will change numeric results when test-set sizes are unequal.\n",
      "  DeprecationWarning)\n"
     ]
    },
    {
     "data": {
      "text/plain": [
       "GridSearchCV(cv=5, error_score='raise-deprecating',\n",
       "       estimator=RandomForestRegressor(bootstrap=True, criterion='mse', max_depth=None,\n",
       "           max_features='auto', max_leaf_nodes=None,\n",
       "           min_impurity_decrease=0.0, min_impurity_split=None,\n",
       "           min_samples_leaf=1, min_samples_split=2,\n",
       "           min_weight_fraction_leaf=0.0, n_estimators='warn', n_jobs=-1,\n",
       "           oob_score=False, random_state=8, verbose=0, warm_start=False),\n",
       "       fit_params=None, iid='warn', n_jobs=-1,\n",
       "       param_grid={'n_estimators': [125, 143, 162, 180, 199, 150], 'criterion': ['mse'], 'max_depth': [5, 14, 24, 34, 44, 10], 'min_samples_split': [2, 3, 4, 6, 7], 'min_samples_leaf': [2, 3, 4, 5, 6, 7], 'max_features': ['auto'], 'bootstrap': [True], 'oob_score': [True, False], 'verbose': [0, 1]},\n",
       "       pre_dispatch='2*n_jobs', refit=True, return_train_score=True,\n",
       "       scoring=None, verbose=1)"
      ]
     },
     "execution_count": 19,
     "metadata": {},
     "output_type": "execute_result"
    }
   ],
   "source": [
    "parameters_grid_search_2nd.fit(features, labels)"
   ]
  },
  {
   "cell_type": "code",
   "execution_count": 20,
   "metadata": {},
   "outputs": [
    {
     "data": {
      "text/plain": [
       "{'bootstrap': True,\n",
       " 'criterion': 'mse',\n",
       " 'max_depth': 10,\n",
       " 'max_features': 'auto',\n",
       " 'min_samples_leaf': 3,\n",
       " 'min_samples_split': 2,\n",
       " 'n_estimators': 162,\n",
       " 'oob_score': True,\n",
       " 'verbose': 0}"
      ]
     },
     "execution_count": 20,
     "metadata": {},
     "output_type": "execute_result"
    }
   ],
   "source": [
    "parameters_grid_search_2nd.best_params_"
   ]
  },
  {
   "cell_type": "code",
   "execution_count": 22,
   "metadata": {},
   "outputs": [
    {
     "data": {
      "text/plain": [
       "['parameters_grid_search_2nd.sav']"
      ]
     },
     "execution_count": 22,
     "metadata": {},
     "output_type": "execute_result"
    }
   ],
   "source": [
    "joblib.dump(parameters_grid_search_2nd, 'parameters_grid_search_2nd.sav')"
   ]
  },
  {
   "cell_type": "code",
   "execution_count": 26,
   "metadata": {},
   "outputs": [],
   "source": [
    "parameters_grid_3rd = {}"
   ]
  },
  {
   "cell_type": "code",
   "execution_count": 29,
   "metadata": {},
   "outputs": [],
   "source": [
    "parameters_grid_3rd['n_estimators'] = [int(x) for x in np.matlib.linspace(151,179,29)]\n",
    "parameters_grid_3rd['criterion'] = ['mse']\n",
    "parameters_grid_3rd['max_depth'] = [10]\n",
    "parameters_grid_3rd['min_samples_split'] = [3]\n",
    "parameters_grid_3rd['min_samples_leaf'] = [2]\n",
    "parameters_grid_3rd['max_features'] = ['auto']\n",
    "parameters_grid_3rd['bootstrap'] = [True]\n",
    "parameters_grid_3rd['oob_score'] = [True]\n",
    "parameters_grid_3rd['verbose'] = [0]"
   ]
  },
  {
   "cell_type": "code",
   "execution_count": 30,
   "metadata": {},
   "outputs": [
    {
     "data": {
      "text/plain": [
       "{'n_estimators': [151,\n",
       "  152,\n",
       "  153,\n",
       "  154,\n",
       "  155,\n",
       "  156,\n",
       "  157,\n",
       "  158,\n",
       "  159,\n",
       "  160,\n",
       "  161,\n",
       "  162,\n",
       "  163,\n",
       "  164,\n",
       "  165,\n",
       "  166,\n",
       "  167,\n",
       "  168,\n",
       "  169,\n",
       "  170,\n",
       "  171,\n",
       "  172,\n",
       "  173,\n",
       "  174,\n",
       "  175,\n",
       "  176,\n",
       "  177,\n",
       "  178,\n",
       "  179],\n",
       " 'criterion': ['mse'],\n",
       " 'max_depth': [10],\n",
       " 'min_samples_split': [3],\n",
       " 'min_samples_leaf': [2],\n",
       " 'max_features': ['auto'],\n",
       " 'bootstrap': [True],\n",
       " 'oob_score': [True],\n",
       " 'verbose': [0]}"
      ]
     },
     "execution_count": 30,
     "metadata": {},
     "output_type": "execute_result"
    }
   ],
   "source": [
    "parameters_grid_3rd"
   ]
  },
  {
   "cell_type": "code",
   "execution_count": 31,
   "metadata": {},
   "outputs": [],
   "source": [
    "parameters_grid_search_3rd = GridSearchCV(estimator = Reg_video, param_grid = parameters_grid_3rd, \n",
    "                          cv = 5, n_jobs = -1, verbose = 1, return_train_score=True)"
   ]
  },
  {
   "cell_type": "code",
   "execution_count": 32,
   "metadata": {},
   "outputs": [
    {
     "name": "stdout",
     "output_type": "stream",
     "text": [
      "Fitting 5 folds for each of 29 candidates, totalling 145 fits\n"
     ]
    },
    {
     "name": "stderr",
     "output_type": "stream",
     "text": [
      "[Parallel(n_jobs=-1)]: Using backend LokyBackend with 12 concurrent workers.\n",
      "[Parallel(n_jobs=-1)]: Done  26 tasks      | elapsed:    4.7s\n",
      "[Parallel(n_jobs=-1)]: Done 145 out of 145 | elapsed:   11.9s finished\n",
      "/Users/wentao/anaconda3/lib/python3.6/site-packages/sklearn/model_selection/_search.py:841: DeprecationWarning: The default of the `iid` parameter will change from True to False in version 0.22 and will be removed in 0.24. This will change numeric results when test-set sizes are unequal.\n",
      "  DeprecationWarning)\n"
     ]
    },
    {
     "data": {
      "text/plain": [
       "GridSearchCV(cv=5, error_score='raise-deprecating',\n",
       "       estimator=RandomForestRegressor(bootstrap=True, criterion='mse', max_depth=None,\n",
       "           max_features='auto', max_leaf_nodes=None,\n",
       "           min_impurity_decrease=0.0, min_impurity_split=None,\n",
       "           min_samples_leaf=1, min_samples_split=2,\n",
       "           min_weight_fraction_leaf=0.0, n_estimators='warn', n_jobs=-1,\n",
       "           oob_score=False, random_state=8, verbose=0, warm_start=False),\n",
       "       fit_params=None, iid='warn', n_jobs=-1,\n",
       "       param_grid={'n_estimators': [151, 152, 153, 154, 155, 156, 157, 158, 159, 160, 161, 162, 163, 164, 165, 166, 167, 168, 169, 170, 171, 172, 173, 174, 175, 176, 177, 178, 179], 'criterion': ['mse'], 'max_depth': [10], 'min_samples_split': [3], 'min_samples_leaf': [2], 'max_features': ['auto'], 'bootstrap': [True], 'oob_score': [True], 'verbose': [0]},\n",
       "       pre_dispatch='2*n_jobs', refit=True, return_train_score=True,\n",
       "       scoring=None, verbose=1)"
      ]
     },
     "execution_count": 32,
     "metadata": {},
     "output_type": "execute_result"
    }
   ],
   "source": [
    "parameters_grid_search_3rd.fit(features, labels)"
   ]
  },
  {
   "cell_type": "code",
   "execution_count": 33,
   "metadata": {},
   "outputs": [
    {
     "data": {
      "text/plain": [
       "{'bootstrap': True,\n",
       " 'criterion': 'mse',\n",
       " 'max_depth': 10,\n",
       " 'max_features': 'auto',\n",
       " 'min_samples_leaf': 2,\n",
       " 'min_samples_split': 3,\n",
       " 'n_estimators': 162,\n",
       " 'oob_score': True,\n",
       " 'verbose': 0}"
      ]
     },
     "execution_count": 33,
     "metadata": {},
     "output_type": "execute_result"
    }
   ],
   "source": [
    "parameters_grid_search_3rd.best_params_"
   ]
  },
  {
   "cell_type": "code",
   "execution_count": 34,
   "metadata": {},
   "outputs": [
    {
     "data": {
      "text/plain": [
       "['parameters_grid_search_3rd.sav']"
      ]
     },
     "execution_count": 34,
     "metadata": {},
     "output_type": "execute_result"
    }
   ],
   "source": [
    "joblib.dump(parameters_grid_search_3rd,'parameters_grid_search_3rd.sav')"
   ]
  },
  {
   "cell_type": "code",
   "execution_count": 39,
   "metadata": {},
   "outputs": [],
   "source": [
    "best_model = parameters_grid_search_3rd.best_estimator_.fit(train_features, train_labels)"
   ]
  },
  {
   "cell_type": "code",
   "execution_count": 40,
   "metadata": {},
   "outputs": [],
   "source": [
    "train_pred = best_model.predict(train_features)\n",
    "test_pred = best_model.predict(test_features)"
   ]
  },
  {
   "cell_type": "code",
   "execution_count": 44,
   "metadata": {},
   "outputs": [
    {
     "name": "stdout",
     "output_type": "stream",
     "text": [
      "Accuracy 93.42%\n",
      "MSE 14.62\n",
      "MAE 2.86\n"
     ]
    }
   ],
   "source": [
    "_ = eva_model(train_labels, train_pred)"
   ]
  },
  {
   "cell_type": "code",
   "execution_count": 45,
   "metadata": {},
   "outputs": [
    {
     "name": "stdout",
     "output_type": "stream",
     "text": [
      "Accuracy 77.23%\n",
      "MSE 100.73\n",
      "MAE 8.11\n"
     ]
    }
   ],
   "source": [
    "_ = eva_model(test_lables, test_pred)"
   ]
  },
  {
   "cell_type": "code",
   "execution_count": null,
   "metadata": {},
   "outputs": [],
   "source": []
  }
 ],
 "metadata": {
  "kernelspec": {
   "display_name": "Python 3",
   "language": "python",
   "name": "python3"
  },
  "language_info": {
   "codemirror_mode": {
    "name": "ipython",
    "version": 3
   },
   "file_extension": ".py",
   "mimetype": "text/x-python",
   "name": "python",
   "nbconvert_exporter": "python",
   "pygments_lexer": "ipython3",
   "version": "3.6.6"
  }
 },
 "nbformat": 4,
 "nbformat_minor": 2
}
