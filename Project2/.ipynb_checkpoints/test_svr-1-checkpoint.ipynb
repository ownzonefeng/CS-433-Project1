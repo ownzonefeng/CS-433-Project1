{
 "cells": [
  {
   "cell_type": "code",
   "execution_count": 1,
   "metadata": {},
   "outputs": [],
   "source": [
    "import pandas as pd\n",
    "import numpy as np\n",
    "import sklearn\n",
    "import matplotlib as mpl\n",
    "import matplotlib.pyplot as plt\n",
    "from sklearn.decomposition import PCA\n",
    "import sklearn.metrics as metrics\n"
   ]
  },
  {
   "cell_type": "code",
   "execution_count": 2,
   "metadata": {},
   "outputs": [],
   "source": [
    "from sklearn import svm\n",
    "from sklearn import multiclass "
   ]
  },
  {
   "cell_type": "code",
   "execution_count": 3,
   "metadata": {},
   "outputs": [],
   "source": [
    "from sklearn import preprocessing\n",
    "from sklearn import utils"
   ]
  },
  {
   "cell_type": "code",
   "execution_count": 4,
   "metadata": {},
   "outputs": [],
   "source": [
    "from sklearn.model_selection import train_test_split\n",
    "from sklearn import datasets\n",
    "from sklearn.model_selection import cross_val_score\n",
    "from sklearn.model_selection import GridSearchCV"
   ]
  },
  {
   "cell_type": "code",
   "execution_count": 5,
   "metadata": {},
   "outputs": [],
   "source": [
    "dataset_socres = pd.read_pickle('labels.pkl')\n",
    "nr_metrics = pd.read_pickle('features.pkl')\n",
    "nr_old=pd.read_pickle('nr_metrics.pkl')"
   ]
  },
  {
   "cell_type": "code",
   "execution_count": 6,
   "metadata": {},
   "outputs": [
    {
     "data": {
      "text/html": [
       "<div>\n",
       "<style scoped>\n",
       "    .dataframe tbody tr th:only-of-type {\n",
       "        vertical-align: middle;\n",
       "    }\n",
       "\n",
       "    .dataframe tbody tr th {\n",
       "        vertical-align: top;\n",
       "    }\n",
       "\n",
       "    .dataframe thead th {\n",
       "        text-align: right;\n",
       "    }\n",
       "</style>\n",
       "<table border=\"1\" class=\"dataframe\">\n",
       "  <thead>\n",
       "    <tr style=\"text-align: right;\">\n",
       "      <th></th>\n",
       "      <th>max_msssim</th>\n",
       "      <th>max_psnr</th>\n",
       "      <th>max_psnrhvs</th>\n",
       "      <th>max_psnrhvsm</th>\n",
       "      <th>max_ssim</th>\n",
       "      <th>max_vifp</th>\n",
       "      <th>mean_msssim</th>\n",
       "      <th>mean_psnr</th>\n",
       "      <th>mean_psnrhvs</th>\n",
       "      <th>mean_psnrhvsm</th>\n",
       "      <th>...</th>\n",
       "      <th>std_Blur</th>\n",
       "      <th>std_Contrast</th>\n",
       "      <th>std_Exposure(bri)</th>\n",
       "      <th>std_Flickering</th>\n",
       "      <th>std_Interlace</th>\n",
       "      <th>std_Letterbox</th>\n",
       "      <th>std_Noise</th>\n",
       "      <th>std_Pillarbox</th>\n",
       "      <th>std_SA</th>\n",
       "      <th>std_TA</th>\n",
       "    </tr>\n",
       "  </thead>\n",
       "  <tbody>\n",
       "    <tr>\n",
       "      <th>G10BoatInPark_ERP_4096x2048_fps30_qp27_14547k.mp4</th>\n",
       "      <td>0.997392</td>\n",
       "      <td>46.133789</td>\n",
       "      <td>44.279213</td>\n",
       "      <td>50.718632</td>\n",
       "      <td>0.995475</td>\n",
       "      <td>0.891705</td>\n",
       "      <td>0.993421</td>\n",
       "      <td>41.796802</td>\n",
       "      <td>39.355793</td>\n",
       "      <td>43.768754</td>\n",
       "      <td>...</td>\n",
       "      <td>0.673493</td>\n",
       "      <td>0.923127</td>\n",
       "      <td>0.161376</td>\n",
       "      <td>0.555076</td>\n",
       "      <td>0.001677</td>\n",
       "      <td>0.0</td>\n",
       "      <td>0.053726</td>\n",
       "      <td>0.0</td>\n",
       "      <td>8.573505</td>\n",
       "      <td>3.692404</td>\n",
       "    </tr>\n",
       "    <tr>\n",
       "      <th>G10BoatInPark_ERP_4096x2048_fps30_qp37_3270k.mp4</th>\n",
       "      <td>0.989167</td>\n",
       "      <td>40.454590</td>\n",
       "      <td>37.767975</td>\n",
       "      <td>41.375046</td>\n",
       "      <td>0.986984</td>\n",
       "      <td>0.782142</td>\n",
       "      <td>0.978148</td>\n",
       "      <td>37.008199</td>\n",
       "      <td>34.024982</td>\n",
       "      <td>36.471304</td>\n",
       "      <td>...</td>\n",
       "      <td>0.738179</td>\n",
       "      <td>0.914809</td>\n",
       "      <td>0.454140</td>\n",
       "      <td>0.555547</td>\n",
       "      <td>0.000423</td>\n",
       "      <td>0.0</td>\n",
       "      <td>0.005880</td>\n",
       "      <td>0.0</td>\n",
       "      <td>8.647012</td>\n",
       "      <td>3.725965</td>\n",
       "    </tr>\n",
       "    <tr>\n",
       "      <th>G10BoatInPark_ERP_4096x2048_fps30_qp42_1507k.mp4</th>\n",
       "      <td>0.988243</td>\n",
       "      <td>39.480148</td>\n",
       "      <td>36.625156</td>\n",
       "      <td>39.592644</td>\n",
       "      <td>0.983493</td>\n",
       "      <td>0.777223</td>\n",
       "      <td>0.959902</td>\n",
       "      <td>34.488414</td>\n",
       "      <td>31.374308</td>\n",
       "      <td>33.145878</td>\n",
       "      <td>...</td>\n",
       "      <td>0.778477</td>\n",
       "      <td>0.910941</td>\n",
       "      <td>0.665406</td>\n",
       "      <td>0.547511</td>\n",
       "      <td>0.000416</td>\n",
       "      <td>0.0</td>\n",
       "      <td>0.000718</td>\n",
       "      <td>0.0</td>\n",
       "      <td>8.553970</td>\n",
       "      <td>3.747884</td>\n",
       "    </tr>\n",
       "    <tr>\n",
       "      <th>G10BodybuildingWorkout_ERP_7680x3840_fps29.97_qp27_6105k.mp4</th>\n",
       "      <td>0.998561</td>\n",
       "      <td>48.881790</td>\n",
       "      <td>46.440197</td>\n",
       "      <td>52.151497</td>\n",
       "      <td>0.998019</td>\n",
       "      <td>0.935969</td>\n",
       "      <td>0.997337</td>\n",
       "      <td>46.696109</td>\n",
       "      <td>44.047773</td>\n",
       "      <td>48.487592</td>\n",
       "      <td>...</td>\n",
       "      <td>0.115909</td>\n",
       "      <td>0.380451</td>\n",
       "      <td>0.000000</td>\n",
       "      <td>0.568286</td>\n",
       "      <td>0.000138</td>\n",
       "      <td>0.0</td>\n",
       "      <td>0.288068</td>\n",
       "      <td>0.0</td>\n",
       "      <td>0.109267</td>\n",
       "      <td>1.117525</td>\n",
       "    </tr>\n",
       "    <tr>\n",
       "      <th>G10BodybuildingWorkout_ERP_7680x3840_fps29.97_qp37_913k.mp4</th>\n",
       "      <td>0.997163</td>\n",
       "      <td>45.922199</td>\n",
       "      <td>43.115520</td>\n",
       "      <td>47.492256</td>\n",
       "      <td>0.996843</td>\n",
       "      <td>0.906730</td>\n",
       "      <td>0.993474</td>\n",
       "      <td>42.361416</td>\n",
       "      <td>39.457154</td>\n",
       "      <td>42.041170</td>\n",
       "      <td>...</td>\n",
       "      <td>0.134619</td>\n",
       "      <td>0.366843</td>\n",
       "      <td>0.861126</td>\n",
       "      <td>0.514013</td>\n",
       "      <td>0.000782</td>\n",
       "      <td>0.0</td>\n",
       "      <td>0.008493</td>\n",
       "      <td>0.0</td>\n",
       "      <td>0.172757</td>\n",
       "      <td>1.132522</td>\n",
       "    </tr>\n",
       "  </tbody>\n",
       "</table>\n",
       "<p>5 rows × 60 columns</p>\n",
       "</div>"
      ],
      "text/plain": [
       "                                                    max_msssim   max_psnr  \\\n",
       "G10BoatInPark_ERP_4096x2048_fps30_qp27_14547k.mp4     0.997392  46.133789   \n",
       "G10BoatInPark_ERP_4096x2048_fps30_qp37_3270k.mp4      0.989167  40.454590   \n",
       "G10BoatInPark_ERP_4096x2048_fps30_qp42_1507k.mp4      0.988243  39.480148   \n",
       "G10BodybuildingWorkout_ERP_7680x3840_fps29.97_q...    0.998561  48.881790   \n",
       "G10BodybuildingWorkout_ERP_7680x3840_fps29.97_q...    0.997163  45.922199   \n",
       "\n",
       "                                                    max_psnrhvs  max_psnrhvsm  \\\n",
       "G10BoatInPark_ERP_4096x2048_fps30_qp27_14547k.mp4     44.279213     50.718632   \n",
       "G10BoatInPark_ERP_4096x2048_fps30_qp37_3270k.mp4      37.767975     41.375046   \n",
       "G10BoatInPark_ERP_4096x2048_fps30_qp42_1507k.mp4      36.625156     39.592644   \n",
       "G10BodybuildingWorkout_ERP_7680x3840_fps29.97_q...    46.440197     52.151497   \n",
       "G10BodybuildingWorkout_ERP_7680x3840_fps29.97_q...    43.115520     47.492256   \n",
       "\n",
       "                                                    max_ssim  max_vifp  \\\n",
       "G10BoatInPark_ERP_4096x2048_fps30_qp27_14547k.mp4   0.995475  0.891705   \n",
       "G10BoatInPark_ERP_4096x2048_fps30_qp37_3270k.mp4    0.986984  0.782142   \n",
       "G10BoatInPark_ERP_4096x2048_fps30_qp42_1507k.mp4    0.983493  0.777223   \n",
       "G10BodybuildingWorkout_ERP_7680x3840_fps29.97_q...  0.998019  0.935969   \n",
       "G10BodybuildingWorkout_ERP_7680x3840_fps29.97_q...  0.996843  0.906730   \n",
       "\n",
       "                                                    mean_msssim  mean_psnr  \\\n",
       "G10BoatInPark_ERP_4096x2048_fps30_qp27_14547k.mp4      0.993421  41.796802   \n",
       "G10BoatInPark_ERP_4096x2048_fps30_qp37_3270k.mp4       0.978148  37.008199   \n",
       "G10BoatInPark_ERP_4096x2048_fps30_qp42_1507k.mp4       0.959902  34.488414   \n",
       "G10BodybuildingWorkout_ERP_7680x3840_fps29.97_q...     0.997337  46.696109   \n",
       "G10BodybuildingWorkout_ERP_7680x3840_fps29.97_q...     0.993474  42.361416   \n",
       "\n",
       "                                                    mean_psnrhvs  \\\n",
       "G10BoatInPark_ERP_4096x2048_fps30_qp27_14547k.mp4      39.355793   \n",
       "G10BoatInPark_ERP_4096x2048_fps30_qp37_3270k.mp4       34.024982   \n",
       "G10BoatInPark_ERP_4096x2048_fps30_qp42_1507k.mp4       31.374308   \n",
       "G10BodybuildingWorkout_ERP_7680x3840_fps29.97_q...     44.047773   \n",
       "G10BodybuildingWorkout_ERP_7680x3840_fps29.97_q...     39.457154   \n",
       "\n",
       "                                                    mean_psnrhvsm    ...     \\\n",
       "G10BoatInPark_ERP_4096x2048_fps30_qp27_14547k.mp4       43.768754    ...      \n",
       "G10BoatInPark_ERP_4096x2048_fps30_qp37_3270k.mp4        36.471304    ...      \n",
       "G10BoatInPark_ERP_4096x2048_fps30_qp42_1507k.mp4        33.145878    ...      \n",
       "G10BodybuildingWorkout_ERP_7680x3840_fps29.97_q...      48.487592    ...      \n",
       "G10BodybuildingWorkout_ERP_7680x3840_fps29.97_q...      42.041170    ...      \n",
       "\n",
       "                                                    std_Blur  std_Contrast  \\\n",
       "G10BoatInPark_ERP_4096x2048_fps30_qp27_14547k.mp4   0.673493      0.923127   \n",
       "G10BoatInPark_ERP_4096x2048_fps30_qp37_3270k.mp4    0.738179      0.914809   \n",
       "G10BoatInPark_ERP_4096x2048_fps30_qp42_1507k.mp4    0.778477      0.910941   \n",
       "G10BodybuildingWorkout_ERP_7680x3840_fps29.97_q...  0.115909      0.380451   \n",
       "G10BodybuildingWorkout_ERP_7680x3840_fps29.97_q...  0.134619      0.366843   \n",
       "\n",
       "                                                    std_Exposure(bri)  \\\n",
       "G10BoatInPark_ERP_4096x2048_fps30_qp27_14547k.mp4            0.161376   \n",
       "G10BoatInPark_ERP_4096x2048_fps30_qp37_3270k.mp4             0.454140   \n",
       "G10BoatInPark_ERP_4096x2048_fps30_qp42_1507k.mp4             0.665406   \n",
       "G10BodybuildingWorkout_ERP_7680x3840_fps29.97_q...           0.000000   \n",
       "G10BodybuildingWorkout_ERP_7680x3840_fps29.97_q...           0.861126   \n",
       "\n",
       "                                                    std_Flickering  \\\n",
       "G10BoatInPark_ERP_4096x2048_fps30_qp27_14547k.mp4         0.555076   \n",
       "G10BoatInPark_ERP_4096x2048_fps30_qp37_3270k.mp4          0.555547   \n",
       "G10BoatInPark_ERP_4096x2048_fps30_qp42_1507k.mp4          0.547511   \n",
       "G10BodybuildingWorkout_ERP_7680x3840_fps29.97_q...        0.568286   \n",
       "G10BodybuildingWorkout_ERP_7680x3840_fps29.97_q...        0.514013   \n",
       "\n",
       "                                                    std_Interlace  \\\n",
       "G10BoatInPark_ERP_4096x2048_fps30_qp27_14547k.mp4        0.001677   \n",
       "G10BoatInPark_ERP_4096x2048_fps30_qp37_3270k.mp4         0.000423   \n",
       "G10BoatInPark_ERP_4096x2048_fps30_qp42_1507k.mp4         0.000416   \n",
       "G10BodybuildingWorkout_ERP_7680x3840_fps29.97_q...       0.000138   \n",
       "G10BodybuildingWorkout_ERP_7680x3840_fps29.97_q...       0.000782   \n",
       "\n",
       "                                                    std_Letterbox  std_Noise  \\\n",
       "G10BoatInPark_ERP_4096x2048_fps30_qp27_14547k.mp4             0.0   0.053726   \n",
       "G10BoatInPark_ERP_4096x2048_fps30_qp37_3270k.mp4              0.0   0.005880   \n",
       "G10BoatInPark_ERP_4096x2048_fps30_qp42_1507k.mp4              0.0   0.000718   \n",
       "G10BodybuildingWorkout_ERP_7680x3840_fps29.97_q...            0.0   0.288068   \n",
       "G10BodybuildingWorkout_ERP_7680x3840_fps29.97_q...            0.0   0.008493   \n",
       "\n",
       "                                                    std_Pillarbox    std_SA  \\\n",
       "G10BoatInPark_ERP_4096x2048_fps30_qp27_14547k.mp4             0.0  8.573505   \n",
       "G10BoatInPark_ERP_4096x2048_fps30_qp37_3270k.mp4              0.0  8.647012   \n",
       "G10BoatInPark_ERP_4096x2048_fps30_qp42_1507k.mp4              0.0  8.553970   \n",
       "G10BodybuildingWorkout_ERP_7680x3840_fps29.97_q...            0.0  0.109267   \n",
       "G10BodybuildingWorkout_ERP_7680x3840_fps29.97_q...            0.0  0.172757   \n",
       "\n",
       "                                                      std_TA  \n",
       "G10BoatInPark_ERP_4096x2048_fps30_qp27_14547k.mp4   3.692404  \n",
       "G10BoatInPark_ERP_4096x2048_fps30_qp37_3270k.mp4    3.725965  \n",
       "G10BoatInPark_ERP_4096x2048_fps30_qp42_1507k.mp4    3.747884  \n",
       "G10BodybuildingWorkout_ERP_7680x3840_fps29.97_q...  1.117525  \n",
       "G10BodybuildingWorkout_ERP_7680x3840_fps29.97_q...  1.132522  \n",
       "\n",
       "[5 rows x 60 columns]"
      ]
     },
     "execution_count": 6,
     "metadata": {},
     "output_type": "execute_result"
    }
   ],
   "source": [
    "nr_metrics.head()"
   ]
  },
  {
   "cell_type": "code",
   "execution_count": 7,
   "metadata": {},
   "outputs": [],
   "source": [
    "#drop Blockloss\n",
    "nr_metrics=nr_metrics.drop(['mean_Blockloss','max_Blockloss','std_Blockloss'],axis=1)"
   ]
  },
  {
   "cell_type": "code",
   "execution_count": 8,
   "metadata": {},
   "outputs": [
    {
     "data": {
      "text/html": [
       "<div>\n",
       "<style scoped>\n",
       "    .dataframe tbody tr th:only-of-type {\n",
       "        vertical-align: middle;\n",
       "    }\n",
       "\n",
       "    .dataframe tbody tr th {\n",
       "        vertical-align: top;\n",
       "    }\n",
       "\n",
       "    .dataframe thead th {\n",
       "        text-align: right;\n",
       "    }\n",
       "</style>\n",
       "<table border=\"1\" class=\"dataframe\">\n",
       "  <thead>\n",
       "    <tr style=\"text-align: right;\">\n",
       "      <th></th>\n",
       "      <th>max_msssim</th>\n",
       "      <th>max_psnr</th>\n",
       "      <th>max_psnrhvs</th>\n",
       "      <th>max_psnrhvsm</th>\n",
       "      <th>max_ssim</th>\n",
       "      <th>max_vifp</th>\n",
       "      <th>mean_msssim</th>\n",
       "      <th>mean_psnr</th>\n",
       "      <th>mean_psnrhvs</th>\n",
       "      <th>mean_psnrhvsm</th>\n",
       "      <th>...</th>\n",
       "      <th>std_Blur</th>\n",
       "      <th>std_Contrast</th>\n",
       "      <th>std_Exposure(bri)</th>\n",
       "      <th>std_Flickering</th>\n",
       "      <th>std_Interlace</th>\n",
       "      <th>std_Letterbox</th>\n",
       "      <th>std_Noise</th>\n",
       "      <th>std_Pillarbox</th>\n",
       "      <th>std_SA</th>\n",
       "      <th>std_TA</th>\n",
       "    </tr>\n",
       "  </thead>\n",
       "  <tbody>\n",
       "    <tr>\n",
       "      <th>G10BoatInPark_ERP_4096x2048_fps30_qp27_14547k.mp4</th>\n",
       "      <td>0.997392</td>\n",
       "      <td>46.133789</td>\n",
       "      <td>44.279213</td>\n",
       "      <td>50.718632</td>\n",
       "      <td>0.995475</td>\n",
       "      <td>0.891705</td>\n",
       "      <td>0.993421</td>\n",
       "      <td>41.796802</td>\n",
       "      <td>39.355793</td>\n",
       "      <td>43.768754</td>\n",
       "      <td>...</td>\n",
       "      <td>0.673493</td>\n",
       "      <td>0.923127</td>\n",
       "      <td>0.161376</td>\n",
       "      <td>0.555076</td>\n",
       "      <td>0.001677</td>\n",
       "      <td>0.0</td>\n",
       "      <td>0.053726</td>\n",
       "      <td>0.0</td>\n",
       "      <td>8.573505</td>\n",
       "      <td>3.692404</td>\n",
       "    </tr>\n",
       "    <tr>\n",
       "      <th>G10BoatInPark_ERP_4096x2048_fps30_qp37_3270k.mp4</th>\n",
       "      <td>0.989167</td>\n",
       "      <td>40.454590</td>\n",
       "      <td>37.767975</td>\n",
       "      <td>41.375046</td>\n",
       "      <td>0.986984</td>\n",
       "      <td>0.782142</td>\n",
       "      <td>0.978148</td>\n",
       "      <td>37.008199</td>\n",
       "      <td>34.024982</td>\n",
       "      <td>36.471304</td>\n",
       "      <td>...</td>\n",
       "      <td>0.738179</td>\n",
       "      <td>0.914809</td>\n",
       "      <td>0.454140</td>\n",
       "      <td>0.555547</td>\n",
       "      <td>0.000423</td>\n",
       "      <td>0.0</td>\n",
       "      <td>0.005880</td>\n",
       "      <td>0.0</td>\n",
       "      <td>8.647012</td>\n",
       "      <td>3.725965</td>\n",
       "    </tr>\n",
       "    <tr>\n",
       "      <th>G10BoatInPark_ERP_4096x2048_fps30_qp42_1507k.mp4</th>\n",
       "      <td>0.988243</td>\n",
       "      <td>39.480148</td>\n",
       "      <td>36.625156</td>\n",
       "      <td>39.592644</td>\n",
       "      <td>0.983493</td>\n",
       "      <td>0.777223</td>\n",
       "      <td>0.959902</td>\n",
       "      <td>34.488414</td>\n",
       "      <td>31.374308</td>\n",
       "      <td>33.145878</td>\n",
       "      <td>...</td>\n",
       "      <td>0.778477</td>\n",
       "      <td>0.910941</td>\n",
       "      <td>0.665406</td>\n",
       "      <td>0.547511</td>\n",
       "      <td>0.000416</td>\n",
       "      <td>0.0</td>\n",
       "      <td>0.000718</td>\n",
       "      <td>0.0</td>\n",
       "      <td>8.553970</td>\n",
       "      <td>3.747884</td>\n",
       "    </tr>\n",
       "    <tr>\n",
       "      <th>G10BodybuildingWorkout_ERP_7680x3840_fps29.97_qp27_6105k.mp4</th>\n",
       "      <td>0.998561</td>\n",
       "      <td>48.881790</td>\n",
       "      <td>46.440197</td>\n",
       "      <td>52.151497</td>\n",
       "      <td>0.998019</td>\n",
       "      <td>0.935969</td>\n",
       "      <td>0.997337</td>\n",
       "      <td>46.696109</td>\n",
       "      <td>44.047773</td>\n",
       "      <td>48.487592</td>\n",
       "      <td>...</td>\n",
       "      <td>0.115909</td>\n",
       "      <td>0.380451</td>\n",
       "      <td>0.000000</td>\n",
       "      <td>0.568286</td>\n",
       "      <td>0.000138</td>\n",
       "      <td>0.0</td>\n",
       "      <td>0.288068</td>\n",
       "      <td>0.0</td>\n",
       "      <td>0.109267</td>\n",
       "      <td>1.117525</td>\n",
       "    </tr>\n",
       "    <tr>\n",
       "      <th>G10BodybuildingWorkout_ERP_7680x3840_fps29.97_qp37_913k.mp4</th>\n",
       "      <td>0.997163</td>\n",
       "      <td>45.922199</td>\n",
       "      <td>43.115520</td>\n",
       "      <td>47.492256</td>\n",
       "      <td>0.996843</td>\n",
       "      <td>0.906730</td>\n",
       "      <td>0.993474</td>\n",
       "      <td>42.361416</td>\n",
       "      <td>39.457154</td>\n",
       "      <td>42.041170</td>\n",
       "      <td>...</td>\n",
       "      <td>0.134619</td>\n",
       "      <td>0.366843</td>\n",
       "      <td>0.861126</td>\n",
       "      <td>0.514013</td>\n",
       "      <td>0.000782</td>\n",
       "      <td>0.0</td>\n",
       "      <td>0.008493</td>\n",
       "      <td>0.0</td>\n",
       "      <td>0.172757</td>\n",
       "      <td>1.132522</td>\n",
       "    </tr>\n",
       "  </tbody>\n",
       "</table>\n",
       "<p>5 rows × 57 columns</p>\n",
       "</div>"
      ],
      "text/plain": [
       "                                                    max_msssim   max_psnr  \\\n",
       "G10BoatInPark_ERP_4096x2048_fps30_qp27_14547k.mp4     0.997392  46.133789   \n",
       "G10BoatInPark_ERP_4096x2048_fps30_qp37_3270k.mp4      0.989167  40.454590   \n",
       "G10BoatInPark_ERP_4096x2048_fps30_qp42_1507k.mp4      0.988243  39.480148   \n",
       "G10BodybuildingWorkout_ERP_7680x3840_fps29.97_q...    0.998561  48.881790   \n",
       "G10BodybuildingWorkout_ERP_7680x3840_fps29.97_q...    0.997163  45.922199   \n",
       "\n",
       "                                                    max_psnrhvs  max_psnrhvsm  \\\n",
       "G10BoatInPark_ERP_4096x2048_fps30_qp27_14547k.mp4     44.279213     50.718632   \n",
       "G10BoatInPark_ERP_4096x2048_fps30_qp37_3270k.mp4      37.767975     41.375046   \n",
       "G10BoatInPark_ERP_4096x2048_fps30_qp42_1507k.mp4      36.625156     39.592644   \n",
       "G10BodybuildingWorkout_ERP_7680x3840_fps29.97_q...    46.440197     52.151497   \n",
       "G10BodybuildingWorkout_ERP_7680x3840_fps29.97_q...    43.115520     47.492256   \n",
       "\n",
       "                                                    max_ssim  max_vifp  \\\n",
       "G10BoatInPark_ERP_4096x2048_fps30_qp27_14547k.mp4   0.995475  0.891705   \n",
       "G10BoatInPark_ERP_4096x2048_fps30_qp37_3270k.mp4    0.986984  0.782142   \n",
       "G10BoatInPark_ERP_4096x2048_fps30_qp42_1507k.mp4    0.983493  0.777223   \n",
       "G10BodybuildingWorkout_ERP_7680x3840_fps29.97_q...  0.998019  0.935969   \n",
       "G10BodybuildingWorkout_ERP_7680x3840_fps29.97_q...  0.996843  0.906730   \n",
       "\n",
       "                                                    mean_msssim  mean_psnr  \\\n",
       "G10BoatInPark_ERP_4096x2048_fps30_qp27_14547k.mp4      0.993421  41.796802   \n",
       "G10BoatInPark_ERP_4096x2048_fps30_qp37_3270k.mp4       0.978148  37.008199   \n",
       "G10BoatInPark_ERP_4096x2048_fps30_qp42_1507k.mp4       0.959902  34.488414   \n",
       "G10BodybuildingWorkout_ERP_7680x3840_fps29.97_q...     0.997337  46.696109   \n",
       "G10BodybuildingWorkout_ERP_7680x3840_fps29.97_q...     0.993474  42.361416   \n",
       "\n",
       "                                                    mean_psnrhvs  \\\n",
       "G10BoatInPark_ERP_4096x2048_fps30_qp27_14547k.mp4      39.355793   \n",
       "G10BoatInPark_ERP_4096x2048_fps30_qp37_3270k.mp4       34.024982   \n",
       "G10BoatInPark_ERP_4096x2048_fps30_qp42_1507k.mp4       31.374308   \n",
       "G10BodybuildingWorkout_ERP_7680x3840_fps29.97_q...     44.047773   \n",
       "G10BodybuildingWorkout_ERP_7680x3840_fps29.97_q...     39.457154   \n",
       "\n",
       "                                                    mean_psnrhvsm    ...     \\\n",
       "G10BoatInPark_ERP_4096x2048_fps30_qp27_14547k.mp4       43.768754    ...      \n",
       "G10BoatInPark_ERP_4096x2048_fps30_qp37_3270k.mp4        36.471304    ...      \n",
       "G10BoatInPark_ERP_4096x2048_fps30_qp42_1507k.mp4        33.145878    ...      \n",
       "G10BodybuildingWorkout_ERP_7680x3840_fps29.97_q...      48.487592    ...      \n",
       "G10BodybuildingWorkout_ERP_7680x3840_fps29.97_q...      42.041170    ...      \n",
       "\n",
       "                                                    std_Blur  std_Contrast  \\\n",
       "G10BoatInPark_ERP_4096x2048_fps30_qp27_14547k.mp4   0.673493      0.923127   \n",
       "G10BoatInPark_ERP_4096x2048_fps30_qp37_3270k.mp4    0.738179      0.914809   \n",
       "G10BoatInPark_ERP_4096x2048_fps30_qp42_1507k.mp4    0.778477      0.910941   \n",
       "G10BodybuildingWorkout_ERP_7680x3840_fps29.97_q...  0.115909      0.380451   \n",
       "G10BodybuildingWorkout_ERP_7680x3840_fps29.97_q...  0.134619      0.366843   \n",
       "\n",
       "                                                    std_Exposure(bri)  \\\n",
       "G10BoatInPark_ERP_4096x2048_fps30_qp27_14547k.mp4            0.161376   \n",
       "G10BoatInPark_ERP_4096x2048_fps30_qp37_3270k.mp4             0.454140   \n",
       "G10BoatInPark_ERP_4096x2048_fps30_qp42_1507k.mp4             0.665406   \n",
       "G10BodybuildingWorkout_ERP_7680x3840_fps29.97_q...           0.000000   \n",
       "G10BodybuildingWorkout_ERP_7680x3840_fps29.97_q...           0.861126   \n",
       "\n",
       "                                                    std_Flickering  \\\n",
       "G10BoatInPark_ERP_4096x2048_fps30_qp27_14547k.mp4         0.555076   \n",
       "G10BoatInPark_ERP_4096x2048_fps30_qp37_3270k.mp4          0.555547   \n",
       "G10BoatInPark_ERP_4096x2048_fps30_qp42_1507k.mp4          0.547511   \n",
       "G10BodybuildingWorkout_ERP_7680x3840_fps29.97_q...        0.568286   \n",
       "G10BodybuildingWorkout_ERP_7680x3840_fps29.97_q...        0.514013   \n",
       "\n",
       "                                                    std_Interlace  \\\n",
       "G10BoatInPark_ERP_4096x2048_fps30_qp27_14547k.mp4        0.001677   \n",
       "G10BoatInPark_ERP_4096x2048_fps30_qp37_3270k.mp4         0.000423   \n",
       "G10BoatInPark_ERP_4096x2048_fps30_qp42_1507k.mp4         0.000416   \n",
       "G10BodybuildingWorkout_ERP_7680x3840_fps29.97_q...       0.000138   \n",
       "G10BodybuildingWorkout_ERP_7680x3840_fps29.97_q...       0.000782   \n",
       "\n",
       "                                                    std_Letterbox  std_Noise  \\\n",
       "G10BoatInPark_ERP_4096x2048_fps30_qp27_14547k.mp4             0.0   0.053726   \n",
       "G10BoatInPark_ERP_4096x2048_fps30_qp37_3270k.mp4              0.0   0.005880   \n",
       "G10BoatInPark_ERP_4096x2048_fps30_qp42_1507k.mp4              0.0   0.000718   \n",
       "G10BodybuildingWorkout_ERP_7680x3840_fps29.97_q...            0.0   0.288068   \n",
       "G10BodybuildingWorkout_ERP_7680x3840_fps29.97_q...            0.0   0.008493   \n",
       "\n",
       "                                                    std_Pillarbox    std_SA  \\\n",
       "G10BoatInPark_ERP_4096x2048_fps30_qp27_14547k.mp4             0.0  8.573505   \n",
       "G10BoatInPark_ERP_4096x2048_fps30_qp37_3270k.mp4              0.0  8.647012   \n",
       "G10BoatInPark_ERP_4096x2048_fps30_qp42_1507k.mp4              0.0  8.553970   \n",
       "G10BodybuildingWorkout_ERP_7680x3840_fps29.97_q...            0.0  0.109267   \n",
       "G10BodybuildingWorkout_ERP_7680x3840_fps29.97_q...            0.0  0.172757   \n",
       "\n",
       "                                                      std_TA  \n",
       "G10BoatInPark_ERP_4096x2048_fps30_qp27_14547k.mp4   3.692404  \n",
       "G10BoatInPark_ERP_4096x2048_fps30_qp37_3270k.mp4    3.725965  \n",
       "G10BoatInPark_ERP_4096x2048_fps30_qp42_1507k.mp4    3.747884  \n",
       "G10BodybuildingWorkout_ERP_7680x3840_fps29.97_q...  1.117525  \n",
       "G10BodybuildingWorkout_ERP_7680x3840_fps29.97_q...  1.132522  \n",
       "\n",
       "[5 rows x 57 columns]"
      ]
     },
     "execution_count": 8,
     "metadata": {},
     "output_type": "execute_result"
    }
   ],
   "source": [
    "nr_metrics.head()"
   ]
  },
  {
   "cell_type": "code",
   "execution_count": 9,
   "metadata": {},
   "outputs": [],
   "source": [
    "group_label = np.arange(len(nr_metrics.index) / 3)\n",
    "group_label = np.matlib.repmat(group_label,3,1)\n",
    "group_label = group_label.reshape(-1,1, order='F')"
   ]
  },
  {
   "cell_type": "code",
   "execution_count": 10,
   "metadata": {},
   "outputs": [],
   "source": [
    "def rmse(y_true, y_pred):\n",
    "    rmse = np.sqrt(metrics.mean_squared_error(y_true, y_pred))\n",
    "    return rmse\n",
    "\n",
    "def lcc(y_true, y_pred):\n",
    "    lcc, _ = stats.pearsonr(y_true, y_pred)\n",
    "    return lcc\n",
    "\n",
    "def srocc(y_true, y_pred):\n",
    "    srocc, _ = stats.spearmanr(y_true, y_pred)\n",
    "    return srocc"
   ]
  },
  {
   "cell_type": "code",
   "execution_count": 11,
   "metadata": {},
   "outputs": [
    {
     "data": {
      "text/plain": [
       "{'rmse': make_scorer(rmse, greater_is_better=False),\n",
       " 'lcc': make_scorer(lcc),\n",
       " 'srocc': make_scorer(srocc)}"
      ]
     },
     "execution_count": 11,
     "metadata": {},
     "output_type": "execute_result"
    }
   ],
   "source": [
    "scorer = {}\n",
    "scorer['rmse'] = metrics.make_scorer(rmse, greater_is_better=False)\n",
    "scorer['lcc'] = metrics.make_scorer(lcc, greater_is_better=True)\n",
    "scorer['srocc'] = metrics.make_scorer(srocc, greater_is_better=True)\n",
    "scorer"
   ]
  },
  {
   "cell_type": "code",
   "execution_count": 12,
   "metadata": {},
   "outputs": [],
   "source": [
    "y=dataset_socres.values\n",
    "X=nr_metrics.values"
   ]
  },
  {
   "cell_type": "code",
   "execution_count": 13,
   "metadata": {},
   "outputs": [],
   "source": [
    "#grid search for the best parameters for SVR\n",
    "ParameterGrid={}\n",
    "ParameterGrid['C']=[int(x) for x in np.arange(1,100,10)] \n",
    "ParameterGrid['gamma']=[float(x) for x in np.arange(0.001,0.5,0.1)]"
   ]
  },
  {
   "cell_type": "code",
   "execution_count": 14,
   "metadata": {},
   "outputs": [],
   "source": [
    "grid_search_svr= GridSearchCV(estimator = model_svr, param_grid = ParameterGrid, \n",
    "                          cv = 4, n_jobs = -1, verbose = 1, return_train_score=True, \n",
    "                                      error_score = np.nan,scoring = scorer, refit = 'rmse', iid=False)"
   ]
  },
  {
   "cell_type": "code",
   "execution_count": null,
   "metadata": {},
   "outputs": [
    {
     "name": "stdout",
     "output_type": "stream",
     "text": [
      "Fitting 4 folds for each of 50 candidates, totalling 200 fits\n"
     ]
    }
   ],
   "source": [
    "grid_search_svr.fit(X, y)"
   ]
  },
  {
   "cell_type": "code",
   "execution_count": 192,
   "metadata": {},
   "outputs": [
    {
     "data": {
      "text/plain": [
       "{'C': 41, 'gamma': 0.0}"
      ]
     },
     "execution_count": 192,
     "metadata": {},
     "output_type": "execute_result"
    }
   ],
   "source": [
    "grid_search_svr.best_params_"
   ]
  },
  {
   "cell_type": "code",
   "execution_count": 194,
   "metadata": {},
   "outputs": [],
   "source": [
    "test_svr=svm.SVR(kernel='linear',C=41,gamma=0.0001)"
   ]
  },
  {
   "cell_type": "code",
   "execution_count": 14,
   "metadata": {},
   "outputs": [],
   "source": [
    "X_train,X_test,y_train,y_test=train_test_split(X, y, test_size=0.2, random_state=0)"
   ]
  },
  {
   "cell_type": "code",
   "execution_count": 16,
   "metadata": {},
   "outputs": [],
   "source": [
    "model_svr=svm.SVR(kernel='linear',C=1000)"
   ]
  },
  {
   "cell_type": "code",
   "execution_count": 19,
   "metadata": {},
   "outputs": [
    {
     "data": {
      "text/plain": [
       "-1.1736081627904573"
      ]
     },
     "execution_count": 19,
     "metadata": {},
     "output_type": "execute_result"
    }
   ],
   "source": [
    "model_svr.fit(X_train, y_train)\n",
    "model_svr.score(X_test,y_test)\n",
    "#clf.decision_function(X_train)\n",
    "#y_pre=clf.predict(X_test)"
   ]
  },
  {
   "cell_type": "code",
   "execution_count": 198,
   "metadata": {},
   "outputs": [],
   "source": [
    "scores = cross_val_score(test_svr, X, y, cv=5)"
   ]
  },
  {
   "cell_type": "code",
   "execution_count": 22,
   "metadata": {},
   "outputs": [],
   "source": [
    "method=['rbf','linear','poly']"
   ]
  },
  {
   "cell_type": "code",
   "execution_count": 24,
   "metadata": {},
   "outputs": [
    {
     "ename": "NameError",
     "evalue": "name 'rbf' is not defined",
     "output_type": "error",
     "traceback": [
      "\u001b[1;31m---------------------------------------------------------------------------\u001b[0m",
      "\u001b[1;31mNameError\u001b[0m                                 Traceback (most recent call last)",
      "\u001b[1;32m<ipython-input-24-6c97bf25ac53>\u001b[0m in \u001b[0;36m<module>\u001b[1;34m()\u001b[0m\n\u001b[1;32m----> 1\u001b[1;33m \u001b[0meval\u001b[0m\u001b[1;33m(\u001b[0m\u001b[0mmethod\u001b[0m\u001b[1;33m[\u001b[0m\u001b[1;36m0\u001b[0m\u001b[1;33m]\u001b[0m\u001b[1;33m)\u001b[0m\u001b[1;33m\u001b[0m\u001b[0m\n\u001b[0m",
      "\u001b[1;32m<string>\u001b[0m in \u001b[0;36m<module>\u001b[1;34m()\u001b[0m\n",
      "\u001b[1;31mNameError\u001b[0m: name 'rbf' is not defined"
     ]
    }
   ],
   "source": [
    "eval(method[0])"
   ]
  },
  {
   "cell_type": "code",
   "execution_count": null,
   "metadata": {},
   "outputs": [],
   "source": []
  },
  {
   "cell_type": "code",
   "execution_count": 21,
   "metadata": {},
   "outputs": [
    {
     "ename": "NameError",
     "evalue": "name 'rbf' is not defined",
     "output_type": "error",
     "traceback": [
      "\u001b[1;31m---------------------------------------------------------------------------\u001b[0m",
      "\u001b[1;31mNameError\u001b[0m                                 Traceback (most recent call last)",
      "\u001b[1;32m<ipython-input-21-a2d0a74ff798>\u001b[0m in \u001b[0;36m<module>\u001b[1;34m()\u001b[0m\n\u001b[1;32m----> 1\u001b[1;33m \u001b[0mmethod\u001b[0m \u001b[1;33m=\u001b[0m \u001b[1;33m{\u001b[0m\u001b[0mrbf\u001b[0m\u001b[1;33m,\u001b[0m\u001b[0mlinear\u001b[0m\u001b[1;33m,\u001b[0m\u001b[0mpoly\u001b[0m\u001b[1;33m}\u001b[0m\u001b[1;33m\u001b[0m\u001b[0m\n\u001b[0m\u001b[0;32m      2\u001b[0m \u001b[1;32mfor\u001b[0m \u001b[0mitem\u001b[0m \u001b[1;32min\u001b[0m \u001b[0mmethod\u001b[0m\u001b[1;33m:\u001b[0m\u001b[1;33m\u001b[0m\u001b[0m\n\u001b[0;32m      3\u001b[0m     \u001b[0mprint\u001b[0m\u001b[1;33m(\u001b[0m\u001b[0mitem\u001b[0m\u001b[1;33m)\u001b[0m\u001b[1;33m\u001b[0m\u001b[0m\n",
      "\u001b[1;31mNameError\u001b[0m: name 'rbf' is not defined"
     ]
    }
   ],
   "source": [
    "method = {rbf,linear,poly}\n",
    "for item in method:\n",
    "    print(item)"
   ]
  },
  {
   "cell_type": "code",
   "execution_count": 32,
   "metadata": {},
   "outputs": [],
   "source": [
    "score=svm.SVR(kernel=method[0], C=1000).fit(X_train,y_train).score(X_test,y_test)"
   ]
  },
  {
   "cell_type": "code",
   "execution_count": 40,
   "metadata": {},
   "outputs": [
    {
     "data": {
      "text/plain": [
       "[0.012031216726173355, -1.1736081627904573, -0.5286708492465293]"
      ]
     },
     "execution_count": 40,
     "metadata": {},
     "output_type": "execute_result"
    }
   ],
   "source": [
    "#score=\n",
    "[svm.SVR(kernel=item, C=1000).fit(X_train,y_train).score(X_test,y_test) for item in method]"
   ]
  },
  {
   "cell_type": "code",
   "execution_count": 39,
   "metadata": {},
   "outputs": [
    {
     "data": {
      "text/plain": [
       "['rbf', 'linear', 'poly']"
      ]
     },
     "execution_count": 39,
     "metadata": {},
     "output_type": "execute_result"
    }
   ],
   "source": [
    "[item for item in (method)]"
   ]
  },
  {
   "cell_type": "code",
   "execution_count": 199,
   "metadata": {},
   "outputs": [
    {
     "data": {
      "text/plain": [
       "array([ 0.6607635 , -0.26143789,  0.26562993,  0.42178035,  0.3915918 ])"
      ]
     },
     "execution_count": 199,
     "metadata": {},
     "output_type": "execute_result"
    }
   ],
   "source": [
    "scores"
   ]
  },
  {
   "cell_type": "code",
   "execution_count": null,
   "metadata": {},
   "outputs": [],
   "source": []
  }
 ],
 "metadata": {
  "kernelspec": {
   "display_name": "Python 3",
   "language": "python",
   "name": "python3"
  },
  "language_info": {
   "codemirror_mode": {
    "name": "ipython",
    "version": 3
   },
   "file_extension": ".py",
   "mimetype": "text/x-python",
   "name": "python",
   "nbconvert_exporter": "python",
   "pygments_lexer": "ipython3",
   "version": "3.6.5"
  }
 },
 "nbformat": 4,
 "nbformat_minor": 2
}
