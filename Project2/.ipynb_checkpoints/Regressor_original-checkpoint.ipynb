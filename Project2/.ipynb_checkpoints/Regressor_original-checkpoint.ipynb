{
 "cells": [
  {
   "cell_type": "code",
   "execution_count": 127,
   "metadata": {},
   "outputs": [],
   "source": [
    "import pandas as pd\n",
    "import numpy as np\n",
    "import os\n",
    "from sklearn.ensemble import RandomForestRegressor\n",
    "from sklearn.model_selection import GridSearchCV\n",
    "from scipy import stats\n",
    "import joblib\n",
    "from sklearn.model_selection import train_test_split\n",
    "import sklearn.metrics as metrics\n",
    "from sklearn.model_selection import GroupShuffleSplit\n",
    "import matplotlib.pyplot as plt\n",
    "from sklearn.preprocessing import PolynomialFeatures"
   ]
  },
  {
   "cell_type": "code",
   "execution_count": 128,
   "metadata": {},
   "outputs": [],
   "source": [
    "%matplotlib inline"
   ]
  },
  {
   "cell_type": "code",
   "execution_count": 129,
   "metadata": {},
   "outputs": [],
   "source": [
    "def rmse(y_true, y_pred):\n",
    "    rmse = np.sqrt(metrics.mean_squared_error(y_true, y_pred))\n",
    "    return rmse\n",
    "\n",
    "def lcc(y_true, y_pred):\n",
    "    lcc, _ = stats.pearsonr(y_true, y_pred)\n",
    "    return lcc\n",
    "\n",
    "def srocc(y_true, y_pred):\n",
    "    srocc, _ = stats.spearmanr(y_true, y_pred)\n",
    "    return srocc"
   ]
  },
  {
   "cell_type": "code",
   "execution_count": 130,
   "metadata": {},
   "outputs": [],
   "source": [
    "def accuracy(y_true, y_pred):\n",
    "    ratio = abs(y_true - y_pred) / y_true\n",
    "    return 1 - np.mean(ratio)"
   ]
  },
  {
   "cell_type": "code",
   "execution_count": 131,
   "metadata": {},
   "outputs": [
    {
     "data": {
      "text/plain": [
       "{'rmse': make_scorer(rmse, greater_is_better=False),\n",
       " 'lcc': make_scorer(lcc),\n",
       " 'srocc': make_scorer(srocc)}"
      ]
     },
     "execution_count": 131,
     "metadata": {},
     "output_type": "execute_result"
    }
   ],
   "source": [
    "scorer = {}\n",
    "scorer['rmse'] = metrics.make_scorer(rmse, greater_is_better=False)\n",
    "scorer['lcc'] = metrics.make_scorer(lcc, greater_is_better=True)\n",
    "scorer['srocc'] = metrics.make_scorer(srocc, greater_is_better=True)\n",
    "scorer"
   ]
  },
  {
   "cell_type": "code",
   "execution_count": 132,
   "metadata": {},
   "outputs": [],
   "source": [
    "features = pd.read_pickle('features.pkl')\n",
    "labels = pd.read_pickle('labels.pkl')"
   ]
  },
  {
   "cell_type": "code",
   "execution_count": 133,
   "metadata": {},
   "outputs": [],
   "source": [
    "parameters_grid_search_3rd = joblib.load('parameters_grid_search_3rd.sav')"
   ]
  },
  {
   "cell_type": "code",
   "execution_count": 134,
   "metadata": {},
   "outputs": [
    {
     "data": {
      "text/plain": [
       "Index(['G10BoatInPark_ERP_4096x2048_fps30_qp27_14547k.mp4',\n",
       "       'G10BoatInPark_ERP_4096x2048_fps30_qp37_3270k.mp4',\n",
       "       'G10BoatInPark_ERP_4096x2048_fps30_qp42_1507k.mp4',\n",
       "       'G10BodybuildingWorkout_ERP_7680x3840_fps29.97_qp27_6105k.mp4',\n",
       "       'G10BodybuildingWorkout_ERP_7680x3840_fps29.97_qp37_913k.mp4',\n",
       "       'G10BodybuildingWorkout_ERP_7680x3840_fps29.97_qp42_697k.mp4',\n",
       "       'G10BuddhaCave_ERP_4096x2048_fps30_qp27_1289k.mp4',\n",
       "       'G10BuddhaCave_ERP_4096x2048_fps30_qp37_236k.mp4',\n",
       "       'G10BuddhaCave_ERP_4096x2048_fps30_qp42_170k.mp4',\n",
       "       'G10DrivingInCountry_ERP_3840x1920_fps30_qp27_27706k.mp4',\n",
       "       ...\n",
       "       'G9DivingWithJellyfish_ERP_7680x3840_fps25_qp42_876k.mp4',\n",
       "       'G9DrivingInCity_ERP_3840x1920_fps30_qp27_11315k.mp4',\n",
       "       'G9DrivingInCity_ERP_3840x1920_fps30_qp37_2350k.mp4',\n",
       "       'G9DrivingInCity_ERP_3840x1920_fps30_qp42_1069k.mp4',\n",
       "       'G9FootballMatch_ERP_4096x2048_fps30_qp27_1529k.mp4',\n",
       "       'G9FootballMatch_ERP_4096x2048_fps30_qp37_220k.mp4',\n",
       "       'G9FootballMatch_ERP_4096x2048_fps30_qp42_288k.mp4',\n",
       "       'G9GreatWall_ERP_4096x2048_fps30_qp27_43911k.mp4',\n",
       "       'G9GreatWall_ERP_4096x2048_fps30_qp37_7750k.mp4',\n",
       "       'G9GreatWall_ERP_4096x2048_fps30_qp42_3096k.mp4'],\n",
       "      dtype='object', length=177)"
      ]
     },
     "execution_count": 134,
     "metadata": {},
     "output_type": "execute_result"
    }
   ],
   "source": [
    "labels.index"
   ]
  },
  {
   "cell_type": "code",
   "execution_count": 135,
   "metadata": {},
   "outputs": [
    {
     "data": {
      "text/plain": [
       "G10BoatInPark_ERP_4096x2048_fps30_qp27_14547k.mp4               34.140535\n",
       "G10BoatInPark_ERP_4096x2048_fps30_qp37_3270k.mp4                41.399333\n",
       "G10BoatInPark_ERP_4096x2048_fps30_qp42_1507k.mp4                54.386335\n",
       "G10BodybuildingWorkout_ERP_7680x3840_fps29.97_qp27_6105k.mp4    35.192198\n",
       "G10BodybuildingWorkout_ERP_7680x3840_fps29.97_qp37_913k.mp4     56.533862\n",
       "Name: DMOS, dtype: float64"
      ]
     },
     "execution_count": 135,
     "metadata": {},
     "output_type": "execute_result"
    }
   ],
   "source": [
    "labels.head()"
   ]
  },
  {
   "cell_type": "code",
   "execution_count": 136,
   "metadata": {},
   "outputs": [],
   "source": [
    "group_label = np.arange(len(features.index) / 3)\n",
    "group_label = np.matlib.repmat(group_label,3,1)\n",
    "group_label = group_label.reshape(-1,1, order='F')"
   ]
  },
  {
   "cell_type": "code",
   "execution_count": 137,
   "metadata": {},
   "outputs": [],
   "source": [
    "Reg_video = RandomForestRegressor(random_state=8, n_jobs=-1)"
   ]
  },
  {
   "cell_type": "code",
   "execution_count": 138,
   "metadata": {},
   "outputs": [],
   "source": [
    "def CV_Generator(features, labels, group_label, n=8, test_ratio=0.2):\n",
    "    CV_Group = GroupShuffleSplit(n_splits=n, test_size=test_ratio, random_state=8)\n",
    "    for train, test in CV_Group.split(features, labels, groups=group_label):\n",
    "        yield train, test"
   ]
  },
  {
   "cell_type": "code",
   "execution_count": 139,
   "metadata": {},
   "outputs": [],
   "source": [
    "parameters_grid_GCV_3MET = {}"
   ]
  },
  {
   "cell_type": "code",
   "execution_count": 140,
   "metadata": {},
   "outputs": [],
   "source": [
    "parameters_grid_GCV_3MET['n_estimators'] = [411, 729]\n",
    "parameters_grid_GCV_3MET['criterion'] = ['mse']\n",
    "parameters_grid_GCV_3MET['max_depth'] = [8]\n",
    "parameters_grid_GCV_3MET['min_samples_split'] = [3]\n",
    "parameters_grid_GCV_3MET['min_samples_leaf'] = [3]\n",
    "parameters_grid_GCV_3MET['max_features'] = ['auto']\n",
    "parameters_grid_GCV_3MET['bootstrap'] = [True]\n",
    "parameters_grid_GCV_3MET['verbose'] = [0]\n",
    "parameters_grid_GCV_3MET['oob_score'] = [True]"
   ]
  },
  {
   "cell_type": "code",
   "execution_count": 141,
   "metadata": {},
   "outputs": [
    {
     "data": {
      "text/plain": [
       "{'n_estimators': [411, 729],\n",
       " 'criterion': ['mse'],\n",
       " 'max_depth': [8],\n",
       " 'min_samples_split': [3],\n",
       " 'min_samples_leaf': [3],\n",
       " 'max_features': ['auto'],\n",
       " 'bootstrap': [True],\n",
       " 'verbose': [0],\n",
       " 'oob_score': [True]}"
      ]
     },
     "execution_count": 141,
     "metadata": {},
     "output_type": "execute_result"
    }
   ],
   "source": [
    "parameters_grid_GCV_3MET"
   ]
  },
  {
   "cell_type": "code",
   "execution_count": 142,
   "metadata": {},
   "outputs": [],
   "source": [
    "parameters_grid_search_GCV_3MET = GridSearchCV(estimator = Reg_video, param_grid = parameters_grid_GCV_3MET, \n",
    "                          cv = CV_Generator(features, labels, group_label), n_jobs = -1, verbose = 1, return_train_score=True, \n",
    "                                      error_score = np.nan, scoring = scorer, refit = 'rmse', iid=False)"
   ]
  },
  {
   "cell_type": "code",
   "execution_count": 143,
   "metadata": {},
   "outputs": [
    {
     "name": "stdout",
     "output_type": "stream",
     "text": [
      "Fitting 8 folds for each of 2 candidates, totalling 16 fits\n"
     ]
    },
    {
     "name": "stderr",
     "output_type": "stream",
     "text": [
      "[Parallel(n_jobs=-1)]: Using backend LokyBackend with 12 concurrent workers.\n",
      "[Parallel(n_jobs=-1)]: Done  10 out of  16 | elapsed:    5.1s remaining:    3.0s\n",
      "[Parallel(n_jobs=-1)]: Done  16 out of  16 | elapsed:    5.9s finished\n"
     ]
    },
    {
     "data": {
      "text/plain": [
       "GridSearchCV(cv=<generator object CV_Generator at 0x1010eeba0>,\n",
       "       error_score=nan,\n",
       "       estimator=RandomForestRegressor(bootstrap=True, criterion='mse', max_depth=None,\n",
       "           max_features='auto', max_leaf_nodes=None,\n",
       "           min_impurity_decrease=0.0, min_impurity_split=None,\n",
       "           min_samples_leaf=1, min_samples_split=2,\n",
       "           min_weight_fraction_leaf=0.0, n_estimators='warn', n_jobs=-1,\n",
       "           oob_score=False, random_state=8, verbose=0, warm_start=False),\n",
       "       fit_params=None, iid=False, n_jobs=-1,\n",
       "       param_grid={'n_estimators': [411, 729], 'criterion': ['mse'], 'max_depth': [8], 'min_samples_split': [3], 'min_samples_leaf': [3], 'max_features': ['auto'], 'bootstrap': [True], 'verbose': [0], 'oob_score': [True]},\n",
       "       pre_dispatch='2*n_jobs', refit='rmse', return_train_score=True,\n",
       "       scoring={'rmse': make_scorer(rmse, greater_is_better=False), 'lcc': make_scorer(lcc), 'srocc': make_scorer(srocc)},\n",
       "       verbose=1)"
      ]
     },
     "execution_count": 143,
     "metadata": {},
     "output_type": "execute_result"
    }
   ],
   "source": [
    "parameters_grid_search_GCV_3MET.fit(features, labels)"
   ]
  },
  {
   "cell_type": "code",
   "execution_count": 144,
   "metadata": {},
   "outputs": [
    {
     "data": {
      "text/plain": [
       "{'bootstrap': True,\n",
       " 'criterion': 'mse',\n",
       " 'max_depth': 8,\n",
       " 'max_features': 'auto',\n",
       " 'min_samples_leaf': 3,\n",
       " 'min_samples_split': 3,\n",
       " 'n_estimators': 729,\n",
       " 'oob_score': True,\n",
       " 'verbose': 0}"
      ]
     },
     "execution_count": 144,
     "metadata": {},
     "output_type": "execute_result"
    }
   ],
   "source": [
    "parameters_grid_search_GCV_3MET.best_params_"
   ]
  },
  {
   "cell_type": "code",
   "execution_count": 145,
   "metadata": {},
   "outputs": [
    {
     "name": "stdout",
     "output_type": "stream",
     "text": [
      "RMSE: 3.9005800881814743 6.445170971783076\n",
      "LCC: 0.9514355299914055 0.8494568367598186\n",
      "SROCC: 0.9565349544072946 0.8350064350064351\n",
      "\n",
      "\n",
      "RMSE: 3.7436021594219495 7.66246714945702\n",
      "LCC: 0.947794937499316 0.861242468673347\n",
      "SROCC: 0.949467014855088 0.8411840411840412\n",
      "\n",
      "\n",
      "RMSE: 3.8694123279693544 7.6392707700521045\n",
      "LCC: 0.954115588534557 0.6761152099599557\n",
      "SROCC: 0.9571685431739372 0.7263835263835263\n",
      "\n",
      "\n",
      "RMSE: 3.5277141789412862 7.746595550516272\n",
      "LCC: 0.9607989399818944 0.7403013214021853\n",
      "SROCC: 0.9615694164989939 0.7577863577863578\n",
      "\n",
      "\n",
      "RMSE: 3.62928657015873 8.204004989519456\n",
      "LCC: 0.9585352466759084 0.7146889244053022\n",
      "SROCC: 0.958705424033563 0.693951093951094\n",
      "\n",
      "\n",
      "Model saved\n",
      "RMSE: 3.9234415159385567 4.440877597592816\n",
      "LCC: 0.9536293212453085 0.9076684194096628\n",
      "SROCC: 0.9546684361488076 0.8998712998712999\n",
      "\n",
      "\n",
      "RMSE: 3.8359280527580077 6.479509319969363\n",
      "LCC: 0.9511572412216888 0.880467637050621\n",
      "SROCC: 0.9525493385846997 0.9011583011583012\n",
      "\n",
      "\n",
      "RMSE: 3.7892584490228445 6.280280617214183\n",
      "LCC: 0.9549022385800354 0.8335045198254031\n",
      "SROCC: 0.9556659103557514 0.8378378378378378\n",
      "\n",
      "\n",
      "RMSE: 3.783626728508455 6.602360828577414\n",
      "LCC: 0.9547339964949739 0.7986146818645716\n",
      "SROCC: 0.9537694250610042 0.7927927927927929\n",
      "\n",
      "\n",
      "RMSE: 3.897926286698199 6.039852463905994\n",
      "LCC: 0.9508777901942215 0.885194662744821\n",
      "SROCC: 0.9542103685945459 0.9014157014157014\n",
      "\n",
      "\n",
      "RMSE: 3.7230962803785177 6.870233849341592\n",
      "LCC: 0.9573366455310213 0.758742884293779\n",
      "SROCC: 0.9553876450190505 0.781981981981982\n",
      "\n",
      "\n",
      "RMSE: 3.604143313594735 7.967333924784253\n",
      "LCC: 0.9590718604832232 0.699530622901294\n",
      "SROCC: 0.9610599768825719 0.6658944658944659\n",
      "\n",
      "\n",
      "RMSE: 3.88977412010956 6.96665785925197\n",
      "LCC: 0.9505236240159053 0.8113685515425686\n",
      "SROCC: 0.9484995076844042 0.8293436293436294\n",
      "\n",
      "\n",
      "RMSE: 3.858094838464692 6.230536561418639\n",
      "LCC: 0.9519982696027656 0.8632733824684553\n",
      "SROCC: 0.9553491159724302 0.8476190476190477\n",
      "\n",
      "\n",
      "RMSE: 3.847833441862989 6.797222197636716\n",
      "LCC: 0.9549501040017115 0.7199748299730963\n",
      "SROCC: 0.9561539449462734 0.796911196911197\n",
      "\n",
      "\n",
      "RMSE: 3.8318172807986257 6.736091564793227\n",
      "LCC: 0.9522339755459092 0.8398179731291919\n",
      "SROCC: 0.9526906117556402 0.8525096525096526\n",
      "\n",
      "\n"
     ]
    }
   ],
   "source": [
    "idx = 0\n",
    "for train_idx, test_idx in CV_Generator(features, labels, group_label, 16, test_ratio=0.2):\n",
    "    train_features = features.iloc[train_idx]\n",
    "    train_labels = labels.iloc[train_idx]\n",
    "    test_features = features.iloc[test_idx]\n",
    "    test_labels = labels.iloc[test_idx]\n",
    "    best_model = parameters_grid_search_GCV_3MET.best_estimator_.fit(train_features, train_labels)\n",
    "    train_pred = best_model.predict(train_features)\n",
    "    test_pred = best_model.predict(test_features)\n",
    "    if idx == 5:\n",
    "        final_model = best_model\n",
    "        print('Model saved')\n",
    "    print('RMSE:', rmse(train_labels, train_pred), rmse(test_labels, test_pred))\n",
    "    print('LCC:', lcc(train_labels, train_pred), lcc(test_labels, test_pred))\n",
    "    print('SROCC:', srocc(train_labels, train_pred), srocc(test_labels, test_pred))\n",
    "    #print('Accuracy:', accuracy(train_labels, train_pred), accuracy(test_labels, test_pred))\n",
    "    print('\\n')\n",
    "    idx += 1"
   ]
  },
  {
   "cell_type": "code",
   "execution_count": 78,
   "metadata": {},
   "outputs": [],
   "source": [
    "feature_importance = pd.DataFrame(final_model.feature_importances_, index=features.columns, columns=['Weight'])"
   ]
  },
  {
   "cell_type": "code",
   "execution_count": 89,
   "metadata": {},
   "outputs": [],
   "source": [
    "feature_importance = feature_importance.sort_values(by = 'Weight', ascending=False)"
   ]
  },
  {
   "cell_type": "code",
   "execution_count": 93,
   "metadata": {},
   "outputs": [
    {
     "data": {
      "text/html": [
       "<div>\n",
       "<style scoped>\n",
       "    .dataframe tbody tr th:only-of-type {\n",
       "        vertical-align: middle;\n",
       "    }\n",
       "\n",
       "    .dataframe tbody tr th {\n",
       "        vertical-align: top;\n",
       "    }\n",
       "\n",
       "    .dataframe thead th {\n",
       "        text-align: right;\n",
       "    }\n",
       "</style>\n",
       "<table border=\"1\" class=\"dataframe\">\n",
       "  <thead>\n",
       "    <tr style=\"text-align: right;\">\n",
       "      <th></th>\n",
       "      <th>Weight</th>\n",
       "    </tr>\n",
       "  </thead>\n",
       "  <tbody>\n",
       "    <tr>\n",
       "      <th>msssim</th>\n",
       "      <td>0.368298</td>\n",
       "    </tr>\n",
       "    <tr>\n",
       "      <th>TA</th>\n",
       "      <td>0.181027</td>\n",
       "    </tr>\n",
       "    <tr>\n",
       "      <th>psnrhvsm</th>\n",
       "      <td>0.165713</td>\n",
       "    </tr>\n",
       "    <tr>\n",
       "      <th>Blockloss</th>\n",
       "      <td>0.042488</td>\n",
       "    </tr>\n",
       "    <tr>\n",
       "      <th>Noise</th>\n",
       "      <td>0.036638</td>\n",
       "    </tr>\n",
       "    <tr>\n",
       "      <th>Interlace</th>\n",
       "      <td>0.035617</td>\n",
       "    </tr>\n",
       "    <tr>\n",
       "      <th>SA</th>\n",
       "      <td>0.033618</td>\n",
       "    </tr>\n",
       "    <tr>\n",
       "      <th>Blur</th>\n",
       "      <td>0.030434</td>\n",
       "    </tr>\n",
       "    <tr>\n",
       "      <th>Flickering</th>\n",
       "      <td>0.020136</td>\n",
       "    </tr>\n",
       "    <tr>\n",
       "      <th>Exposure(bri)</th>\n",
       "      <td>0.015924</td>\n",
       "    </tr>\n",
       "    <tr>\n",
       "      <th>ssim</th>\n",
       "      <td>0.015093</td>\n",
       "    </tr>\n",
       "    <tr>\n",
       "      <th>Contrast</th>\n",
       "      <td>0.013836</td>\n",
       "    </tr>\n",
       "    <tr>\n",
       "      <th>Blockiness</th>\n",
       "      <td>0.011613</td>\n",
       "    </tr>\n",
       "    <tr>\n",
       "      <th>psnrhvs</th>\n",
       "      <td>0.011357</td>\n",
       "    </tr>\n",
       "    <tr>\n",
       "      <th>vifp</th>\n",
       "      <td>0.009646</td>\n",
       "    </tr>\n",
       "    <tr>\n",
       "      <th>psnr</th>\n",
       "      <td>0.008562</td>\n",
       "    </tr>\n",
       "  </tbody>\n",
       "</table>\n",
       "</div>"
      ],
      "text/plain": [
       "                 Weight\n",
       "msssim         0.368298\n",
       "TA             0.181027\n",
       "psnrhvsm       0.165713\n",
       "Blockloss      0.042488\n",
       "Noise          0.036638\n",
       "Interlace      0.035617\n",
       "SA             0.033618\n",
       "Blur           0.030434\n",
       "Flickering     0.020136\n",
       "Exposure(bri)  0.015924\n",
       "ssim           0.015093\n",
       "Contrast       0.013836\n",
       "Blockiness     0.011613\n",
       "psnrhvs        0.011357\n",
       "vifp           0.009646\n",
       "psnr           0.008562"
      ]
     },
     "execution_count": 93,
     "metadata": {},
     "output_type": "execute_result"
    }
   ],
   "source": [
    "feature_importance"
   ]
  },
  {
   "cell_type": "code",
   "execution_count": 92,
   "metadata": {},
   "outputs": [
    {
     "data": {
      "text/plain": [
       "<function matplotlib.pyplot.tight_layout(pad=1.08, h_pad=None, w_pad=None, rect=None)>"
      ]
     },
     "execution_count": 92,
     "metadata": {},
     "output_type": "execute_result"
    },
    {
     "data": {
      "image/png": "[encoded data removed]",
      "text/plain": [
       "<Figure size 1728x648 with 1 Axes>"
      ]
     },
     "metadata": {},
     "output_type": "display_data"
    }
   ],
   "source": [
    "fig, ax = plt.subplots(figsize = (24, 9))\n",
    "ax.bar(feature_importance.index, feature_importance['Weight'])\n",
    "plt.tight_layout"
   ]
  },
  {
   "cell_type": "code",
   "execution_count": 124,
   "metadata": {},
   "outputs": [],
   "source": [
    "features_augment = features.loc[:,['msssim', 'TA', 'psnrhvsm']]"
   ]
  },
  {
   "cell_type": "code",
   "execution_count": null,
   "metadata": {},
   "outputs": [],
   "source": []
  },
  {
   "cell_type": "code",
   "execution_count": null,
   "metadata": {},
   "outputs": [],
   "source": []
  },
  {
   "cell_type": "code",
   "execution_count": null,
   "metadata": {},
   "outputs": [],
   "source": []
  },
  {
   "cell_type": "code",
   "execution_count": null,
   "metadata": {},
   "outputs": [],
   "source": []
  },
  {
   "cell_type": "code",
   "execution_count": null,
   "metadata": {},
   "outputs": [],
   "source": []
  },
  {
   "cell_type": "code",
   "execution_count": null,
   "metadata": {},
   "outputs": [],
   "source": []
  },
  {
   "cell_type": "code",
   "execution_count": null,
   "metadata": {},
   "outputs": [],
   "source": []
  },
  {
   "cell_type": "code",
   "execution_count": null,
   "metadata": {},
   "outputs": [],
   "source": []
  },
  {
   "cell_type": "code",
   "execution_count": null,
   "metadata": {},
   "outputs": [],
   "source": []
  },
  {
   "cell_type": "code",
   "execution_count": null,
   "metadata": {},
   "outputs": [],
   "source": []
  },
  {
   "cell_type": "code",
   "execution_count": null,
   "metadata": {},
   "outputs": [],
   "source": []
  },
  {
   "cell_type": "code",
   "execution_count": null,
   "metadata": {},
   "outputs": [],
   "source": []
  },
  {
   "cell_type": "code",
   "execution_count": null,
   "metadata": {},
   "outputs": [],
   "source": []
  },
  {
   "cell_type": "code",
   "execution_count": null,
   "metadata": {},
   "outputs": [],
   "source": []
  },
  {
   "cell_type": "code",
   "execution_count": null,
   "metadata": {},
   "outputs": [],
   "source": []
  },
  {
   "cell_type": "code",
   "execution_count": null,
   "metadata": {},
   "outputs": [],
   "source": []
  },
  {
   "cell_type": "code",
   "execution_count": null,
   "metadata": {},
   "outputs": [],
   "source": []
  },
  {
   "cell_type": "code",
   "execution_count": null,
   "metadata": {},
   "outputs": [],
   "source": []
  },
  {
   "cell_type": "code",
   "execution_count": null,
   "metadata": {},
   "outputs": [],
   "source": []
  }
 ],
 "metadata": {
  "kernelspec": {
   "display_name": "Python 3",
   "language": "python",
   "name": "python3"
  },
  "language_info": {
   "codemirror_mode": {
    "name": "ipython",
    "version": 3
   },
   "file_extension": ".py",
   "mimetype": "text/x-python",
   "name": "python",
   "nbconvert_exporter": "python",
   "pygments_lexer": "ipython3",
   "version": "3.6.6"
  }
 },
 "nbformat": 4,
 "nbformat_minor": 2
}
