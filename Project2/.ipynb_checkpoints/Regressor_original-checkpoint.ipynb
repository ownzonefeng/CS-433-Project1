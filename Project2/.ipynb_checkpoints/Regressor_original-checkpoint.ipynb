{
 "cells": [
  {
   "cell_type": "code",
   "execution_count": 235,
   "metadata": {},
   "outputs": [],
   "source": [
    "import pandas as pd\n",
    "import numpy as np\n",
    "import os\n",
    "from sklearn.ensemble import RandomForestRegressor\n",
    "from sklearn.model_selection import GridSearchCV\n",
    "from scipy import stats\n",
    "import joblib\n",
    "from sklearn.model_selection import train_test_split\n",
    "import sklearn.metrics as metrics\n",
    "from sklearn.model_selection import GroupShuffleSplit\n",
    "import matplotlib.pyplot as plt\n",
    "from sklearn.preprocessing import PolynomialFeatures\n",
    "from pprint import pprint"
   ]
  },
  {
   "cell_type": "code",
   "execution_count": 149,
   "metadata": {},
   "outputs": [],
   "source": [
    "%matplotlib inline"
   ]
  },
  {
   "cell_type": "markdown",
   "metadata": {},
   "source": [
    "# Define measurement"
   ]
  },
  {
   "cell_type": "code",
   "execution_count": 163,
   "metadata": {},
   "outputs": [],
   "source": [
    "def rmse(y_true, y_pred):\n",
    "    rmse = np.sqrt(metrics.mean_squared_error(y_true, y_pred))\n",
    "    return rmse"
   ]
  },
  {
   "cell_type": "code",
   "execution_count": 164,
   "metadata": {},
   "outputs": [],
   "source": [
    "def lcc(y_true, y_pred):\n",
    "    lcc, _ = stats.pearsonr(y_true, y_pred)\n",
    "    return lcc"
   ]
  },
  {
   "cell_type": "code",
   "execution_count": 165,
   "metadata": {},
   "outputs": [],
   "source": [
    "def srocc(y_true, y_pred):\n",
    "    srocc, _ = stats.spearmanr(y_true, y_pred)\n",
    "    return srocc"
   ]
  },
  {
   "cell_type": "code",
   "execution_count": 166,
   "metadata": {},
   "outputs": [],
   "source": [
    "def accuracy(y_true, y_pred):\n",
    "    ratio = abs(y_true - y_pred) / y_true\n",
    "    return 1 - np.mean(ratio)"
   ]
  },
  {
   "cell_type": "code",
   "execution_count": 167,
   "metadata": {},
   "outputs": [
    {
     "data": {
      "text/plain": [
       "{'rmse': make_scorer(rmse, greater_is_better=False),\n",
       " 'lcc': make_scorer(lcc),\n",
       " 'srocc': make_scorer(srocc)}"
      ]
     },
     "execution_count": 167,
     "metadata": {},
     "output_type": "execute_result"
    }
   ],
   "source": [
    "scorer = {}\n",
    "scorer['rmse'] = metrics.make_scorer(rmse, greater_is_better=False)\n",
    "scorer['lcc'] = metrics.make_scorer(lcc, greater_is_better=True)\n",
    "scorer['srocc'] = metrics.make_scorer(srocc, greater_is_better=True)\n",
    "scorer"
   ]
  },
  {
   "cell_type": "markdown",
   "metadata": {},
   "source": [
    "# Read data"
   ]
  },
  {
   "cell_type": "code",
   "execution_count": 180,
   "metadata": {},
   "outputs": [],
   "source": [
    "features = pd.read_pickle('features.pkl')\n",
    "labels = pd.read_pickle('labels.pkl')"
   ]
  },
  {
   "cell_type": "markdown",
   "metadata": {},
   "source": [
    "# Group CV generator"
   ]
  },
  {
   "cell_type": "code",
   "execution_count": 158,
   "metadata": {},
   "outputs": [],
   "source": [
    "group_label = np.arange(len(features.index) / 3)\n",
    "group_label = np.matlib.repmat(group_label,3,1)\n",
    "group_label = group_label.reshape(-1,1, order='F')"
   ]
  },
  {
   "cell_type": "code",
   "execution_count": 160,
   "metadata": {},
   "outputs": [],
   "source": [
    "def CV_Generator(features, labels, group_label, n=8, test_ratio=0.2):\n",
    "    CV_Group = GroupShuffleSplit(n_splits=n, test_size=test_ratio, random_state=8)\n",
    "    for train, test in CV_Group.split(features, labels, groups=group_label):\n",
    "        yield train, test"
   ]
  },
  {
   "cell_type": "markdown",
   "metadata": {},
   "source": [
    "# Parameters grid search - first round"
   ]
  },
  {
   "cell_type": "code",
   "execution_count": 183,
   "metadata": {},
   "outputs": [],
   "source": [
    "parameters_grid_1st = {}"
   ]
  },
  {
   "cell_type": "code",
   "execution_count": 184,
   "metadata": {},
   "outputs": [],
   "source": [
    "parameters_grid_1st['n_estimators'] = [100]\n",
    "parameters_grid_1st['criterion'] = ['mse', 'mae']\n",
    "parameters_grid_1st['max_depth'] = [int(x) for x in range(7, 10)]\n",
    "parameters_grid_1st['min_samples_split'] = [2,3,4,5]\n",
    "parameters_grid_1st['min_samples_leaf'] = [2,3,4,5]\n",
    "parameters_grid_1st['max_features'] = ['auto', 'log', 'sqrt']\n",
    "parameters_grid_1st['bootstrap'] = [True, False]\n",
    "parameters_grid_1st['verbose'] = [0]"
   ]
  },
  {
   "cell_type": "code",
   "execution_count": 185,
   "metadata": {},
   "outputs": [
    {
     "data": {
      "text/plain": [
       "{'n_estimators': [100],\n",
       " 'criterion': ['mse', 'mae'],\n",
       " 'max_depth': [7, 8, 9],\n",
       " 'min_samples_split': [2, 3, 4, 5],\n",
       " 'min_samples_leaf': [2, 3, 4, 5],\n",
       " 'max_features': ['auto', 'log', 'sqrt'],\n",
       " 'bootstrap': [True, False],\n",
       " 'verbose': [0]}"
      ]
     },
     "execution_count": 185,
     "metadata": {},
     "output_type": "execute_result"
    }
   ],
   "source": [
    "parameters_grid_1st"
   ]
  },
  {
   "cell_type": "code",
   "execution_count": 186,
   "metadata": {},
   "outputs": [],
   "source": [
    "Reg_video = RandomForestRegressor(random_state=8, n_jobs=-1)"
   ]
  },
  {
   "cell_type": "code",
   "execution_count": 200,
   "metadata": {},
   "outputs": [],
   "source": [
    "parameters_grid_search_1st = GridSearchCV(estimator = Reg_video, param_grid = parameters_grid_1st, \n",
    "                          cv = CV_Generator(features, labels, group_label), n_jobs = -1, verbose = 1, return_train_score=True, \n",
    "                                      error_score = np.nan, scoring = scorer, refit = 'rmse', iid=False)"
   ]
  },
  {
   "cell_type": "code",
   "execution_count": 188,
   "metadata": {},
   "outputs": [
    {
     "name": "stdout",
     "output_type": "stream",
     "text": [
      "Fitting 8 folds for each of 576 candidates, totalling 4608 fits\n"
     ]
    },
    {
     "name": "stderr",
     "output_type": "stream",
     "text": [
      "[Parallel(n_jobs=-1)]: Using backend LokyBackend with 12 concurrent workers.\n",
      "[Parallel(n_jobs=-1)]: Done  26 tasks      | elapsed:    5.0s\n",
      "[Parallel(n_jobs=-1)]: Done 176 tasks      | elapsed:   11.9s\n",
      "[Parallel(n_jobs=-1)]: Done 426 tasks      | elapsed:   24.4s\n",
      "[Parallel(n_jobs=-1)]: Done 776 tasks      | elapsed:   40.7s\n",
      "[Parallel(n_jobs=-1)]: Done 1226 tasks      | elapsed:  1.1min\n",
      "[Parallel(n_jobs=-1)]: Done 1776 tasks      | elapsed:  1.6min\n",
      "[Parallel(n_jobs=-1)]: Done 2426 tasks      | elapsed:  2.4min\n",
      "[Parallel(n_jobs=-1)]: Done 3176 tasks      | elapsed:  3.0min\n",
      "[Parallel(n_jobs=-1)]: Done 4026 tasks      | elapsed:  3.9min\n",
      "[Parallel(n_jobs=-1)]: Done 4608 out of 4608 | elapsed:  4.7min finished\n"
     ]
    },
    {
     "data": {
      "text/plain": [
       "GridSearchCV(cv=<generator object CV_Generator at 0x1a2159afc0>,\n",
       "       error_score=nan,\n",
       "       estimator=RandomForestRegressor(bootstrap=True, criterion='mse', max_depth=None,\n",
       "           max_features='auto', max_leaf_nodes=None,\n",
       "           min_impurity_decrease=0.0, min_impurity_split=None,\n",
       "           min_samples_leaf=1, min_samples_split=2,\n",
       "           min_weight_fraction_leaf=0.0, n_estimators='warn', n_jobs=-1,\n",
       "           oob_score=False, random_state=8, verbose=0, warm_start=False),\n",
       "       fit_params=None, iid=False, n_jobs=-1,\n",
       "       param_grid={'n_estimators': [100], 'criterion': ['mse', 'mae'], 'max_depth': [7, 8, 9], 'min_samples_split': [2, 3, 4, 5], 'min_samples_leaf': [2, 3, 4, 5], 'max_features': ['auto', 'log', 'sqrt'], 'bootstrap': [True, False], 'verbose': [0]},\n",
       "       pre_dispatch='2*n_jobs', refit='rmse', return_train_score=True,\n",
       "       scoring={'rmse': make_scorer(rmse, greater_is_better=False), 'lcc': make_scorer(lcc), 'srocc': make_scorer(srocc)},\n",
       "       verbose=1)"
      ]
     },
     "execution_count": 188,
     "metadata": {},
     "output_type": "execute_result"
    }
   ],
   "source": [
    "parameters_grid_search_1st.fit(features, labels)"
   ]
  },
  {
   "cell_type": "code",
   "execution_count": 189,
   "metadata": {},
   "outputs": [
    {
     "data": {
      "text/plain": [
       "{'bootstrap': True,\n",
       " 'criterion': 'mse',\n",
       " 'max_depth': 8,\n",
       " 'max_features': 'auto',\n",
       " 'min_samples_leaf': 5,\n",
       " 'min_samples_split': 3,\n",
       " 'n_estimators': 100,\n",
       " 'verbose': 0}"
      ]
     },
     "execution_count": 189,
     "metadata": {},
     "output_type": "execute_result"
    }
   ],
   "source": [
    "parameters_grid_search_1st.best_params_"
   ]
  },
  {
   "cell_type": "markdown",
   "metadata": {},
   "source": [
    "# Parameters grid search - second round"
   ]
  },
  {
   "cell_type": "code",
   "execution_count": 211,
   "metadata": {},
   "outputs": [],
   "source": [
    "parameters_grid_2nd = {}"
   ]
  },
  {
   "cell_type": "code",
   "execution_count": 212,
   "metadata": {},
   "outputs": [],
   "source": [
    "parameters_grid_2nd['n_estimators'] = [100]\n",
    "parameters_grid_2nd['criterion'] = ['mse']\n",
    "parameters_grid_2nd['max_depth'] = [8]\n",
    "parameters_grid_2nd['min_samples_split'] = [int(x) for x in range(5, 20)]\n",
    "parameters_grid_2nd['min_samples_leaf'] = [3]\n",
    "parameters_grid_2nd['max_features'] = ['auto']\n",
    "parameters_grid_2nd['bootstrap'] = [True]\n",
    "parameters_grid_2nd['verbose'] = [0]\n",
    "parameters_grid_2nd['oob_score'] = [True, False]"
   ]
  },
  {
   "cell_type": "code",
   "execution_count": 213,
   "metadata": {},
   "outputs": [],
   "source": [
    "parameters_grid_search_2nd = GridSearchCV(estimator = Reg_video, param_grid = parameters_grid_2nd, \n",
    "                          cv = CV_Generator(features, labels, group_label), n_jobs = -1, verbose = 1, return_train_score=True, \n",
    "                                      error_score = np.nan, scoring = scorer, refit = 'rmse', iid=False)"
   ]
  },
  {
   "cell_type": "code",
   "execution_count": 214,
   "metadata": {},
   "outputs": [
    {
     "name": "stdout",
     "output_type": "stream",
     "text": [
      "Fitting 8 folds for each of 30 candidates, totalling 240 fits\n"
     ]
    },
    {
     "name": "stderr",
     "output_type": "stream",
     "text": [
      "[Parallel(n_jobs=-1)]: Using backend LokyBackend with 12 concurrent workers.\n",
      "[Parallel(n_jobs=-1)]: Done  26 tasks      | elapsed:    2.4s\n",
      "[Parallel(n_jobs=-1)]: Done 176 tasks      | elapsed:   12.1s\n",
      "[Parallel(n_jobs=-1)]: Done 240 out of 240 | elapsed:   16.1s finished\n"
     ]
    },
    {
     "data": {
      "text/plain": [
       "GridSearchCV(cv=<generator object CV_Generator at 0x1a2088d5c8>,\n",
       "       error_score=nan,\n",
       "       estimator=RandomForestRegressor(bootstrap=True, criterion='mse', max_depth=None,\n",
       "           max_features='auto', max_leaf_nodes=None,\n",
       "           min_impurity_decrease=0.0, min_impurity_split=None,\n",
       "           min_samples_leaf=1, min_samples_split=2,\n",
       "           min_weight_fraction_leaf=0.0, n_estimators='warn', n_jobs=-1,\n",
       "           oob_score=False, random_state=8, verbose=0, warm_start=False),\n",
       "       fit_params=None, iid=False, n_jobs=-1,\n",
       "       param_grid={'n_estimators': [100], 'criterion': ['mse'], 'max_depth': [8], 'min_samples_split': [5, 6, 7, 8, 9, 10, 11, 12, 13, 14, 15, 16, 17, 18, 19], 'min_samples_leaf': [3], 'max_features': ['auto'], 'bootstrap': [True], 'verbose': [0], 'oob_score': [True, False]},\n",
       "       pre_dispatch='2*n_jobs', refit='rmse', return_train_score=True,\n",
       "       scoring={'rmse': make_scorer(rmse, greater_is_better=False), 'lcc': make_scorer(lcc), 'srocc': make_scorer(srocc)},\n",
       "       verbose=1)"
      ]
     },
     "execution_count": 214,
     "metadata": {},
     "output_type": "execute_result"
    }
   ],
   "source": [
    "parameters_grid_search_2nd.fit(features, labels)"
   ]
  },
  {
   "cell_type": "code",
   "execution_count": 215,
   "metadata": {},
   "outputs": [
    {
     "data": {
      "text/plain": [
       "{'bootstrap': True,\n",
       " 'criterion': 'mse',\n",
       " 'max_depth': 8,\n",
       " 'max_features': 'auto',\n",
       " 'min_samples_leaf': 3,\n",
       " 'min_samples_split': 10,\n",
       " 'n_estimators': 100,\n",
       " 'oob_score': True,\n",
       " 'verbose': 0}"
      ]
     },
     "execution_count": 215,
     "metadata": {},
     "output_type": "execute_result"
    }
   ],
   "source": [
    "parameters_grid_search_2nd.best_params_"
   ]
  },
  {
   "cell_type": "markdown",
   "metadata": {},
   "source": [
    "# Parameters grid search - third round"
   ]
  },
  {
   "cell_type": "code",
   "execution_count": 222,
   "metadata": {},
   "outputs": [],
   "source": [
    "parameters_grid_3rd = {}"
   ]
  },
  {
   "cell_type": "code",
   "execution_count": 223,
   "metadata": {},
   "outputs": [],
   "source": [
    "parameters_grid_3rd['n_estimators'] = [int(x) for x in range(100, 1000, 10)]\n",
    "parameters_grid_3rd['criterion'] = ['mse']\n",
    "parameters_grid_3rd['max_depth'] = [8]\n",
    "parameters_grid_3rd['min_samples_split'] = [10]\n",
    "parameters_grid_3rd['min_samples_leaf'] = [3]\n",
    "parameters_grid_3rd['max_features'] = ['auto']\n",
    "parameters_grid_3rd['bootstrap'] = [True]\n",
    "parameters_grid_3rd['verbose'] = [0]\n",
    "parameters_grid_3rd['oob_score'] = [True]"
   ]
  },
  {
   "cell_type": "code",
   "execution_count": 224,
   "metadata": {},
   "outputs": [],
   "source": [
    "parameters_grid_search_3rd = GridSearchCV(estimator = Reg_video, param_grid = parameters_grid_3rd, \n",
    "                          cv = CV_Generator(features, labels, group_label), n_jobs = -1, verbose = 1, return_train_score=True, \n",
    "                                      error_score = np.nan, scoring = scorer, refit = 'rmse', iid=False)"
   ]
  },
  {
   "cell_type": "code",
   "execution_count": 225,
   "metadata": {},
   "outputs": [
    {
     "name": "stdout",
     "output_type": "stream",
     "text": [
      "Fitting 8 folds for each of 90 candidates, totalling 720 fits\n"
     ]
    },
    {
     "name": "stderr",
     "output_type": "stream",
     "text": [
      "[Parallel(n_jobs=-1)]: Using backend LokyBackend with 12 concurrent workers.\n",
      "[Parallel(n_jobs=-1)]: Done  26 tasks      | elapsed:    2.4s\n",
      "[Parallel(n_jobs=-1)]: Done 176 tasks      | elapsed:   15.7s\n",
      "[Parallel(n_jobs=-1)]: Done 426 tasks      | elapsed:   58.9s\n",
      "[Parallel(n_jobs=-1)]: Done 720 out of 720 | elapsed:  2.3min finished\n"
     ]
    },
    {
     "data": {
      "text/plain": [
       "GridSearchCV(cv=<generator object CV_Generator at 0x1a2088df68>,\n",
       "       error_score=nan,\n",
       "       estimator=RandomForestRegressor(bootstrap=True, criterion='mse', max_depth=None,\n",
       "           max_features='auto', max_leaf_nodes=None,\n",
       "           min_impurity_decrease=0.0, min_impurity_split=None,\n",
       "           min_samples_leaf=1, min_samples_split=2,\n",
       "           min_weight_fraction_leaf=0.0, n_estimators='warn', n_jobs=-1,\n",
       "           oob_score=False, random_state=8, verbose=0, warm_start=False),\n",
       "       fit_params=None, iid=False, n_jobs=-1,\n",
       "       param_grid={'n_estimators': [100, 110, 120, 130, 140, 150, 160, 170, 180, 190, 200, 210, 220, 230, 240, 250, 260, 270, 280, 290, 300, 310, 320, 330, 340, 350, 360, 370, 380, 390, 400, 410, 420, 430, 440, 450, 460, 470, 480, 490, 500, 510, 520, 530, 540, 550, 560, 570, 580, 590, 600, 610, 620, 630, 6...ples_leaf': [3], 'max_features': ['auto'], 'bootstrap': [True], 'verbose': [0], 'oob_score': [True]},\n",
       "       pre_dispatch='2*n_jobs', refit='rmse', return_train_score=True,\n",
       "       scoring={'rmse': make_scorer(rmse, greater_is_better=False), 'lcc': make_scorer(lcc), 'srocc': make_scorer(srocc)},\n",
       "       verbose=1)"
      ]
     },
     "execution_count": 225,
     "metadata": {},
     "output_type": "execute_result"
    }
   ],
   "source": [
    "parameters_grid_search_3rd.fit(features, labels)"
   ]
  },
  {
   "cell_type": "code",
   "execution_count": 226,
   "metadata": {},
   "outputs": [
    {
     "data": {
      "text/plain": [
       "{'bootstrap': True,\n",
       " 'criterion': 'mse',\n",
       " 'max_depth': 8,\n",
       " 'max_features': 'auto',\n",
       " 'min_samples_leaf': 3,\n",
       " 'min_samples_split': 10,\n",
       " 'n_estimators': 130,\n",
       " 'oob_score': True,\n",
       " 'verbose': 0}"
      ]
     },
     "execution_count": 226,
     "metadata": {},
     "output_type": "execute_result"
    }
   ],
   "source": [
    "parameters_grid_search_3rd.best_params_"
   ]
  },
  {
   "cell_type": "markdown",
   "metadata": {},
   "source": [
    "# Discover best training set"
   ]
  },
  {
   "cell_type": "code",
   "execution_count": 242,
   "metadata": {},
   "outputs": [
    {
     "name": "stdout",
     "output_type": "stream",
     "text": [
      "       train set            test set\n",
      "RMSE 4.423788727547042 6.531665545664803\n",
      "LCC 0.9352243776274342 0.8445337057774442\n",
      "SROCC 0.9443169656235283 0.8272844272844273\n",
      "Accuracy 0.932728095254622 0.8998566880243327\n",
      "\n",
      "\n",
      "       train set            test set\n",
      "RMSE 4.334452365839574 7.470458935747814\n",
      "LCC 0.9256608128836751 0.870429102733881\n",
      "SROCC 0.9330322359690055 0.8576576576576578\n",
      "Accuracy 0.9348648825626429 0.8785489299379513\n",
      "\n",
      "\n",
      "       train set            test set\n",
      "RMSE 4.469206511820765 7.7338458779421035\n",
      "LCC 0.9362407332918498 0.6614106420026541\n",
      "SROCC 0.9438246500278263 0.7070785070785072\n",
      "Accuracy 0.9343891661611267 0.88473710773594\n",
      "\n",
      "\n",
      "       train set            test set\n",
      "RMSE 4.062615111573338 7.740170333284821\n",
      "LCC 0.9460692740275327 0.7387484653583172\n",
      "SROCC 0.9472494541718395 0.744916344916345\n",
      "Accuracy 0.9386769655053496 0.8802881496353266\n",
      "\n",
      "\n",
      "       train set            test set\n",
      "RMSE 4.233228506463554 8.203328262711143\n",
      "LCC 0.9407890571652876 0.7160633524777505\n",
      "SROCC 0.9438674600796266 0.7068211068211069\n",
      "Accuracy 0.9365742608386095 0.8689376203616954\n",
      "\n",
      "\n",
      "Model saved\n",
      "       train set            test set\n",
      "RMSE 4.59169491105758 4.471242464768334\n",
      "LCC 0.9348368742391696 0.9089729007469287\n",
      "SROCC 0.938713129842887 0.8954954954954955\n",
      "Accuracy 0.9292174030062182 0.9318578916346129\n",
      "\n",
      "\n",
      "       train set            test set\n",
      "RMSE 4.437797186837918 6.571641050577576\n",
      "LCC 0.9315322762497146 0.8764333885183612\n",
      "SROCC 0.9382507812834453 0.9027027027027028\n",
      "Accuracy 0.9338199800380086 0.88071650733102\n",
      "\n",
      "\n",
      "       train set            test set\n",
      "RMSE 4.399950766580864 6.095793237619579\n",
      "LCC 0.936252046050492 0.8428342486460122\n",
      "SROCC 0.9398732822466714 0.840926640926641\n",
      "Accuracy 0.9331582077351702 0.9054552737683847\n",
      "\n",
      "\n",
      "       train set            test set\n",
      "RMSE 4.39402031455965 6.66871537801829\n",
      "LCC 0.9365859323364092 0.793843346504654\n",
      "SROCC 0.9386874438118069 0.7897039897039898\n",
      "Accuracy 0.9343616082728968 0.8877780047592626\n",
      "\n",
      "\n",
      "       train set            test set\n",
      "RMSE 4.570439546046808 6.114000672061187\n",
      "LCC 0.93001164457488 0.8809907734614284\n",
      "SROCC 0.9354381608801746 0.8983268983268984\n",
      "Accuracy 0.9310549209842736 0.8930794481597001\n",
      "\n",
      "\n",
      "       train set            test set\n",
      "RMSE 4.2594225994936314 6.492277447257496\n",
      "LCC 0.9416562075088889 0.7824826415124173\n",
      "SROCC 0.9382336572627251 0.8015444015444017\n",
      "Accuracy 0.934757804037337 0.9044824350768694\n",
      "\n",
      "\n",
      "       train set            test set\n",
      "RMSE 4.147339834658595 7.991361772250771\n",
      "LCC 0.9439205875281628 0.6973551335099702\n",
      "SROCC 0.9477118027312812 0.6555984555984558\n",
      "Accuracy 0.9361666748923343 0.8848985040346943\n",
      "\n",
      "\n",
      "       train set            test set\n",
      "RMSE 4.47865739616364 6.960175501762008\n",
      "LCC 0.9306436531477293 0.810418246140695\n",
      "SROCC 0.9302367395864548 0.8393822393822393\n",
      "Accuracy 0.9306292268456892 0.9104293473113123\n",
      "\n",
      "\n",
      "       train set            test set\n",
      "RMSE 4.400721489868059 6.281507528162455\n",
      "LCC 0.9361090200278266 0.8602263424131688\n",
      "SROCC 0.9411533027954964 0.8537966537966538\n",
      "Accuracy 0.9334626408516781 0.8835626484615192\n",
      "\n",
      "\n",
      "       train set            test set\n",
      "RMSE 4.367888314991951 6.66881039456628\n",
      "LCC 0.9398019342961642 0.7352554380470862\n",
      "SROCC 0.9415214692409777 0.7956241956241957\n",
      "Accuracy 0.9342862212442007 0.8972578592238392\n",
      "\n",
      "\n",
      "       train set            test set\n",
      "RMSE 4.510299177890603 6.7149961201363375\n",
      "LCC 0.929839625876546 0.8393221414701937\n",
      "SROCC 0.9338113789117685 0.8460746460746461\n",
      "Accuracy 0.9339683241138519 0.8860308218881229\n",
      "\n",
      "\n"
     ]
    }
   ],
   "source": [
    "idx = 0\n",
    "for train_idx, test_idx in CV_Generator(features, labels, group_label, 16, test_ratio=0.2):\n",
    "    train_features = features.iloc[train_idx]\n",
    "    train_labels = labels.iloc[train_idx]\n",
    "    test_features = features.iloc[test_idx]\n",
    "    test_labels = labels.iloc[test_idx]\n",
    "    best_model = parameters_grid_search_3rd.best_estimator_.fit(train_features, train_labels)\n",
    "    train_pred = best_model.predict(train_features)\n",
    "    test_pred = best_model.predict(test_features)\n",
    "    #label_pred_ave[test_idx] = label_pred_ave[test_idx] + test_pred\n",
    "    #label_count[test_idx] = label_count[test_idx] + 1\n",
    "    if idx == 5:\n",
    "        final_model = best_model\n",
    "        best_train_idx = train_idx\n",
    "        best_test_idx = test_idx\n",
    "        print('Model saved')\n",
    "        #print(test_pred - test_labels)\n",
    "    print('       train set            test set')\n",
    "    print('RMSE', rmse(train_labels, train_pred), rmse(test_labels, test_pred))\n",
    "    print('LCC', lcc(train_labels, train_pred), lcc(test_labels, test_pred))\n",
    "    print('SROCC', srocc(train_labels, train_pred), srocc(test_labels, test_pred))\n",
    "    print('Accuracy', accuracy(train_labels, train_pred), accuracy(test_labels, test_pred))\n",
    "    print('\\n')\n",
    "    idx += 1"
   ]
  },
  {
   "cell_type": "markdown",
   "metadata": {},
   "source": [
    "# Best model and performance"
   ]
  },
  {
   "cell_type": "code",
   "execution_count": 243,
   "metadata": {},
   "outputs": [
    {
     "name": "stdout",
     "output_type": "stream",
     "text": [
      "{'bootstrap': True,\n",
      " 'criterion': 'mse',\n",
      " 'max_depth': 8,\n",
      " 'max_features': 'auto',\n",
      " 'max_leaf_nodes': None,\n",
      " 'min_impurity_decrease': 0.0,\n",
      " 'min_impurity_split': None,\n",
      " 'min_samples_leaf': 3,\n",
      " 'min_samples_split': 10,\n",
      " 'min_weight_fraction_leaf': 0.0,\n",
      " 'n_estimators': 130,\n",
      " 'n_jobs': -1,\n",
      " 'oob_score': True,\n",
      " 'random_state': 8,\n",
      " 'verbose': 0,\n",
      " 'warm_start': False}\n"
     ]
    }
   ],
   "source": [
    "pprint(final_model.get_params())"
   ]
  },
  {
   "cell_type": "code",
   "execution_count": 247,
   "metadata": {},
   "outputs": [
    {
     "name": "stdout",
     "output_type": "stream",
     "text": [
      "  The accuracy of result of best model\n",
      "       train set            test set\n",
      "RMSE 5.4436776110037375 2.949932111840388\n",
      "LCC 0.8987714004533585 0.9617563376194712\n",
      "SROCC 0.9006592747977226 0.9500643500643502\n",
      "Accuracy 0.9169796990804356 0.9525696032690034\n"
     ]
    }
   ],
   "source": [
    "train_features = features.iloc[best_train_idx]\n",
    "train_labels = labels.iloc[best_train_idx]\n",
    "test_features = features.iloc[best_test_idx]\n",
    "test_labels = labels.iloc[best_test_idx]\n",
    "train_pred = final_model.predict(train_features)\n",
    "test_pred = final_model.predict(test_features)\n",
    "print('  The accuracy of result of best model')\n",
    "print('       train set            test set')\n",
    "print('RMSE', rmse(train_labels, train_pred), rmse(test_labels, test_pred))\n",
    "print('LCC', lcc(train_labels, train_pred), lcc(test_labels, test_pred))\n",
    "print('SROCC', srocc(train_labels, train_pred), srocc(test_labels, test_pred))\n",
    "print('Accuracy', accuracy(train_labels, train_pred), accuracy(test_labels, test_pred))"
   ]
  },
  {
   "cell_type": "code",
   "execution_count": 134,
   "metadata": {},
   "outputs": [],
   "source": [
    "\n"
   ]
  },
  {
   "cell_type": "code",
   "execution_count": 135,
   "metadata": {},
   "outputs": [
    {
     "name": "stdout",
     "output_type": "stream",
     "text": [
      "10\n",
      "20\n",
      "30\n",
      "40\n",
      "50\n",
      "60\n",
      "70\n",
      "80\n",
      "90\n",
      "100\n"
     ]
    }
   ],
   "source": []
  },
  {
   "cell_type": "code",
   "execution_count": 136,
   "metadata": {},
   "outputs": [],
   "source": []
  },
  {
   "cell_type": "code",
   "execution_count": null,
   "metadata": {},
   "outputs": [],
   "source": []
  },
  {
   "cell_type": "code",
   "execution_count": 137,
   "metadata": {},
   "outputs": [
    {
     "name": "stdout",
     "output_type": "stream",
     "text": [
      "RMSE: 4.796723796869648\n",
      "LCC: 0.922594467393692\n",
      "SROCC: 0.9216685999203615\n",
      "Accuracy 0.9287005007629306\n"
     ]
    }
   ],
   "source": []
  },
  {
   "cell_type": "code",
   "execution_count": 138,
   "metadata": {},
   "outputs": [],
   "source": [
    "feature_importance = pd.DataFrame(final_model.feature_importances_, index=features.columns, columns=['Weight'])"
   ]
  },
  {
   "cell_type": "code",
   "execution_count": 139,
   "metadata": {},
   "outputs": [],
   "source": [
    "feature_importance = feature_importance.sort_values(by = 'Weight', ascending=False)"
   ]
  },
  {
   "cell_type": "code",
   "execution_count": 140,
   "metadata": {},
   "outputs": [
    {
     "data": {
      "text/html": [
       "<div>\n",
       "<style scoped>\n",
       "    .dataframe tbody tr th:only-of-type {\n",
       "        vertical-align: middle;\n",
       "    }\n",
       "\n",
       "    .dataframe tbody tr th {\n",
       "        vertical-align: top;\n",
       "    }\n",
       "\n",
       "    .dataframe thead th {\n",
       "        text-align: right;\n",
       "    }\n",
       "</style>\n",
       "<table border=\"1\" class=\"dataframe\">\n",
       "  <thead>\n",
       "    <tr style=\"text-align: right;\">\n",
       "      <th></th>\n",
       "      <th>Weight</th>\n",
       "    </tr>\n",
       "  </thead>\n",
       "  <tbody>\n",
       "    <tr>\n",
       "      <th>msssim</th>\n",
       "      <td>0.380318</td>\n",
       "    </tr>\n",
       "    <tr>\n",
       "      <th>TA</th>\n",
       "      <td>0.181886</td>\n",
       "    </tr>\n",
       "    <tr>\n",
       "      <th>psnrhvsm</th>\n",
       "      <td>0.150509</td>\n",
       "    </tr>\n",
       "    <tr>\n",
       "      <th>SA</th>\n",
       "      <td>0.046529</td>\n",
       "    </tr>\n",
       "    <tr>\n",
       "      <th>Noise</th>\n",
       "      <td>0.040862</td>\n",
       "    </tr>\n",
       "    <tr>\n",
       "      <th>Blur</th>\n",
       "      <td>0.034587</td>\n",
       "    </tr>\n",
       "    <tr>\n",
       "      <th>Interlace</th>\n",
       "      <td>0.032374</td>\n",
       "    </tr>\n",
       "    <tr>\n",
       "      <th>Flickering</th>\n",
       "      <td>0.028311</td>\n",
       "    </tr>\n",
       "    <tr>\n",
       "      <th>ssim</th>\n",
       "      <td>0.022061</td>\n",
       "    </tr>\n",
       "    <tr>\n",
       "      <th>Exposure(bri)</th>\n",
       "      <td>0.019179</td>\n",
       "    </tr>\n",
       "    <tr>\n",
       "      <th>Contrast</th>\n",
       "      <td>0.015221</td>\n",
       "    </tr>\n",
       "    <tr>\n",
       "      <th>Blockiness</th>\n",
       "      <td>0.013835</td>\n",
       "    </tr>\n",
       "    <tr>\n",
       "      <th>psnrhvs</th>\n",
       "      <td>0.013096</td>\n",
       "    </tr>\n",
       "    <tr>\n",
       "      <th>vifp</th>\n",
       "      <td>0.011880</td>\n",
       "    </tr>\n",
       "    <tr>\n",
       "      <th>psnr</th>\n",
       "      <td>0.009350</td>\n",
       "    </tr>\n",
       "  </tbody>\n",
       "</table>\n",
       "</div>"
      ],
      "text/plain": [
       "                 Weight\n",
       "msssim         0.380318\n",
       "TA             0.181886\n",
       "psnrhvsm       0.150509\n",
       "SA             0.046529\n",
       "Noise          0.040862\n",
       "Blur           0.034587\n",
       "Interlace      0.032374\n",
       "Flickering     0.028311\n",
       "ssim           0.022061\n",
       "Exposure(bri)  0.019179\n",
       "Contrast       0.015221\n",
       "Blockiness     0.013835\n",
       "psnrhvs        0.013096\n",
       "vifp           0.011880\n",
       "psnr           0.009350"
      ]
     },
     "execution_count": 140,
     "metadata": {},
     "output_type": "execute_result"
    }
   ],
   "source": [
    "feature_importance"
   ]
  },
  {
   "cell_type": "code",
   "execution_count": 141,
   "metadata": {},
   "outputs": [
    {
     "data": {
      "text/plain": [
       "<function matplotlib.pyplot.tight_layout(pad=1.08, h_pad=None, w_pad=None, rect=None)>"
      ]
     },
     "execution_count": 141,
     "metadata": {},
     "output_type": "execute_result"
    },
    {
     "data": {
      "image/png": "[encoded data removed]",
      "text/plain": [
       "<Figure size 1728x648 with 1 Axes>"
      ]
     },
     "metadata": {},
     "output_type": "display_data"
    }
   ],
   "source": [
    "fig, ax = plt.subplots(figsize = (24, 9))\n",
    "ax.bar(feature_importance.index, feature_importance['Weight'])\n",
    "plt.tight_layout"
   ]
  },
  {
   "cell_type": "code",
   "execution_count": 142,
   "metadata": {},
   "outputs": [],
   "source": [
    "features_augment = features.loc[:,['msssim', 'TA', 'psnrhvsm']]"
   ]
  },
  {
   "cell_type": "code",
   "execution_count": null,
   "metadata": {},
   "outputs": [],
   "source": []
  },
  {
   "cell_type": "code",
   "execution_count": null,
   "metadata": {},
   "outputs": [],
   "source": []
  },
  {
   "cell_type": "code",
   "execution_count": null,
   "metadata": {},
   "outputs": [],
   "source": []
  },
  {
   "cell_type": "code",
   "execution_count": null,
   "metadata": {},
   "outputs": [],
   "source": []
  },
  {
   "cell_type": "code",
   "execution_count": null,
   "metadata": {},
   "outputs": [],
   "source": []
  },
  {
   "cell_type": "code",
   "execution_count": null,
   "metadata": {},
   "outputs": [],
   "source": []
  },
  {
   "cell_type": "code",
   "execution_count": null,
   "metadata": {},
   "outputs": [],
   "source": []
  },
  {
   "cell_type": "code",
   "execution_count": null,
   "metadata": {},
   "outputs": [],
   "source": []
  },
  {
   "cell_type": "code",
   "execution_count": null,
   "metadata": {},
   "outputs": [],
   "source": []
  },
  {
   "cell_type": "code",
   "execution_count": null,
   "metadata": {},
   "outputs": [],
   "source": []
  },
  {
   "cell_type": "code",
   "execution_count": null,
   "metadata": {},
   "outputs": [],
   "source": []
  },
  {
   "cell_type": "code",
   "execution_count": null,
   "metadata": {},
   "outputs": [],
   "source": []
  },
  {
   "cell_type": "code",
   "execution_count": null,
   "metadata": {},
   "outputs": [],
   "source": []
  },
  {
   "cell_type": "code",
   "execution_count": null,
   "metadata": {},
   "outputs": [],
   "source": []
  },
  {
   "cell_type": "code",
   "execution_count": null,
   "metadata": {},
   "outputs": [],
   "source": []
  },
  {
   "cell_type": "code",
   "execution_count": null,
   "metadata": {},
   "outputs": [],
   "source": []
  },
  {
   "cell_type": "code",
   "execution_count": null,
   "metadata": {},
   "outputs": [],
   "source": []
  },
  {
   "cell_type": "code",
   "execution_count": null,
   "metadata": {},
   "outputs": [],
   "source": []
  },
  {
   "cell_type": "code",
   "execution_count": null,
   "metadata": {},
   "outputs": [],
   "source": []
  }
 ],
 "metadata": {
  "kernelspec": {
   "display_name": "Python 3",
   "language": "python",
   "name": "python3"
  },
  "language_info": {
   "codemirror_mode": {
    "name": "ipython",
    "version": 3
   },
   "file_extension": ".py",
   "mimetype": "text/x-python",
   "name": "python",
   "nbconvert_exporter": "python",
   "pygments_lexer": "ipython3",
   "version": "3.6.6"
  }
 },
 "nbformat": 4,
 "nbformat_minor": 2
}
