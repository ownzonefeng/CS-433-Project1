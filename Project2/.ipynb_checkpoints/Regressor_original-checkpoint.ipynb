{
 "cells": [
  {
   "cell_type": "code",
   "execution_count": 1,
   "metadata": {},
   "outputs": [],
   "source": [
    "import pandas as pd\n",
    "import numpy as np\n",
    "import os\n",
    "from sklearn.ensemble import RandomForestRegressor\n",
    "from sklearn.model_selection import GridSearchCV\n",
    "from scipy import stats\n",
    "import joblib\n",
    "from sklearn.model_selection import train_test_split\n",
    "import sklearn.metrics as metrics\n",
    "from sklearn.model_selection import GroupShuffleSplit\n",
    "import matplotlib.pyplot as plt\n",
    "from sklearn.preprocessing import PolynomialFeatures"
   ]
  },
  {
   "cell_type": "code",
   "execution_count": 2,
   "metadata": {},
   "outputs": [],
   "source": [
    "%matplotlib inline"
   ]
  },
  {
   "cell_type": "code",
   "execution_count": 3,
   "metadata": {},
   "outputs": [],
   "source": [
    "def rmse(y_true, y_pred):\n",
    "    rmse = np.sqrt(metrics.mean_squared_error(y_true, y_pred))\n",
    "    return rmse\n",
    "\n",
    "def lcc(y_true, y_pred):\n",
    "    lcc, _ = stats.pearsonr(y_true, y_pred)\n",
    "    return lcc\n",
    "\n",
    "def srocc(y_true, y_pred):\n",
    "    srocc, _ = stats.spearmanr(y_true, y_pred)\n",
    "    return srocc"
   ]
  },
  {
   "cell_type": "code",
   "execution_count": 4,
   "metadata": {},
   "outputs": [],
   "source": [
    "def accuracy(y_true, y_pred):\n",
    "    ratio = abs(y_true - y_pred) / y_true\n",
    "    return 1 - np.mean(ratio)"
   ]
  },
  {
   "cell_type": "code",
   "execution_count": 5,
   "metadata": {},
   "outputs": [
    {
     "data": {
      "text/plain": [
       "{'rmse': make_scorer(rmse, greater_is_better=False),\n",
       " 'lcc': make_scorer(lcc),\n",
       " 'srocc': make_scorer(srocc)}"
      ]
     },
     "execution_count": 5,
     "metadata": {},
     "output_type": "execute_result"
    }
   ],
   "source": [
    "scorer = {}\n",
    "scorer['rmse'] = metrics.make_scorer(rmse, greater_is_better=False)\n",
    "scorer['lcc'] = metrics.make_scorer(lcc, greater_is_better=True)\n",
    "scorer['srocc'] = metrics.make_scorer(srocc, greater_is_better=True)\n",
    "scorer"
   ]
  },
  {
   "cell_type": "code",
   "execution_count": 6,
   "metadata": {},
   "outputs": [],
   "source": [
    "features = pd.read_pickle('features.pkl')\n",
    "labels = pd.read_pickle('labels.pkl')"
   ]
  },
  {
   "cell_type": "code",
   "execution_count": 62,
   "metadata": {},
   "outputs": [],
   "source": [
    "features = features.drop(['Blockloss'], axis = 1)"
   ]
  },
  {
   "cell_type": "code",
   "execution_count": 63,
   "metadata": {},
   "outputs": [
    {
     "data": {
      "text/html": [
       "<div>\n",
       "<style scoped>\n",
       "    .dataframe tbody tr th:only-of-type {\n",
       "        vertical-align: middle;\n",
       "    }\n",
       "\n",
       "    .dataframe tbody tr th {\n",
       "        vertical-align: top;\n",
       "    }\n",
       "\n",
       "    .dataframe thead th {\n",
       "        text-align: right;\n",
       "    }\n",
       "</style>\n",
       "<table border=\"1\" class=\"dataframe\">\n",
       "  <thead>\n",
       "    <tr style=\"text-align: right;\">\n",
       "      <th></th>\n",
       "      <th>msssim</th>\n",
       "      <th>psnr</th>\n",
       "      <th>psnrhvs</th>\n",
       "      <th>psnrhvsm</th>\n",
       "      <th>ssim</th>\n",
       "      <th>vifp</th>\n",
       "      <th>Blockiness</th>\n",
       "      <th>Blur</th>\n",
       "      <th>Contrast</th>\n",
       "      <th>Exposure(bri)</th>\n",
       "      <th>Flickering</th>\n",
       "      <th>Interlace</th>\n",
       "      <th>Noise</th>\n",
       "      <th>SA</th>\n",
       "      <th>TA</th>\n",
       "    </tr>\n",
       "  </thead>\n",
       "  <tbody>\n",
       "    <tr>\n",
       "      <th>G10BoatInPark_ERP_4096x2048_fps30_qp27_14547k.mp4</th>\n",
       "      <td>0.993424</td>\n",
       "      <td>41.829451</td>\n",
       "      <td>39.401728</td>\n",
       "      <td>43.855814</td>\n",
       "      <td>0.989905</td>\n",
       "      <td>0.818723</td>\n",
       "      <td>0.918001</td>\n",
       "      <td>6.318822</td>\n",
       "      <td>56.274408</td>\n",
       "      <td>122.973648</td>\n",
       "      <td>0.973981</td>\n",
       "      <td>0.004543</td>\n",
       "      <td>0.385048</td>\n",
       "      <td>48.017774</td>\n",
       "      <td>12.572215</td>\n",
       "    </tr>\n",
       "    <tr>\n",
       "      <th>G10BoatInPark_ERP_4096x2048_fps30_qp37_3270k.mp4</th>\n",
       "      <td>0.978172</td>\n",
       "      <td>37.045777</td>\n",
       "      <td>34.074029</td>\n",
       "      <td>36.540714</td>\n",
       "      <td>0.975696</td>\n",
       "      <td>0.721947</td>\n",
       "      <td>0.923023</td>\n",
       "      <td>6.802874</td>\n",
       "      <td>56.220687</td>\n",
       "      <td>122.235861</td>\n",
       "      <td>0.974016</td>\n",
       "      <td>0.001439</td>\n",
       "      <td>0.250219</td>\n",
       "      <td>45.613703</td>\n",
       "      <td>12.228131</td>\n",
       "    </tr>\n",
       "    <tr>\n",
       "      <th>G10BoatInPark_ERP_4096x2048_fps30_qp42_1507k.mp4</th>\n",
       "      <td>0.959965</td>\n",
       "      <td>34.534499</td>\n",
       "      <td>31.430402</td>\n",
       "      <td>33.216521</td>\n",
       "      <td>0.962685</td>\n",
       "      <td>0.672978</td>\n",
       "      <td>0.923070</td>\n",
       "      <td>7.194109</td>\n",
       "      <td>56.157094</td>\n",
       "      <td>121.932088</td>\n",
       "      <td>0.973082</td>\n",
       "      <td>0.001407</td>\n",
       "      <td>0.243489</td>\n",
       "      <td>42.835611</td>\n",
       "      <td>11.782598</td>\n",
       "    </tr>\n",
       "    <tr>\n",
       "      <th>G10BodybuildingWorkout_ERP_7680x3840_fps29.97_qp27_6105k.mp4</th>\n",
       "      <td>0.997337</td>\n",
       "      <td>46.713699</td>\n",
       "      <td>44.069635</td>\n",
       "      <td>48.525252</td>\n",
       "      <td>0.997130</td>\n",
       "      <td>0.915188</td>\n",
       "      <td>0.941557</td>\n",
       "      <td>10.663758</td>\n",
       "      <td>107.170623</td>\n",
       "      <td>125.000000</td>\n",
       "      <td>0.975835</td>\n",
       "      <td>0.000408</td>\n",
       "      <td>0.691092</td>\n",
       "      <td>55.521111</td>\n",
       "      <td>3.173898</td>\n",
       "    </tr>\n",
       "    <tr>\n",
       "      <th>G10BodybuildingWorkout_ERP_7680x3840_fps29.97_qp37_913k.mp4</th>\n",
       "      <td>0.993475</td>\n",
       "      <td>42.391911</td>\n",
       "      <td>39.490941</td>\n",
       "      <td>42.097111</td>\n",
       "      <td>0.994158</td>\n",
       "      <td>0.873338</td>\n",
       "      <td>0.916841</td>\n",
       "      <td>10.873596</td>\n",
       "      <td>107.176925</td>\n",
       "      <td>124.268885</td>\n",
       "      <td>0.970290</td>\n",
       "      <td>0.001945</td>\n",
       "      <td>0.350776</td>\n",
       "      <td>55.119636</td>\n",
       "      <td>3.099582</td>\n",
       "    </tr>\n",
       "  </tbody>\n",
       "</table>\n",
       "</div>"
      ],
      "text/plain": [
       "                                                      msssim       psnr  \\\n",
       "G10BoatInPark_ERP_4096x2048_fps30_qp27_14547k.mp4   0.993424  41.829451   \n",
       "G10BoatInPark_ERP_4096x2048_fps30_qp37_3270k.mp4    0.978172  37.045777   \n",
       "G10BoatInPark_ERP_4096x2048_fps30_qp42_1507k.mp4    0.959965  34.534499   \n",
       "G10BodybuildingWorkout_ERP_7680x3840_fps29.97_q...  0.997337  46.713699   \n",
       "G10BodybuildingWorkout_ERP_7680x3840_fps29.97_q...  0.993475  42.391911   \n",
       "\n",
       "                                                      psnrhvs   psnrhvsm  \\\n",
       "G10BoatInPark_ERP_4096x2048_fps30_qp27_14547k.mp4   39.401728  43.855814   \n",
       "G10BoatInPark_ERP_4096x2048_fps30_qp37_3270k.mp4    34.074029  36.540714   \n",
       "G10BoatInPark_ERP_4096x2048_fps30_qp42_1507k.mp4    31.430402  33.216521   \n",
       "G10BodybuildingWorkout_ERP_7680x3840_fps29.97_q...  44.069635  48.525252   \n",
       "G10BodybuildingWorkout_ERP_7680x3840_fps29.97_q...  39.490941  42.097111   \n",
       "\n",
       "                                                        ssim      vifp  \\\n",
       "G10BoatInPark_ERP_4096x2048_fps30_qp27_14547k.mp4   0.989905  0.818723   \n",
       "G10BoatInPark_ERP_4096x2048_fps30_qp37_3270k.mp4    0.975696  0.721947   \n",
       "G10BoatInPark_ERP_4096x2048_fps30_qp42_1507k.mp4    0.962685  0.672978   \n",
       "G10BodybuildingWorkout_ERP_7680x3840_fps29.97_q...  0.997130  0.915188   \n",
       "G10BodybuildingWorkout_ERP_7680x3840_fps29.97_q...  0.994158  0.873338   \n",
       "\n",
       "                                                    Blockiness       Blur  \\\n",
       "G10BoatInPark_ERP_4096x2048_fps30_qp27_14547k.mp4     0.918001   6.318822   \n",
       "G10BoatInPark_ERP_4096x2048_fps30_qp37_3270k.mp4      0.923023   6.802874   \n",
       "G10BoatInPark_ERP_4096x2048_fps30_qp42_1507k.mp4      0.923070   7.194109   \n",
       "G10BodybuildingWorkout_ERP_7680x3840_fps29.97_q...    0.941557  10.663758   \n",
       "G10BodybuildingWorkout_ERP_7680x3840_fps29.97_q...    0.916841  10.873596   \n",
       "\n",
       "                                                      Contrast  Exposure(bri)  \\\n",
       "G10BoatInPark_ERP_4096x2048_fps30_qp27_14547k.mp4    56.274408     122.973648   \n",
       "G10BoatInPark_ERP_4096x2048_fps30_qp37_3270k.mp4     56.220687     122.235861   \n",
       "G10BoatInPark_ERP_4096x2048_fps30_qp42_1507k.mp4     56.157094     121.932088   \n",
       "G10BodybuildingWorkout_ERP_7680x3840_fps29.97_q...  107.170623     125.000000   \n",
       "G10BodybuildingWorkout_ERP_7680x3840_fps29.97_q...  107.176925     124.268885   \n",
       "\n",
       "                                                    Flickering  Interlace  \\\n",
       "G10BoatInPark_ERP_4096x2048_fps30_qp27_14547k.mp4     0.973981   0.004543   \n",
       "G10BoatInPark_ERP_4096x2048_fps30_qp37_3270k.mp4      0.974016   0.001439   \n",
       "G10BoatInPark_ERP_4096x2048_fps30_qp42_1507k.mp4      0.973082   0.001407   \n",
       "G10BodybuildingWorkout_ERP_7680x3840_fps29.97_q...    0.975835   0.000408   \n",
       "G10BodybuildingWorkout_ERP_7680x3840_fps29.97_q...    0.970290   0.001945   \n",
       "\n",
       "                                                       Noise         SA  \\\n",
       "G10BoatInPark_ERP_4096x2048_fps30_qp27_14547k.mp4   0.385048  48.017774   \n",
       "G10BoatInPark_ERP_4096x2048_fps30_qp37_3270k.mp4    0.250219  45.613703   \n",
       "G10BoatInPark_ERP_4096x2048_fps30_qp42_1507k.mp4    0.243489  42.835611   \n",
       "G10BodybuildingWorkout_ERP_7680x3840_fps29.97_q...  0.691092  55.521111   \n",
       "G10BodybuildingWorkout_ERP_7680x3840_fps29.97_q...  0.350776  55.119636   \n",
       "\n",
       "                                                           TA  \n",
       "G10BoatInPark_ERP_4096x2048_fps30_qp27_14547k.mp4   12.572215  \n",
       "G10BoatInPark_ERP_4096x2048_fps30_qp37_3270k.mp4    12.228131  \n",
       "G10BoatInPark_ERP_4096x2048_fps30_qp42_1507k.mp4    11.782598  \n",
       "G10BodybuildingWorkout_ERP_7680x3840_fps29.97_q...   3.173898  \n",
       "G10BodybuildingWorkout_ERP_7680x3840_fps29.97_q...   3.099582  "
      ]
     },
     "execution_count": 63,
     "metadata": {},
     "output_type": "execute_result"
    }
   ],
   "source": [
    "features.head()"
   ]
  },
  {
   "cell_type": "code",
   "execution_count": 64,
   "metadata": {},
   "outputs": [],
   "source": [
    "parameters_grid_search_3rd = joblib.load('parameters_grid_search_3rd.sav')"
   ]
  },
  {
   "cell_type": "code",
   "execution_count": 65,
   "metadata": {},
   "outputs": [
    {
     "data": {
      "text/plain": [
       "Index(['G10BoatInPark_ERP_4096x2048_fps30_qp27_14547k.mp4',\n",
       "       'G10BoatInPark_ERP_4096x2048_fps30_qp37_3270k.mp4',\n",
       "       'G10BoatInPark_ERP_4096x2048_fps30_qp42_1507k.mp4',\n",
       "       'G10BodybuildingWorkout_ERP_7680x3840_fps29.97_qp27_6105k.mp4',\n",
       "       'G10BodybuildingWorkout_ERP_7680x3840_fps29.97_qp37_913k.mp4',\n",
       "       'G10BodybuildingWorkout_ERP_7680x3840_fps29.97_qp42_697k.mp4',\n",
       "       'G10BuddhaCave_ERP_4096x2048_fps30_qp27_1289k.mp4',\n",
       "       'G10BuddhaCave_ERP_4096x2048_fps30_qp37_236k.mp4',\n",
       "       'G10BuddhaCave_ERP_4096x2048_fps30_qp42_170k.mp4',\n",
       "       'G10DrivingInCountry_ERP_3840x1920_fps30_qp27_27706k.mp4',\n",
       "       ...\n",
       "       'G9DivingWithJellyfish_ERP_7680x3840_fps25_qp42_876k.mp4',\n",
       "       'G9DrivingInCity_ERP_3840x1920_fps30_qp27_11315k.mp4',\n",
       "       'G9DrivingInCity_ERP_3840x1920_fps30_qp37_2350k.mp4',\n",
       "       'G9DrivingInCity_ERP_3840x1920_fps30_qp42_1069k.mp4',\n",
       "       'G9FootballMatch_ERP_4096x2048_fps30_qp27_1529k.mp4',\n",
       "       'G9FootballMatch_ERP_4096x2048_fps30_qp37_220k.mp4',\n",
       "       'G9FootballMatch_ERP_4096x2048_fps30_qp42_288k.mp4',\n",
       "       'G9GreatWall_ERP_4096x2048_fps30_qp27_43911k.mp4',\n",
       "       'G9GreatWall_ERP_4096x2048_fps30_qp37_7750k.mp4',\n",
       "       'G9GreatWall_ERP_4096x2048_fps30_qp42_3096k.mp4'],\n",
       "      dtype='object', length=177)"
      ]
     },
     "execution_count": 65,
     "metadata": {},
     "output_type": "execute_result"
    }
   ],
   "source": [
    "labels.index"
   ]
  },
  {
   "cell_type": "code",
   "execution_count": 66,
   "metadata": {},
   "outputs": [
    {
     "data": {
      "text/plain": [
       "G10BoatInPark_ERP_4096x2048_fps30_qp27_14547k.mp4               34.140535\n",
       "G10BoatInPark_ERP_4096x2048_fps30_qp37_3270k.mp4                41.399333\n",
       "G10BoatInPark_ERP_4096x2048_fps30_qp42_1507k.mp4                54.386335\n",
       "G10BodybuildingWorkout_ERP_7680x3840_fps29.97_qp27_6105k.mp4    35.192198\n",
       "G10BodybuildingWorkout_ERP_7680x3840_fps29.97_qp37_913k.mp4     56.533862\n",
       "Name: DMOS, dtype: float64"
      ]
     },
     "execution_count": 66,
     "metadata": {},
     "output_type": "execute_result"
    }
   ],
   "source": [
    "labels.head()"
   ]
  },
  {
   "cell_type": "code",
   "execution_count": 67,
   "metadata": {},
   "outputs": [],
   "source": [
    "group_label = np.arange(len(features.index) / 3)\n",
    "group_label = np.matlib.repmat(group_label,3,1)\n",
    "group_label = group_label.reshape(-1,1, order='F')"
   ]
  },
  {
   "cell_type": "code",
   "execution_count": 68,
   "metadata": {},
   "outputs": [],
   "source": [
    "Reg_video = RandomForestRegressor(random_state=8, n_jobs=-1)"
   ]
  },
  {
   "cell_type": "code",
   "execution_count": 69,
   "metadata": {},
   "outputs": [],
   "source": [
    "def CV_Generator(features, labels, group_label, n=8, test_ratio=0.2):\n",
    "    CV_Group = GroupShuffleSplit(n_splits=n, test_size=test_ratio, random_state=8)\n",
    "    for train, test in CV_Group.split(features, labels, groups=group_label):\n",
    "        yield train, test"
   ]
  },
  {
   "cell_type": "code",
   "execution_count": 70,
   "metadata": {},
   "outputs": [],
   "source": [
    "parameters_grid_GCV_3MET = {}"
   ]
  },
  {
   "cell_type": "code",
   "execution_count": 71,
   "metadata": {},
   "outputs": [],
   "source": [
    "parameters_grid_GCV_3MET['n_estimators'] = [150,411, 729]\n",
    "parameters_grid_GCV_3MET['criterion'] = ['mse']\n",
    "parameters_grid_GCV_3MET['max_depth'] = [8]\n",
    "parameters_grid_GCV_3MET['min_samples_split'] = [3]\n",
    "parameters_grid_GCV_3MET['min_samples_leaf'] = [3]\n",
    "parameters_grid_GCV_3MET['max_features'] = ['auto']\n",
    "parameters_grid_GCV_3MET['bootstrap'] = [True]\n",
    "parameters_grid_GCV_3MET['verbose'] = [0]\n",
    "parameters_grid_GCV_3MET['oob_score'] = [True]"
   ]
  },
  {
   "cell_type": "code",
   "execution_count": 72,
   "metadata": {},
   "outputs": [
    {
     "data": {
      "text/plain": [
       "{'n_estimators': [150, 411, 729],\n",
       " 'criterion': ['mse'],\n",
       " 'max_depth': [8],\n",
       " 'min_samples_split': [3],\n",
       " 'min_samples_leaf': [3],\n",
       " 'max_features': ['auto'],\n",
       " 'bootstrap': [True],\n",
       " 'verbose': [0],\n",
       " 'oob_score': [True]}"
      ]
     },
     "execution_count": 72,
     "metadata": {},
     "output_type": "execute_result"
    }
   ],
   "source": [
    "parameters_grid_GCV_3MET"
   ]
  },
  {
   "cell_type": "code",
   "execution_count": 73,
   "metadata": {},
   "outputs": [],
   "source": [
    "parameters_grid_search_GCV_3MET = GridSearchCV(estimator = Reg_video, param_grid = parameters_grid_GCV_3MET, \n",
    "                          cv = CV_Generator(features, labels, group_label), n_jobs = -1, verbose = 1, return_train_score=True, \n",
    "                                      error_score = np.nan, scoring = scorer, refit = 'rmse', iid=False)"
   ]
  },
  {
   "cell_type": "code",
   "execution_count": 74,
   "metadata": {},
   "outputs": [
    {
     "name": "stdout",
     "output_type": "stream",
     "text": [
      "Fitting 8 folds for each of 3 candidates, totalling 24 fits\n"
     ]
    },
    {
     "name": "stderr",
     "output_type": "stream",
     "text": [
      "[Parallel(n_jobs=-1)]: Using backend LokyBackend with 12 concurrent workers.\n",
      "[Parallel(n_jobs=-1)]: Done  24 out of  24 | elapsed:    5.6s finished\n"
     ]
    },
    {
     "data": {
      "text/plain": [
       "GridSearchCV(cv=<generator object CV_Generator at 0x1a207f6780>,\n",
       "       error_score=nan,\n",
       "       estimator=RandomForestRegressor(bootstrap=True, criterion='mse', max_depth=None,\n",
       "           max_features='auto', max_leaf_nodes=None,\n",
       "           min_impurity_decrease=0.0, min_impurity_split=None,\n",
       "           min_samples_leaf=1, min_samples_split=2,\n",
       "           min_weight_fraction_leaf=0.0, n_estimators='warn', n_jobs=-1,\n",
       "           oob_score=False, random_state=8, verbose=0, warm_start=False),\n",
       "       fit_params=None, iid=False, n_jobs=-1,\n",
       "       param_grid={'n_estimators': [150, 411, 729], 'criterion': ['mse'], 'max_depth': [8], 'min_samples_split': [3], 'min_samples_leaf': [3], 'max_features': ['auto'], 'bootstrap': [True], 'verbose': [0], 'oob_score': [True]},\n",
       "       pre_dispatch='2*n_jobs', refit='rmse', return_train_score=True,\n",
       "       scoring={'rmse': make_scorer(rmse, greater_is_better=False), 'lcc': make_scorer(lcc), 'srocc': make_scorer(srocc)},\n",
       "       verbose=1)"
      ]
     },
     "execution_count": 74,
     "metadata": {},
     "output_type": "execute_result"
    }
   ],
   "source": [
    "parameters_grid_search_GCV_3MET.fit(features, labels)"
   ]
  },
  {
   "cell_type": "code",
   "execution_count": 75,
   "metadata": {},
   "outputs": [
    {
     "data": {
      "text/plain": [
       "{'bootstrap': True,\n",
       " 'criterion': 'mse',\n",
       " 'max_depth': 8,\n",
       " 'max_features': 'auto',\n",
       " 'min_samples_leaf': 3,\n",
       " 'min_samples_split': 3,\n",
       " 'n_estimators': 729,\n",
       " 'oob_score': True,\n",
       " 'verbose': 0}"
      ]
     },
     "execution_count": 75,
     "metadata": {},
     "output_type": "execute_result"
    }
   ],
   "source": [
    "parameters_grid_search_GCV_3MET.best_params_"
   ]
  },
  {
   "cell_type": "code",
   "execution_count": null,
   "metadata": {},
   "outputs": [],
   "source": []
  },
  {
   "cell_type": "code",
   "execution_count": null,
   "metadata": {},
   "outputs": [],
   "source": []
  },
  {
   "cell_type": "code",
   "execution_count": 99,
   "metadata": {},
   "outputs": [
    {
     "name": "stdout",
     "output_type": "stream",
     "text": [
      "RMSE: 3.971327482357369 6.457081667607779\n",
      "LCC: 0.9491317931984888 0.8516206323570801\n",
      "SROCC: 0.9528061988955006 0.8290862290862292\n",
      "Accuracy: 0.9398839085815368 0.9002949568859034\n",
      "\n",
      "\n",
      "RMSE: 3.76620303324596 7.8903537417999425\n",
      "LCC: 0.9468868272547669 0.848240949329447\n",
      "SROCC: 0.948722119953765 0.8368082368082369\n",
      "Accuracy: 0.9438107264841442 0.8700888141283537\n",
      "\n",
      "\n",
      "RMSE: 3.93269519769036 7.800148060096911\n",
      "LCC: 0.952261962291595 0.6518804732836735\n",
      "SROCC: 0.9559655807183526 0.697039897039897\n",
      "Accuracy: 0.9416017308874599 0.8843910349403468\n",
      "\n",
      "\n",
      "RMSE: 3.6221951611768337 7.767464350098605\n",
      "LCC: 0.9583519672484977 0.7377736690960955\n",
      "SROCC: 0.9579776531529601 0.7601029601029601\n",
      "Accuracy: 0.9453901941609754 0.8780734564473682\n",
      "\n",
      "\n",
      "RMSE: 3.710546683835739 8.273689863978548\n",
      "LCC: 0.9564347618739877 0.7111051083051421\n",
      "SROCC: 0.9580247442099403 0.6906048906048907\n",
      "Accuracy: 0.9444257120711285 0.8689987866748206\n",
      "\n",
      "\n",
      "Model saved\n",
      "RMSE: 4.000483882562832 4.678443662776826\n",
      "LCC: 0.9514516892406415 0.8931223134882457\n",
      "SROCC: 0.951380624170555 0.8715572715572715\n",
      "Accuracy: 0.9383078930967584 0.9239837371178902\n",
      "\n",
      "\n",
      "RMSE: 3.897633949095552 6.730173093875685\n",
      "LCC: 0.9491681539126173 0.8743744845656625\n",
      "SROCC: 0.9515989554347359 0.8921492921492923\n",
      "Accuracy: 0.9416547616233475 0.8770342565251734\n",
      "\n",
      "\n",
      "RMSE: 3.8563654787762065 6.354959679899303\n",
      "LCC: 0.9529100518150311 0.8283627425733269\n",
      "SROCC: 0.9538336401387044 0.8326898326898329\n",
      "Accuracy: 0.9412753965036851 0.9015090760412241\n",
      "\n",
      "\n",
      "RMSE: 3.88365985266367 6.640646785617631\n",
      "LCC: 0.9523648449282596 0.7993892151785933\n",
      "SROCC: 0.9522453872169184 0.78996138996139\n",
      "Accuracy: 0.941657866607701 0.889730345623035\n",
      "\n",
      "\n",
      "RMSE: 3.9565863961081402 6.171250980144597\n",
      "LCC: 0.949118536163187 0.8818762226638478\n",
      "SROCC: 0.951860096750717 0.8900900900900902\n",
      "Accuracy: 0.9399522499801314 0.89036272932316\n",
      "\n",
      "\n",
      "10\n",
      "RMSE: 3.7686004958516803 7.076914843599716\n",
      "LCC: 0.956103241707172 0.7437338739665078\n",
      "SROCC: 0.9541761205531057 0.7688545688545689\n",
      "Accuracy: 0.9415911422765864 0.8982433114201588\n",
      "\n",
      "\n",
      "RMSE: 3.6579348259072573 8.182402956460153\n",
      "LCC: 0.9574972763191127 0.683108442934245\n",
      "SROCC: 0.9586583329765828 0.6396396396396398\n",
      "Accuracy: 0.9439323124721868 0.8806131608260263\n",
      "\n",
      "\n",
      "RMSE: 3.933788491249023 7.215834325437324\n",
      "LCC: 0.9491912282548887 0.7975322457690717\n",
      "SROCC: 0.9477931418297015 0.8185328185328188\n",
      "Accuracy: 0.939991313976378 0.9047182430670412\n",
      "\n",
      "\n",
      "RMSE: 3.9093588301726334 6.366638447787915\n",
      "LCC: 0.9504606302897759 0.8502522767702434\n",
      "SROCC: 0.9541119054754056 0.8296010296010297\n",
      "Accuracy: 0.9418312661522179 0.8815009434332399\n",
      "\n",
      "\n",
      "RMSE: 3.9407332570869658 6.826855223616253\n",
      "LCC: 0.9523524688960097 0.7203377736424791\n",
      "SROCC: 0.9517530716212166 0.797940797940798\n",
      "Accuracy: 0.9404743604463667 0.8954154209376063\n",
      "\n",
      "\n",
      "RMSE: 3.9220289385959908 6.7614924074591825\n",
      "LCC: 0.9496423998326213 0.842985196189651\n",
      "SROCC: 0.9501819427201507 0.8574002574002574\n",
      "Accuracy: 0.9410915717772925 0.8872896015265433\n",
      "\n",
      "\n"
     ]
    }
   ],
   "source": [
    "idx = 0\n",
    "for train_idx, test_idx in CV_Generator(features, labels, group_label, 16, test_ratio=0.2):\n",
    "    train_features = features.iloc[train_idx]\n",
    "    train_labels = labels.iloc[train_idx]\n",
    "    test_features = features.iloc[test_idx]\n",
    "    test_labels = labels.iloc[test_idx]\n",
    "    best_model = parameters_grid_search_GCV_3MET.best_estimator_.fit(train_features, train_labels)\n",
    "    train_pred = best_model.predict(train_features)\n",
    "    test_pred = best_model.predict(test_features)\n",
    "    #label_pred_ave[test_idx] = label_pred_ave[test_idx] + test_pred\n",
    "    #label_count[test_idx] = label_count[test_idx] + 1\n",
    "    if idx == 5:\n",
    "        final_model = best_model\n",
    "        print('Model saved')\n",
    "        #print(test_pred - test_labels)\n",
    "    print('RMSE:', rmse(train_labels, train_pred), rmse(test_labels, test_pred))\n",
    "    print('LCC:', lcc(train_labels, train_pred), lcc(test_labels, test_pred))\n",
    "    print('SROCC:', srocc(train_labels, train_pred), srocc(test_labels, test_pred))\n",
    "    print('Accuracy:', accuracy(train_labels, train_pred), accuracy(test_labels, test_pred))\n",
    "    print('\\n')\n",
    "    idx += 1\n",
    "    if idx % 10 == 0:\n",
    "        print(idx)"
   ]
  },
  {
   "cell_type": "code",
   "execution_count": 100,
   "metadata": {},
   "outputs": [],
   "source": [
    "#joblib.dump(final_model, 'best_model.sav')"
   ]
  },
  {
   "cell_type": "code",
   "execution_count": 101,
   "metadata": {},
   "outputs": [],
   "source": [
    "#final_model = joblib.load('best_model.sav')"
   ]
  },
  {
   "cell_type": "code",
   "execution_count": 102,
   "metadata": {},
   "outputs": [],
   "source": [
    "label_pred_ave = np.zeros_like(labels)\n",
    "label_count = np.zeros_like(labels)"
   ]
  },
  {
   "cell_type": "code",
   "execution_count": 103,
   "metadata": {},
   "outputs": [
    {
     "name": "stdout",
     "output_type": "stream",
     "text": [
      "10\n",
      "20\n",
      "30\n",
      "40\n",
      "50\n",
      "60\n",
      "70\n",
      "80\n",
      "90\n",
      "100\n"
     ]
    }
   ],
   "source": [
    "idx = 0\n",
    "for train_idx, test_idx in CV_Generator(features, labels, group_label, 100, test_ratio=0.2):\n",
    "    test_features = features.iloc[test_idx]\n",
    "    test_labels = labels.iloc[test_idx]\n",
    "    test_pred = final_model.predict(test_features)\n",
    "    label_pred_ave[test_idx] = label_pred_ave[test_idx] + test_pred\n",
    "    label_count[test_idx] = label_count[test_idx] + 1\n",
    "    #if idx == 5:\n",
    "    #    final_model = best_model\n",
    "    #    print('Model saved')\n",
    "    #print('RMSE:', rmse(train_labels, train_pred), rmse(test_labels, test_pred))\n",
    "    #print('LCC:', lcc(train_labels, train_pred), lcc(test_labels, test_pred))\n",
    "    #print('SROCC:', srocc(train_labels, train_pred), srocc(test_labels, test_pred))\n",
    "    #print('Accuracy:', accuracy(train_labels, train_pred), accuracy(test_labels, test_pred))\n",
    "    #print('\\n')\n",
    "    idx += 1\n",
    "    if idx % 10 == 0:\n",
    "        print(idx)"
   ]
  },
  {
   "cell_type": "code",
   "execution_count": 104,
   "metadata": {},
   "outputs": [],
   "source": [
    "label_pred_ave = label_pred_ave / label_count"
   ]
  },
  {
   "cell_type": "code",
   "execution_count": null,
   "metadata": {},
   "outputs": [],
   "source": []
  },
  {
   "cell_type": "code",
   "execution_count": 105,
   "metadata": {},
   "outputs": [
    {
     "name": "stdout",
     "output_type": "stream",
     "text": [
      "RMSE: 4.642438670381947\n",
      "LCC: 0.9242711988318391\n",
      "SROCC: 0.9241075293017782\n",
      "Accuracy 0.9301487981669707\n"
     ]
    }
   ],
   "source": [
    "print('RMSE:', rmse(labels, label_pred_ave))\n",
    "print('LCC:', lcc(labels, label_pred_ave))\n",
    "print('SROCC:', srocc(labels, label_pred_ave))\n",
    "print('Accuracy', accuracy(labels, label_pred_ave))"
   ]
  },
  {
   "cell_type": "code",
   "execution_count": 55,
   "metadata": {},
   "outputs": [],
   "source": [
    "feature_importance = pd.DataFrame(final_model.feature_importances_, index=features.columns, columns=['Weight'])"
   ]
  },
  {
   "cell_type": "code",
   "execution_count": 56,
   "metadata": {},
   "outputs": [],
   "source": [
    "feature_importance = feature_importance.sort_values(by = 'Weight', ascending=False)"
   ]
  },
  {
   "cell_type": "code",
   "execution_count": 57,
   "metadata": {},
   "outputs": [
    {
     "data": {
      "text/html": [
       "<div>\n",
       "<style scoped>\n",
       "    .dataframe tbody tr th:only-of-type {\n",
       "        vertical-align: middle;\n",
       "    }\n",
       "\n",
       "    .dataframe tbody tr th {\n",
       "        vertical-align: top;\n",
       "    }\n",
       "\n",
       "    .dataframe thead th {\n",
       "        text-align: right;\n",
       "    }\n",
       "</style>\n",
       "<table border=\"1\" class=\"dataframe\">\n",
       "  <thead>\n",
       "    <tr style=\"text-align: right;\">\n",
       "      <th></th>\n",
       "      <th>Weight</th>\n",
       "    </tr>\n",
       "  </thead>\n",
       "  <tbody>\n",
       "    <tr>\n",
       "      <th>psnrhvsm</th>\n",
       "      <td>0.336112</td>\n",
       "    </tr>\n",
       "    <tr>\n",
       "      <th>msssim</th>\n",
       "      <td>0.250023</td>\n",
       "    </tr>\n",
       "    <tr>\n",
       "      <th>TA</th>\n",
       "      <td>0.136024</td>\n",
       "    </tr>\n",
       "    <tr>\n",
       "      <th>Blur</th>\n",
       "      <td>0.035406</td>\n",
       "    </tr>\n",
       "    <tr>\n",
       "      <th>Blockloss</th>\n",
       "      <td>0.034805</td>\n",
       "    </tr>\n",
       "    <tr>\n",
       "      <th>Noise</th>\n",
       "      <td>0.034493</td>\n",
       "    </tr>\n",
       "    <tr>\n",
       "      <th>Interlace</th>\n",
       "      <td>0.027553</td>\n",
       "    </tr>\n",
       "    <tr>\n",
       "      <th>SA</th>\n",
       "      <td>0.026907</td>\n",
       "    </tr>\n",
       "    <tr>\n",
       "      <th>Exposure(bri)</th>\n",
       "      <td>0.018607</td>\n",
       "    </tr>\n",
       "    <tr>\n",
       "      <th>Flickering</th>\n",
       "      <td>0.018396</td>\n",
       "    </tr>\n",
       "    <tr>\n",
       "      <th>Blockiness</th>\n",
       "      <td>0.018359</td>\n",
       "    </tr>\n",
       "    <tr>\n",
       "      <th>psnrhvs</th>\n",
       "      <td>0.015034</td>\n",
       "    </tr>\n",
       "    <tr>\n",
       "      <th>Contrast</th>\n",
       "      <td>0.014408</td>\n",
       "    </tr>\n",
       "    <tr>\n",
       "      <th>psnr</th>\n",
       "      <td>0.011664</td>\n",
       "    </tr>\n",
       "    <tr>\n",
       "      <th>vifp</th>\n",
       "      <td>0.011155</td>\n",
       "    </tr>\n",
       "    <tr>\n",
       "      <th>ssim</th>\n",
       "      <td>0.011055</td>\n",
       "    </tr>\n",
       "  </tbody>\n",
       "</table>\n",
       "</div>"
      ],
      "text/plain": [
       "                 Weight\n",
       "psnrhvsm       0.336112\n",
       "msssim         0.250023\n",
       "TA             0.136024\n",
       "Blur           0.035406\n",
       "Blockloss      0.034805\n",
       "Noise          0.034493\n",
       "Interlace      0.027553\n",
       "SA             0.026907\n",
       "Exposure(bri)  0.018607\n",
       "Flickering     0.018396\n",
       "Blockiness     0.018359\n",
       "psnrhvs        0.015034\n",
       "Contrast       0.014408\n",
       "psnr           0.011664\n",
       "vifp           0.011155\n",
       "ssim           0.011055"
      ]
     },
     "execution_count": 57,
     "metadata": {},
     "output_type": "execute_result"
    }
   ],
   "source": [
    "feature_importance"
   ]
  },
  {
   "cell_type": "code",
   "execution_count": 58,
   "metadata": {},
   "outputs": [
    {
     "data": {
      "text/plain": [
       "<function matplotlib.pyplot.tight_layout(pad=1.08, h_pad=None, w_pad=None, rect=None)>"
      ]
     },
     "execution_count": 58,
     "metadata": {},
     "output_type": "execute_result"
    },
    {
     "data": {
      "image/png": "[encoded data removed]",
      "text/plain": [
       "<Figure size 1728x648 with 1 Axes>"
      ]
     },
     "metadata": {},
     "output_type": "display_data"
    }
   ],
   "source": [
    "fig, ax = plt.subplots(figsize = (24, 9))\n",
    "ax.bar(feature_importance.index, feature_importance['Weight'])\n",
    "plt.tight_layout"
   ]
  },
  {
   "cell_type": "code",
   "execution_count": 59,
   "metadata": {},
   "outputs": [],
   "source": [
    "features_augment = features.loc[:,['msssim', 'TA', 'psnrhvsm']]"
   ]
  },
  {
   "cell_type": "code",
   "execution_count": null,
   "metadata": {},
   "outputs": [],
   "source": []
  },
  {
   "cell_type": "code",
   "execution_count": null,
   "metadata": {},
   "outputs": [],
   "source": []
  },
  {
   "cell_type": "code",
   "execution_count": null,
   "metadata": {},
   "outputs": [],
   "source": []
  },
  {
   "cell_type": "code",
   "execution_count": null,
   "metadata": {},
   "outputs": [],
   "source": []
  },
  {
   "cell_type": "code",
   "execution_count": null,
   "metadata": {},
   "outputs": [],
   "source": []
  },
  {
   "cell_type": "code",
   "execution_count": null,
   "metadata": {},
   "outputs": [],
   "source": []
  },
  {
   "cell_type": "code",
   "execution_count": null,
   "metadata": {},
   "outputs": [],
   "source": []
  },
  {
   "cell_type": "code",
   "execution_count": null,
   "metadata": {},
   "outputs": [],
   "source": []
  },
  {
   "cell_type": "code",
   "execution_count": null,
   "metadata": {},
   "outputs": [],
   "source": []
  },
  {
   "cell_type": "code",
   "execution_count": null,
   "metadata": {},
   "outputs": [],
   "source": []
  },
  {
   "cell_type": "code",
   "execution_count": null,
   "metadata": {},
   "outputs": [],
   "source": []
  },
  {
   "cell_type": "code",
   "execution_count": null,
   "metadata": {},
   "outputs": [],
   "source": []
  },
  {
   "cell_type": "code",
   "execution_count": null,
   "metadata": {},
   "outputs": [],
   "source": []
  },
  {
   "cell_type": "code",
   "execution_count": null,
   "metadata": {},
   "outputs": [],
   "source": []
  },
  {
   "cell_type": "code",
   "execution_count": null,
   "metadata": {},
   "outputs": [],
   "source": []
  },
  {
   "cell_type": "code",
   "execution_count": null,
   "metadata": {},
   "outputs": [],
   "source": []
  },
  {
   "cell_type": "code",
   "execution_count": null,
   "metadata": {},
   "outputs": [],
   "source": []
  },
  {
   "cell_type": "code",
   "execution_count": null,
   "metadata": {},
   "outputs": [],
   "source": []
  },
  {
   "cell_type": "code",
   "execution_count": null,
   "metadata": {},
   "outputs": [],
   "source": []
  }
 ],
 "metadata": {
  "kernelspec": {
   "display_name": "Python 3",
   "language": "python",
   "name": "python3"
  },
  "language_info": {
   "codemirror_mode": {
    "name": "ipython",
    "version": 3
   },
   "file_extension": ".py",
   "mimetype": "text/x-python",
   "name": "python",
   "nbconvert_exporter": "python",
   "pygments_lexer": "ipython3",
   "version": "3.6.6"
  }
 },
 "nbformat": 4,
 "nbformat_minor": 2
}
