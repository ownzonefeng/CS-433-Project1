{
 "cells": [
  {
   "cell_type": "code",
   "execution_count": 8,
   "metadata": {},
   "outputs": [],
   "source": [
    "import pandas as pd\n",
    "import numpy as np\n",
    "import sklearn\n",
    "import torch\n",
    "import os"
   ]
  },
  {
   "cell_type": "code",
   "execution_count": 9,
   "metadata": {},
   "outputs": [],
   "source": [
    "path_dataset_scores = '/Users/wentao/Documents/GitHub/360quality-ml/dataset_scores/'\n",
    "path_nr_metrics = '/Users/wentao/Documents/GitHub/360quality-ml/dataset_metrics/'\n",
    "path_fr_original = '/Users/wentao/Documents/GitHub/360quality-ml/dataset_metrics/'"
   ]
  },
  {
   "cell_type": "code",
   "execution_count": 10,
   "metadata": {},
   "outputs": [],
   "source": [
    "list_dataset_scores = os.listdir(path_dataset_scores)\n",
    "list_nr_metrics = os.listdir(path_nr_metrics)\n",
    "list_fr_original = os.listdir(path_fr_original)"
   ]
  },
  {
   "cell_type": "code",
   "execution_count": 11,
   "metadata": {},
   "outputs": [],
   "source": [
    "dataset_scores = pd.DataFrame()\n",
    "for idx, name in enumerate(list_dataset_scores):\n",
    "    if name[-4:] == '.csv':\n",
    "        temp = pd.read_csv(path_dataset_scores + name, index_col=0)\n",
    "        dataset_scores = pd.concat([dataset_scores, temp])\n",
    "    else:\n",
    "        continue"
   ]
  },
  {
   "cell_type": "code",
   "execution_count": 12,
   "metadata": {},
   "outputs": [],
   "source": [
    "nr_metrics = pd.DataFrame()\n",
    "for idx, name in enumerate(list_nr_metrics):\n",
    "    if name[-4:] == '.csv'and name[0:2] == 'nr':\n",
    "        temp = pd.read_csv(path_nr_metrics + name)\n",
    "        temp['Video'] = name[11:-4]\n",
    "        if name[0] != 'G':\n",
    "            continue\n",
    "        temp.set_index(['Video', 'Frame'], inplace =True)\n",
    "        nr_metrics = pd.concat([nr_metrics, temp])\n",
    "    else:\n",
    "        continue"
   ]
  },
  {
   "cell_type": "code",
   "execution_count": 13,
   "metadata": {},
   "outputs": [],
   "source": [
    "fr_original = pd.DataFrame()\n",
    "for idx, name in enumerate(list_fr_original):\n",
    "    if name[-4:] == '.csv'and name[0:2] == 'fr':\n",
    "        temp = pd.read_csv(path_fr_original + name)\n",
    "        temp['Video'] = name[11:-4]\n",
    "        temp.set_index(['Video', 'frame'], inplace =True)\n",
    "        fr_original = pd.concat([fr_original, temp],sort=True)\n",
    "    else:\n",
    "        continue"
   ]
  },
  {
   "cell_type": "code",
   "execution_count": 14,
   "metadata": {},
   "outputs": [],
   "source": [
    "dataset_scores.to_pickle('dataset_scores.pkl')\n",
    "fr_original.to_pickle('fr_original.pkl')\n",
    "nr_metrics.to_pickle('nr_metrics.pkl')"
   ]
  },
  {
   "cell_type": "code",
   "execution_count": 15,
   "metadata": {},
   "outputs": [
    {
     "data": {
      "text/html": [
       "<div>\n",
       "<style scoped>\n",
       "    .dataframe tbody tr th:only-of-type {\n",
       "        vertical-align: middle;\n",
       "    }\n",
       "\n",
       "    .dataframe tbody tr th {\n",
       "        vertical-align: top;\n",
       "    }\n",
       "\n",
       "    .dataframe thead th {\n",
       "        text-align: right;\n",
       "    }\n",
       "</style>\n",
       "<table border=\"1\" class=\"dataframe\">\n",
       "  <thead>\n",
       "    <tr style=\"text-align: right;\">\n",
       "      <th></th>\n",
       "    </tr>\n",
       "  </thead>\n",
       "  <tbody>\n",
       "  </tbody>\n",
       "</table>\n",
       "</div>"
      ],
      "text/plain": [
       "Empty DataFrame\n",
       "Columns: []\n",
       "Index: []"
      ]
     },
     "execution_count": 15,
     "metadata": {},
     "output_type": "execute_result"
    }
   ],
   "source": [
    "nr_metrics"
   ]
  },
  {
   "cell_type": "code",
   "execution_count": null,
   "metadata": {},
   "outputs": [],
   "source": []
  },
  {
   "cell_type": "code",
   "execution_count": null,
   "metadata": {},
   "outputs": [],
   "source": []
  }
 ],
 "metadata": {
  "kernelspec": {
   "display_name": "Python 3",
   "language": "python",
   "name": "python3"
  },
  "language_info": {
   "codemirror_mode": {
    "name": "ipython",
    "version": 3
   },
   "file_extension": ".py",
   "mimetype": "text/x-python",
   "name": "python",
   "nbconvert_exporter": "python",
   "pygments_lexer": "ipython3",
   "version": "3.6.6"
  }
 },
 "nbformat": 4,
 "nbformat_minor": 2
}
