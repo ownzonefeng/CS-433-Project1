{
 "cells": [
  {
   "cell_type": "code",
   "execution_count": 44,
   "metadata": {},
   "outputs": [],
   "source": [
    "import pandas as pd\n",
    "import numpy as np\n",
    "import os\n",
    "from sklearn.ensemble import RandomForestRegressor\n",
    "from sklearn.model_selection import GridSearchCV\n",
    "from scipy import stats\n",
    "import joblib\n",
    "from sklearn.model_selection import train_test_split\n",
    "import sklearn.metrics as metrics\n",
    "from sklearn.model_selection import GroupShuffleSplit\n",
    "import matplotlib.pyplot as plt\n",
    "from sklearn.preprocessing import PolynomialFeatures"
   ]
  },
  {
   "cell_type": "code",
   "execution_count": 45,
   "metadata": {},
   "outputs": [],
   "source": [
    "%matplotlib inline"
   ]
  },
  {
   "cell_type": "code",
   "execution_count": 46,
   "metadata": {},
   "outputs": [],
   "source": [
    "def rmse(y_true, y_pred):\n",
    "    rmse = np.sqrt(metrics.mean_squared_error(y_true, y_pred))\n",
    "    return rmse\n",
    "\n",
    "def lcc(y_true, y_pred):\n",
    "    lcc, _ = stats.pearsonr(y_true, y_pred)\n",
    "    return lcc\n",
    "\n",
    "def srocc(y_true, y_pred):\n",
    "    srocc, _ = stats.spearmanr(y_true, y_pred)\n",
    "    return srocc"
   ]
  },
  {
   "cell_type": "code",
   "execution_count": 47,
   "metadata": {},
   "outputs": [],
   "source": [
    "def accuracy(y_true, y_pred):\n",
    "    ratio = abs(y_true - y_pred) / y_true\n",
    "    return 1 - np.mean(ratio)"
   ]
  },
  {
   "cell_type": "code",
   "execution_count": 48,
   "metadata": {},
   "outputs": [
    {
     "data": {
      "text/plain": [
       "{'rmse': make_scorer(rmse, greater_is_better=False),\n",
       " 'lcc': make_scorer(lcc),\n",
       " 'srocc': make_scorer(srocc)}"
      ]
     },
     "execution_count": 48,
     "metadata": {},
     "output_type": "execute_result"
    }
   ],
   "source": [
    "scorer = {}\n",
    "scorer['rmse'] = metrics.make_scorer(rmse, greater_is_better=False)\n",
    "scorer['lcc'] = metrics.make_scorer(lcc, greater_is_better=True)\n",
    "scorer['srocc'] = metrics.make_scorer(srocc, greater_is_better=True)\n",
    "scorer"
   ]
  },
  {
   "cell_type": "code",
   "execution_count": 49,
   "metadata": {},
   "outputs": [],
   "source": [
    "features = pd.read_pickle('features.pkl')\n",
    "labels = pd.read_pickle('labels.pkl')"
   ]
  },
  {
   "cell_type": "code",
   "execution_count": 50,
   "metadata": {},
   "outputs": [],
   "source": [
    "features_selected = features.loc[:,['msssim', 'TA', 'psnrhvsm']]"
   ]
  },
  {
   "cell_type": "code",
   "execution_count": 51,
   "metadata": {},
   "outputs": [],
   "source": [
    "Aug_tool = PolynomialFeatures(degree=1)"
   ]
  },
  {
   "cell_type": "code",
   "execution_count": 52,
   "metadata": {},
   "outputs": [],
   "source": [
    "features_aug = Aug_tool.fit_transform(features_selected)"
   ]
  },
  {
   "cell_type": "code",
   "execution_count": 53,
   "metadata": {},
   "outputs": [],
   "source": [
    "group_label = np.arange(len(features.index) / 3)\n",
    "group_label = np.matlib.repmat(group_label,3,1)\n",
    "group_label = group_label.reshape(-1,1, order='F')"
   ]
  },
  {
   "cell_type": "code",
   "execution_count": 54,
   "metadata": {},
   "outputs": [],
   "source": [
    "Reg_video = RandomForestRegressor(random_state=8, n_jobs=-1)"
   ]
  },
  {
   "cell_type": "code",
   "execution_count": 55,
   "metadata": {},
   "outputs": [],
   "source": [
    "def CV_Generator(features, labels, group_label, n=8, test_ratio=0.2):\n",
    "    CV_Group = GroupShuffleSplit(n_splits=n, test_size=test_ratio, random_state=8)\n",
    "    for train, test in CV_Group.split(features, labels, groups=group_label):\n",
    "        yield train, test"
   ]
  },
  {
   "cell_type": "code",
   "execution_count": 56,
   "metadata": {},
   "outputs": [],
   "source": [
    "parameters_grid_GCV_3MET = {}"
   ]
  },
  {
   "cell_type": "code",
   "execution_count": 57,
   "metadata": {},
   "outputs": [],
   "source": [
    "parameters_grid_GCV_3MET['n_estimators'] = [181]\n",
    "parameters_grid_GCV_3MET['criterion'] = ['mae','mse']\n",
    "parameters_grid_GCV_3MET['max_depth'] = [3, 4, 5]\n",
    "parameters_grid_GCV_3MET['min_samples_split'] = [2, 3, 4]\n",
    "parameters_grid_GCV_3MET['min_samples_leaf'] = [3, 4, 5]\n",
    "parameters_grid_GCV_3MET['max_features'] = ['sqrt', 'auto']\n",
    "parameters_grid_GCV_3MET['bootstrap'] = [True]\n",
    "parameters_grid_GCV_3MET['verbose'] = [0]\n",
    "parameters_grid_GCV_3MET['oob_score'] = [True]"
   ]
  },
  {
   "cell_type": "code",
   "execution_count": 58,
   "metadata": {},
   "outputs": [
    {
     "data": {
      "text/plain": [
       "{'n_estimators': [181],\n",
       " 'criterion': ['mae', 'mse'],\n",
       " 'max_depth': [3, 4, 5],\n",
       " 'min_samples_split': [2, 3, 4],\n",
       " 'min_samples_leaf': [3, 4, 5],\n",
       " 'max_features': ['sqrt', 'auto'],\n",
       " 'bootstrap': [True],\n",
       " 'verbose': [0],\n",
       " 'oob_score': [True]}"
      ]
     },
     "execution_count": 58,
     "metadata": {},
     "output_type": "execute_result"
    }
   ],
   "source": [
    "parameters_grid_GCV_3MET"
   ]
  },
  {
   "cell_type": "code",
   "execution_count": 59,
   "metadata": {},
   "outputs": [],
   "source": [
    "parameters_grid_search_GCV_3MET = GridSearchCV(estimator = Reg_video, param_grid = parameters_grid_GCV_3MET, \n",
    "                          cv = CV_Generator(features_aug, labels, group_label), n_jobs = -1, verbose = 1, return_train_score=True, \n",
    "                                      error_score = np.nan, scoring = scorer, refit = 'rmse', iid=False)"
   ]
  },
  {
   "cell_type": "code",
   "execution_count": 60,
   "metadata": {},
   "outputs": [
    {
     "name": "stdout",
     "output_type": "stream",
     "text": [
      "Fitting 8 folds for each of 108 candidates, totalling 864 fits\n"
     ]
    },
    {
     "name": "stderr",
     "output_type": "stream",
     "text": [
      "[Parallel(n_jobs=-1)]: Using backend LokyBackend with 12 concurrent workers.\n",
      "[Parallel(n_jobs=-1)]: Done  26 tasks      | elapsed:    5.6s\n",
      "[Parallel(n_jobs=-1)]: Done 176 tasks      | elapsed:   20.1s\n",
      "[Parallel(n_jobs=-1)]: Done 426 tasks      | elapsed:   47.2s\n",
      "[Parallel(n_jobs=-1)]: Done 776 tasks      | elapsed:  1.2min\n",
      "[Parallel(n_jobs=-1)]: Done 864 out of 864 | elapsed:  1.4min finished\n"
     ]
    },
    {
     "data": {
      "text/plain": [
       "GridSearchCV(cv=<generator object CV_Generator at 0x1a0d199f68>,\n",
       "       error_score=nan,\n",
       "       estimator=RandomForestRegressor(bootstrap=True, criterion='mse', max_depth=None,\n",
       "           max_features='auto', max_leaf_nodes=None,\n",
       "           min_impurity_decrease=0.0, min_impurity_split=None,\n",
       "           min_samples_leaf=1, min_samples_split=2,\n",
       "           min_weight_fraction_leaf=0.0, n_estimators='warn', n_jobs=-1,\n",
       "           oob_score=False, random_state=8, verbose=0, warm_start=False),\n",
       "       fit_params=None, iid=False, n_jobs=-1,\n",
       "       param_grid={'n_estimators': [181], 'criterion': ['mae', 'mse'], 'max_depth': [3, 4, 5], 'min_samples_split': [2, 3, 4], 'min_samples_leaf': [3, 4, 5], 'max_features': ['sqrt', 'auto'], 'bootstrap': [True], 'verbose': [0], 'oob_score': [True]},\n",
       "       pre_dispatch='2*n_jobs', refit='rmse', return_train_score=True,\n",
       "       scoring={'rmse': make_scorer(rmse, greater_is_better=False), 'lcc': make_scorer(lcc), 'srocc': make_scorer(srocc)},\n",
       "       verbose=1)"
      ]
     },
     "execution_count": 60,
     "metadata": {},
     "output_type": "execute_result"
    }
   ],
   "source": [
    "parameters_grid_search_GCV_3MET.fit(features_aug, labels)"
   ]
  },
  {
   "cell_type": "code",
   "execution_count": 61,
   "metadata": {},
   "outputs": [
    {
     "data": {
      "text/plain": [
       "{'bootstrap': True,\n",
       " 'criterion': 'mae',\n",
       " 'max_depth': 4,\n",
       " 'max_features': 'sqrt',\n",
       " 'min_samples_leaf': 5,\n",
       " 'min_samples_split': 4,\n",
       " 'n_estimators': 181,\n",
       " 'oob_score': True,\n",
       " 'verbose': 0}"
      ]
     },
     "execution_count": 61,
     "metadata": {},
     "output_type": "execute_result"
    }
   ],
   "source": [
    "parameters_grid_search_GCV_3MET.best_params_"
   ]
  },
  {
   "cell_type": "code",
   "execution_count": 62,
   "metadata": {},
   "outputs": [
    {
     "name": "stdout",
     "output_type": "stream",
     "text": [
      "RMSE: 6.803582613538476 8.04838668026069\n",
      "LCC: 0.8319591677526218 0.7743754058193858\n",
      "SROCC: 0.8508797465644932 0.7489542457107392\n",
      "\n",
      "\n",
      "RMSE: 6.69389247742919 9.49204830063548\n",
      "LCC: 0.8162366840813029 0.7951172857897284\n",
      "SROCC: 0.828725544757909 0.7791505791505792\n",
      "\n",
      "\n",
      "RMSE: 6.58292680001967 9.524238550358113\n",
      "LCC: 0.8530049845499608 0.5261221263070012\n",
      "SROCC: 0.8746045404615461 0.5444015444015444\n",
      "\n",
      "\n",
      "RMSE: 6.908027251219146 7.7722058073036395\n",
      "LCC: 0.8350509928341951 0.741345918650052\n",
      "SROCC: 0.8523083739766578 0.7642213642213642\n",
      "\n",
      "\n",
      "RMSE: 6.7000005563393685 8.469949652086225\n",
      "LCC: 0.842268978382449 0.7067464654269381\n",
      "SROCC: 0.8522621950064367 0.6748182007666963\n",
      "\n",
      "\n",
      "RMSE: 7.21016573426127 5.1994655838282355\n",
      "LCC: 0.8183041391124182 0.8998010628202033\n",
      "SROCC: 0.8348901922171326 0.8916344916344917\n",
      "\n",
      "\n",
      "RMSE: 6.855516662439892 7.975049846514465\n",
      "LCC: 0.8231856471821565 0.8392829534109656\n",
      "SROCC: 0.8372542031493762 0.8682110682110683\n",
      "\n",
      "\n",
      "RMSE: 7.094420138455658 6.889633969356672\n",
      "LCC: 0.8222163337415498 0.8086478799785625\n",
      "SROCC: 0.8270302667066225 0.7906797378441774\n",
      "\n",
      "\n",
      "RMSE: 6.985160622960767 6.672665055148035\n",
      "LCC: 0.8299121289852229 0.8219195764086948\n",
      "SROCC: 0.8471197901453865 0.8574002574002574\n",
      "\n",
      "\n",
      "RMSE: 7.09865303097782 6.223838022074329\n",
      "LCC: 0.8232053875909601 0.8635288263885604\n",
      "SROCC: 0.8395607688685301 0.8651222651222652\n",
      "\n",
      "\n",
      "RMSE: 6.921059457199247 6.808994593431254\n",
      "LCC: 0.8372377002362802 0.784065243349478\n",
      "SROCC: 0.8426644976240419 0.7889317889317891\n",
      "\n",
      "\n",
      "RMSE: 6.501058563825073 8.594612553183392\n",
      "LCC: 0.85381852811308 0.6721006087419062\n",
      "SROCC: 0.8683419666937797 0.6664092664092665\n",
      "\n",
      "\n",
      "RMSE: 6.737133644470233 7.798089993642766\n",
      "LCC: 0.8427723835493388 0.7803131843921626\n",
      "SROCC: 0.8494884198809881 0.798970398970399\n",
      "\n",
      "\n",
      "RMSE: 7.1641761805721 7.47639748021464\n",
      "LCC: 0.8190066915558023 0.7796374451559316\n",
      "SROCC: 0.8331401527683104 0.8041184041184041\n",
      "\n",
      "\n",
      "RMSE: 6.777606590895908 7.505816580287839\n",
      "LCC: 0.8511193071448053 0.6584609387714772\n",
      "SROCC: 0.8614752343850336 0.6355212355212356\n",
      "\n",
      "\n",
      "RMSE: 6.917668798523572 7.607581741960488\n",
      "LCC: 0.8260178658992408 0.7992921491156506\n",
      "SROCC: 0.8448221242347703 0.793101230807626\n",
      "\n",
      "\n"
     ]
    }
   ],
   "source": [
    "idx = 0\n",
    "for train_idx, test_idx in CV_Generator(features_selected, labels, group_label, 16, test_ratio=0.2):\n",
    "    train_features = features_selected.iloc[train_idx]\n",
    "    train_labels = labels.iloc[train_idx]\n",
    "    test_features = features_selected.iloc[test_idx]\n",
    "    test_labels = labels.iloc[test_idx]\n",
    "    best_model = parameters_grid_search_GCV_3MET.best_estimator_.fit(train_features, train_labels)\n",
    "    train_pred = best_model.predict(train_features)\n",
    "    test_pred = best_model.predict(test_features)\n",
    "    if idx == 5:\n",
    "        final_model = best_model\n",
    "        #print('Model saved')\n",
    "    print('RMSE:', rmse(train_labels, train_pred), rmse(test_labels, test_pred))\n",
    "    print('LCC:', lcc(train_labels, train_pred), lcc(test_labels, test_pred))\n",
    "    print('SROCC:', srocc(train_labels, train_pred), srocc(test_labels, test_pred))\n",
    "    #print('Accuracy:', accuracy(train_labels, train_pred), accuracy(test_labels, test_pred))\n",
    "    print('\\n')\n",
    "    idx += 1"
   ]
  },
  {
   "cell_type": "code",
   "execution_count": null,
   "metadata": {},
   "outputs": [],
   "source": []
  },
  {
   "cell_type": "code",
   "execution_count": null,
   "metadata": {},
   "outputs": [],
   "source": []
  },
  {
   "cell_type": "code",
   "execution_count": null,
   "metadata": {},
   "outputs": [],
   "source": []
  },
  {
   "cell_type": "code",
   "execution_count": null,
   "metadata": {},
   "outputs": [],
   "source": []
  },
  {
   "cell_type": "code",
   "execution_count": null,
   "metadata": {},
   "outputs": [],
   "source": []
  },
  {
   "cell_type": "code",
   "execution_count": null,
   "metadata": {},
   "outputs": [],
   "source": []
  },
  {
   "cell_type": "code",
   "execution_count": null,
   "metadata": {},
   "outputs": [],
   "source": []
  },
  {
   "cell_type": "code",
   "execution_count": null,
   "metadata": {},
   "outputs": [],
   "source": []
  },
  {
   "cell_type": "code",
   "execution_count": null,
   "metadata": {},
   "outputs": [],
   "source": []
  },
  {
   "cell_type": "code",
   "execution_count": null,
   "metadata": {},
   "outputs": [],
   "source": []
  },
  {
   "cell_type": "code",
   "execution_count": null,
   "metadata": {},
   "outputs": [],
   "source": []
  },
  {
   "cell_type": "code",
   "execution_count": null,
   "metadata": {},
   "outputs": [],
   "source": []
  },
  {
   "cell_type": "code",
   "execution_count": null,
   "metadata": {},
   "outputs": [],
   "source": []
  },
  {
   "cell_type": "code",
   "execution_count": null,
   "metadata": {},
   "outputs": [],
   "source": []
  },
  {
   "cell_type": "code",
   "execution_count": null,
   "metadata": {},
   "outputs": [],
   "source": []
  },
  {
   "cell_type": "code",
   "execution_count": null,
   "metadata": {},
   "outputs": [],
   "source": []
  },
  {
   "cell_type": "code",
   "execution_count": null,
   "metadata": {},
   "outputs": [],
   "source": []
  },
  {
   "cell_type": "code",
   "execution_count": null,
   "metadata": {},
   "outputs": [],
   "source": []
  },
  {
   "cell_type": "code",
   "execution_count": null,
   "metadata": {},
   "outputs": [],
   "source": []
  },
  {
   "cell_type": "code",
   "execution_count": null,
   "metadata": {},
   "outputs": [],
   "source": []
  },
  {
   "cell_type": "code",
   "execution_count": null,
   "metadata": {},
   "outputs": [],
   "source": []
  },
  {
   "cell_type": "code",
   "execution_count": null,
   "metadata": {},
   "outputs": [],
   "source": []
  },
  {
   "cell_type": "code",
   "execution_count": null,
   "metadata": {},
   "outputs": [],
   "source": []
  },
  {
   "cell_type": "code",
   "execution_count": null,
   "metadata": {},
   "outputs": [],
   "source": []
  }
 ],
 "metadata": {
  "kernelspec": {
   "display_name": "Python 3",
   "language": "python",
   "name": "python3"
  },
  "language_info": {
   "codemirror_mode": {
    "name": "ipython",
    "version": 3
   },
   "file_extension": ".py",
   "mimetype": "text/x-python",
   "name": "python",
   "nbconvert_exporter": "python",
   "pygments_lexer": "ipython3",
   "version": "3.6.6"
  }
 },
 "nbformat": 4,
 "nbformat_minor": 2
}
