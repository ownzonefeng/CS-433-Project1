{
 "cells": [
  {
   "cell_type": "code",
   "execution_count": 16,
   "metadata": {},
   "outputs": [],
   "source": [
    "import pandas as pd\n",
    "import numpy as np\n",
    "import os\n",
    "from sklearn.ensemble import RandomForestRegressor\n",
    "from sklearn.model_selection import GridSearchCV\n",
    "from scipy import stats\n",
    "import joblib\n",
    "from sklearn.model_selection import train_test_split\n",
    "import sklearn.metrics as metrics\n",
    "from sklearn.model_selection import GroupShuffleSplit\n",
    "import matplotlib.pyplot as plt\n",
    "from sklearn.preprocessing import PolynomialFeatures"
   ]
  },
  {
   "cell_type": "code",
   "execution_count": 17,
   "metadata": {},
   "outputs": [],
   "source": [
    "%matplotlib inline"
   ]
  },
  {
   "cell_type": "code",
   "execution_count": 18,
   "metadata": {},
   "outputs": [],
   "source": [
    "def rmse(y_true, y_pred):\n",
    "    rmse = np.sqrt(metrics.mean_squared_error(y_true, y_pred))\n",
    "    return rmse\n",
    "\n",
    "def lcc(y_true, y_pred):\n",
    "    lcc, _ = stats.pearsonr(y_true, y_pred)\n",
    "    return lcc\n",
    "\n",
    "def srocc(y_true, y_pred):\n",
    "    srocc, _ = stats.spearmanr(y_true, y_pred)\n",
    "    return srocc"
   ]
  },
  {
   "cell_type": "code",
   "execution_count": 19,
   "metadata": {},
   "outputs": [],
   "source": [
    "def accuracy(y_true, y_pred):\n",
    "    ratio = abs(y_true - y_pred) / y_true\n",
    "    return 1 - np.mean(ratio)"
   ]
  },
  {
   "cell_type": "code",
   "execution_count": 20,
   "metadata": {},
   "outputs": [
    {
     "data": {
      "text/plain": [
       "{'rmse': make_scorer(rmse, greater_is_better=False),\n",
       " 'lcc': make_scorer(lcc),\n",
       " 'srocc': make_scorer(srocc)}"
      ]
     },
     "execution_count": 20,
     "metadata": {},
     "output_type": "execute_result"
    }
   ],
   "source": [
    "scorer = {}\n",
    "scorer['rmse'] = metrics.make_scorer(rmse, greater_is_better=False)\n",
    "scorer['lcc'] = metrics.make_scorer(lcc, greater_is_better=True)\n",
    "scorer['srocc'] = metrics.make_scorer(srocc, greater_is_better=True)\n",
    "scorer"
   ]
  },
  {
   "cell_type": "code",
   "execution_count": 21,
   "metadata": {},
   "outputs": [],
   "source": [
    "features = pd.read_pickle('features.pkl')\n",
    "labels = pd.read_pickle('labels.pkl')"
   ]
  },
  {
   "cell_type": "code",
   "execution_count": 22,
   "metadata": {},
   "outputs": [],
   "source": [
    "features_selected = features.loc[:,['msssim', 'TA', 'psnrhvsm']]"
   ]
  },
  {
   "cell_type": "code",
   "execution_count": null,
   "metadata": {},
   "outputs": [],
   "source": []
  },
  {
   "cell_type": "code",
   "execution_count": null,
   "metadata": {},
   "outputs": [],
   "source": []
  },
  {
   "cell_type": "code",
   "execution_count": 23,
   "metadata": {},
   "outputs": [],
   "source": [
    "group_label = np.arange(len(features.index) / 3)\n",
    "group_label = np.matlib.repmat(group_label,3,1)\n",
    "group_label = group_label.reshape(-1,1, order='F')"
   ]
  },
  {
   "cell_type": "code",
   "execution_count": 24,
   "metadata": {},
   "outputs": [],
   "source": [
    "Reg_video = RandomForestRegressor(random_state=8, n_jobs=-1)"
   ]
  },
  {
   "cell_type": "code",
   "execution_count": 25,
   "metadata": {},
   "outputs": [],
   "source": [
    "def CV_Generator(features, labels, group_label, n=8, test_ratio=0.2):\n",
    "    CV_Group = GroupShuffleSplit(n_splits=n, test_size=test_ratio, random_state=8)\n",
    "    for train, test in CV_Group.split(features, labels, groups=group_label):\n",
    "        yield train, test"
   ]
  },
  {
   "cell_type": "code",
   "execution_count": 64,
   "metadata": {},
   "outputs": [],
   "source": [
    "parameters_grid_GCV_3MET = {}"
   ]
  },
  {
   "cell_type": "code",
   "execution_count": 65,
   "metadata": {},
   "outputs": [],
   "source": [
    "parameters_grid_GCV_3MET['n_estimators'] = [181]\n",
    "parameters_grid_GCV_3MET['criterion'] = ['mae','mse']\n",
    "parameters_grid_GCV_3MET['max_depth'] = [4]\n",
    "parameters_grid_GCV_3MET['min_samples_split'] = [2]\n",
    "parameters_grid_GCV_3MET['min_samples_leaf'] = [3]\n",
    "parameters_grid_GCV_3MET['max_features'] = ['sqrt', 'auto']\n",
    "parameters_grid_GCV_3MET['bootstrap'] = [True]\n",
    "parameters_grid_GCV_3MET['verbose'] = [0]\n",
    "parameters_grid_GCV_3MET['oob_score'] = [True]"
   ]
  },
  {
   "cell_type": "code",
   "execution_count": 66,
   "metadata": {},
   "outputs": [
    {
     "data": {
      "text/plain": [
       "{'n_estimators': [181],\n",
       " 'criterion': ['mae', 'mse'],\n",
       " 'max_depth': [4],\n",
       " 'min_samples_split': [2],\n",
       " 'min_samples_leaf': [3],\n",
       " 'max_features': ['sqrt', 'auto'],\n",
       " 'bootstrap': [True],\n",
       " 'verbose': [0],\n",
       " 'oob_score': [True]}"
      ]
     },
     "execution_count": 66,
     "metadata": {},
     "output_type": "execute_result"
    }
   ],
   "source": [
    "parameters_grid_GCV_3MET"
   ]
  },
  {
   "cell_type": "code",
   "execution_count": 67,
   "metadata": {},
   "outputs": [],
   "source": [
    "parameters_grid_search_GCV_3MET = GridSearchCV(estimator = Reg_video, param_grid = parameters_grid_GCV_3MET, \n",
    "                          cv = CV_Generator(features_selected, labels, group_label), n_jobs = -1, verbose = 1, return_train_score=True, \n",
    "                                      error_score = np.nan, scoring = scorer, refit = 'rmse', iid=False)"
   ]
  },
  {
   "cell_type": "code",
   "execution_count": 68,
   "metadata": {},
   "outputs": [
    {
     "name": "stdout",
     "output_type": "stream",
     "text": [
      "Fitting 8 folds for each of 4 candidates, totalling 32 fits\n"
     ]
    },
    {
     "name": "stderr",
     "output_type": "stream",
     "text": [
      "[Parallel(n_jobs=-1)]: Using backend LokyBackend with 12 concurrent workers.\n",
      "[Parallel(n_jobs=-1)]: Done  32 out of  32 | elapsed:    3.1s finished\n"
     ]
    },
    {
     "data": {
      "text/plain": [
       "GridSearchCV(cv=<generator object CV_Generator at 0x1146bfe08>,\n",
       "       error_score=nan,\n",
       "       estimator=RandomForestRegressor(bootstrap=True, criterion='mse', max_depth=None,\n",
       "           max_features='auto', max_leaf_nodes=None,\n",
       "           min_impurity_decrease=0.0, min_impurity_split=None,\n",
       "           min_samples_leaf=1, min_samples_split=2,\n",
       "           min_weight_fraction_leaf=0.0, n_estimators='warn', n_jobs=-1,\n",
       "           oob_score=False, random_state=8, verbose=0, warm_start=False),\n",
       "       fit_params=None, iid=False, n_jobs=-1,\n",
       "       param_grid={'n_estimators': [181], 'criterion': ['mae', 'mse'], 'max_depth': [4], 'min_samples_split': [2], 'min_samples_leaf': [3], 'max_features': ['sqrt', 'auto'], 'bootstrap': [True], 'verbose': [0], 'oob_score': [True]},\n",
       "       pre_dispatch='2*n_jobs', refit='rmse', return_train_score=True,\n",
       "       scoring={'rmse': make_scorer(rmse, greater_is_better=False), 'lcc': make_scorer(lcc), 'srocc': make_scorer(srocc)},\n",
       "       verbose=1)"
      ]
     },
     "execution_count": 68,
     "metadata": {},
     "output_type": "execute_result"
    }
   ],
   "source": [
    "parameters_grid_search_GCV_3MET.fit(features_selected, labels)"
   ]
  },
  {
   "cell_type": "code",
   "execution_count": 69,
   "metadata": {},
   "outputs": [
    {
     "data": {
      "text/plain": [
       "{'bootstrap': True,\n",
       " 'criterion': 'mae',\n",
       " 'max_depth': 4,\n",
       " 'max_features': 'sqrt',\n",
       " 'min_samples_leaf': 3,\n",
       " 'min_samples_split': 2,\n",
       " 'n_estimators': 181,\n",
       " 'oob_score': True,\n",
       " 'verbose': 0}"
      ]
     },
     "execution_count": 69,
     "metadata": {},
     "output_type": "execute_result"
    }
   ],
   "source": [
    "parameters_grid_search_GCV_3MET.best_params_"
   ]
  },
  {
   "cell_type": "code",
   "execution_count": 71,
   "metadata": {},
   "outputs": [
    {
     "name": "stdout",
     "output_type": "stream",
     "text": [
      "RMSE: 6.364140215989266 7.517605994055263\n",
      "LCC: 0.8478240559448553 0.7900208528773105\n",
      "SROCC: 0.8592105826448049 0.7844777672464265\n",
      "\n",
      "\n",
      "RMSE: 6.1131274580896555 8.840568312716524\n",
      "LCC: 0.8371481310926322 0.8308902581965701\n",
      "SROCC: 0.8498822723575495 0.8411840411840412\n",
      "\n",
      "\n",
      "RMSE: 5.982007995348969 8.412565051454418\n",
      "LCC: 0.8774053165977336 0.5907495443850971\n",
      "SROCC: 0.8940065927479771 0.6047888974913621\n",
      "\n",
      "\n",
      "RMSE: 6.2313942990825915 7.555863392904341\n",
      "LCC: 0.8592652436636998 0.7493140646837659\n",
      "SROCC: 0.8722034333661542 0.7624195624195624\n",
      "\n",
      "\n",
      "RMSE: 6.126414604791773 8.118181221499444\n",
      "LCC: 0.8662935322280394 0.6870930202043839\n",
      "SROCC: 0.876634273727471 0.6836550836550838\n",
      "\n",
      "\n",
      "RMSE: 6.648859335823215 4.9234188236563945\n",
      "LCC: 0.8411988728067153 0.8875813382749393\n",
      "SROCC: 0.8515347403570357 0.8813384813384814\n",
      "\n",
      "\n",
      "RMSE: 6.22935876099841 7.429483876391015\n",
      "LCC: 0.8497583663921751 0.8330031077734422\n",
      "SROCC: 0.86844899182328 0.8746460746460748\n",
      "\n",
      "\n",
      "RMSE: 6.582688024424035 6.294719584950135\n",
      "LCC: 0.8407839155056009 0.8438388169763867\n",
      "SROCC: 0.8512307889892546 0.8565911715426827\n",
      "\n",
      "\n",
      "RMSE: 6.439515156278272 6.426910801256199\n",
      "LCC: 0.8493534381445622 0.8107402795789146\n",
      "SROCC: 0.8603921400744894 0.825997425997426\n",
      "\n",
      "\n",
      "RMSE: 6.533699398785428 6.149305652676047\n",
      "LCC: 0.8420400561559955 0.8692098493032121\n",
      "SROCC: 0.8561453829359132 0.8795366795366795\n",
      "\n",
      "\n",
      "RMSE: 6.4247779902946585 6.250462669186328\n",
      "LCC: 0.8545361635002602 0.7958359213260894\n",
      "SROCC: 0.856068324842673 0.8077220077220078\n",
      "\n",
      "\n",
      "RMSE: 5.99678022581205 8.094591793362152\n",
      "LCC: 0.870736760046997 0.6927116205033551\n",
      "SROCC: 0.8808467828246072 0.6952380952380952\n",
      "\n",
      "\n",
      "RMSE: 6.129449085383546 7.48539733377358\n",
      "LCC: 0.8634982020806447 0.7971696891482841\n",
      "SROCC: 0.8674172695748962 0.8159588159588159\n",
      "\n",
      "\n",
      "RMSE: 6.500467221212954 6.947225832979621\n",
      "LCC: 0.8439947122574631 0.8117198583212074\n",
      "SROCC: 0.857138576137677 0.814929214929215\n",
      "\n",
      "\n",
      "RMSE: 6.185063868510889 7.278302760928037\n",
      "LCC: 0.869564437865019 0.665776995175243\n",
      "SROCC: 0.8764715955306305 0.6723294723294724\n",
      "\n",
      "\n",
      "RMSE: 6.2834289256455955 7.162788047923587\n",
      "LCC: 0.8489653350755149 0.8173555129328802\n",
      "SROCC: 0.8591035575153045 0.8241956241956243\n",
      "\n",
      "\n"
     ]
    }
   ],
   "source": [
    "idx = 0\n",
    "for train_idx, test_idx in CV_Generator(features_selected, labels, group_label, 16, test_ratio=0.2):\n",
    "    train_features = features_selected.iloc[train_idx]\n",
    "    train_labels = labels.iloc[train_idx]\n",
    "    test_features = features_selected.iloc[test_idx]\n",
    "    test_labels = labels.iloc[test_idx]\n",
    "    best_model = parameters_grid_search_GCV_3MET.best_estimator_.fit(train_features, train_labels)\n",
    "    train_pred = best_model.predict(train_features)\n",
    "    test_pred = best_model.predict(test_features)\n",
    "    if idx == 5:\n",
    "        final_model = best_model\n",
    "        #print('Model saved')\n",
    "    print('RMSE:', rmse(train_labels, train_pred), rmse(test_labels, test_pred))\n",
    "    print('LCC:', lcc(train_labels, train_pred), lcc(test_labels, test_pred))\n",
    "    print('SROCC:', srocc(train_labels, train_pred), srocc(test_labels, test_pred))\n",
    "    #print('Accuracy:', accuracy(train_labels, train_pred), accuracy(test_labels, test_pred))\n",
    "    print('\\n')\n",
    "    idx += 1"
   ]
  },
  {
   "cell_type": "code",
   "execution_count": null,
   "metadata": {},
   "outputs": [],
   "source": []
  },
  {
   "cell_type": "code",
   "execution_count": null,
   "metadata": {},
   "outputs": [],
   "source": []
  },
  {
   "cell_type": "code",
   "execution_count": null,
   "metadata": {},
   "outputs": [],
   "source": []
  },
  {
   "cell_type": "code",
   "execution_count": null,
   "metadata": {},
   "outputs": [],
   "source": []
  },
  {
   "cell_type": "code",
   "execution_count": null,
   "metadata": {},
   "outputs": [],
   "source": []
  },
  {
   "cell_type": "code",
   "execution_count": null,
   "metadata": {},
   "outputs": [],
   "source": []
  },
  {
   "cell_type": "code",
   "execution_count": null,
   "metadata": {},
   "outputs": [],
   "source": []
  },
  {
   "cell_type": "code",
   "execution_count": null,
   "metadata": {},
   "outputs": [],
   "source": []
  },
  {
   "cell_type": "code",
   "execution_count": null,
   "metadata": {},
   "outputs": [],
   "source": []
  },
  {
   "cell_type": "code",
   "execution_count": null,
   "metadata": {},
   "outputs": [],
   "source": []
  },
  {
   "cell_type": "code",
   "execution_count": null,
   "metadata": {},
   "outputs": [],
   "source": []
  },
  {
   "cell_type": "code",
   "execution_count": null,
   "metadata": {},
   "outputs": [],
   "source": []
  },
  {
   "cell_type": "code",
   "execution_count": null,
   "metadata": {},
   "outputs": [],
   "source": []
  },
  {
   "cell_type": "code",
   "execution_count": null,
   "metadata": {},
   "outputs": [],
   "source": []
  },
  {
   "cell_type": "code",
   "execution_count": null,
   "metadata": {},
   "outputs": [],
   "source": []
  },
  {
   "cell_type": "code",
   "execution_count": null,
   "metadata": {},
   "outputs": [],
   "source": []
  },
  {
   "cell_type": "code",
   "execution_count": null,
   "metadata": {},
   "outputs": [],
   "source": []
  },
  {
   "cell_type": "code",
   "execution_count": null,
   "metadata": {},
   "outputs": [],
   "source": []
  },
  {
   "cell_type": "code",
   "execution_count": null,
   "metadata": {},
   "outputs": [],
   "source": []
  },
  {
   "cell_type": "code",
   "execution_count": null,
   "metadata": {},
   "outputs": [],
   "source": []
  },
  {
   "cell_type": "code",
   "execution_count": null,
   "metadata": {},
   "outputs": [],
   "source": []
  },
  {
   "cell_type": "code",
   "execution_count": null,
   "metadata": {},
   "outputs": [],
   "source": []
  },
  {
   "cell_type": "code",
   "execution_count": null,
   "metadata": {},
   "outputs": [],
   "source": []
  },
  {
   "cell_type": "code",
   "execution_count": null,
   "metadata": {},
   "outputs": [],
   "source": []
  }
 ],
 "metadata": {
  "kernelspec": {
   "display_name": "Python 3",
   "language": "python",
   "name": "python3"
  },
  "language_info": {
   "codemirror_mode": {
    "name": "ipython",
    "version": 3
   },
   "file_extension": ".py",
   "mimetype": "text/x-python",
   "name": "python",
   "nbconvert_exporter": "python",
   "pygments_lexer": "ipython3",
   "version": "3.6.6"
  }
 },
 "nbformat": 4,
 "nbformat_minor": 2
}
