{
 "cells": [
  {
   "cell_type": "code",
   "execution_count": 1,
   "metadata": {},
   "outputs": [],
   "source": [
    "import pandas as pd\n",
    "import numpy as np\n",
    "import sklearn\n",
    "import matplotlib as mpl\n",
    "import matplotlib.pyplot as plt\n",
    "from sklearn.decomposition import PCA\n",
    "import sklearn.metrics as metrics\n",
    "from sklearn.model_selection import GroupShuffleSplit"
   ]
  },
  {
   "cell_type": "code",
   "execution_count": 2,
   "metadata": {},
   "outputs": [],
   "source": [
    "from sklearn import svm\n",
    "from sklearn import multiclass \n",
    "from scipy import stats"
   ]
  },
  {
   "cell_type": "code",
   "execution_count": 3,
   "metadata": {},
   "outputs": [],
   "source": [
    "from sklearn import preprocessing\n",
    "from sklearn import utils"
   ]
  },
  {
   "cell_type": "code",
   "execution_count": 4,
   "metadata": {},
   "outputs": [],
   "source": [
    "from sklearn.model_selection import train_test_split\n",
    "from sklearn import datasets\n",
    "from sklearn.model_selection import cross_val_score\n",
    "from sklearn.model_selection import GridSearchCV"
   ]
  },
  {
   "cell_type": "code",
   "execution_count": 5,
   "metadata": {},
   "outputs": [],
   "source": [
    "dataset_socres = pd.read_pickle('labels.pkl')\n",
    "features = pd.read_pickle('features.pkl')\n",
    "nr_old=pd.read_pickle('nr_metrics.pkl')"
   ]
  },
  {
   "cell_type": "code",
   "execution_count": 6,
   "metadata": {},
   "outputs": [],
   "source": [
    "def CV_Generator(features, labels, group_label, n=8, test_ratio=0.2):\n",
    "    CV_Group = GroupShuffleSplit(n_splits=n, test_size=test_ratio, random_state=8)\n",
    "    for train, test in CV_Group.split(features, labels, groups=group_label):\n",
    "        yield train, test"
   ]
  },
  {
   "cell_type": "code",
   "execution_count": 7,
   "metadata": {},
   "outputs": [],
   "source": [
    "def accuracy(y_true, y_pred):\n",
    "    ratio = abs(y_true - y_pred) / y_true\n",
    "    return 1 - np.mean(ratio)"
   ]
  },
  {
   "cell_type": "code",
   "execution_count": 8,
   "metadata": {},
   "outputs": [
    {
     "data": {
      "text/html": [
       "<div>\n",
       "<style scoped>\n",
       "    .dataframe tbody tr th:only-of-type {\n",
       "        vertical-align: middle;\n",
       "    }\n",
       "\n",
       "    .dataframe tbody tr th {\n",
       "        vertical-align: top;\n",
       "    }\n",
       "\n",
       "    .dataframe thead th {\n",
       "        text-align: right;\n",
       "    }\n",
       "</style>\n",
       "<table border=\"1\" class=\"dataframe\">\n",
       "  <thead>\n",
       "    <tr style=\"text-align: right;\">\n",
       "      <th></th>\n",
       "      <th>msssim</th>\n",
       "      <th>psnr</th>\n",
       "      <th>psnrhvs</th>\n",
       "      <th>psnrhvsm</th>\n",
       "      <th>ssim</th>\n",
       "      <th>vifp</th>\n",
       "      <th>Blockiness</th>\n",
       "      <th>Blockloss</th>\n",
       "      <th>Blur</th>\n",
       "      <th>Contrast</th>\n",
       "      <th>Exposure(bri)</th>\n",
       "      <th>Flickering</th>\n",
       "      <th>Interlace</th>\n",
       "      <th>Noise</th>\n",
       "      <th>SA</th>\n",
       "      <th>TA</th>\n",
       "    </tr>\n",
       "  </thead>\n",
       "  <tbody>\n",
       "    <tr>\n",
       "      <th>G10BoatInPark_ERP_4096x2048_fps30_qp27_14547k.mp4</th>\n",
       "      <td>0.993424</td>\n",
       "      <td>41.829451</td>\n",
       "      <td>39.401728</td>\n",
       "      <td>43.855814</td>\n",
       "      <td>0.989905</td>\n",
       "      <td>0.818723</td>\n",
       "      <td>0.918001</td>\n",
       "      <td>4.662472</td>\n",
       "      <td>6.318822</td>\n",
       "      <td>56.274408</td>\n",
       "      <td>122.973648</td>\n",
       "      <td>0.973981</td>\n",
       "      <td>0.004543</td>\n",
       "      <td>0.385048</td>\n",
       "      <td>48.017774</td>\n",
       "      <td>12.572215</td>\n",
       "    </tr>\n",
       "    <tr>\n",
       "      <th>G10BoatInPark_ERP_4096x2048_fps30_qp37_3270k.mp4</th>\n",
       "      <td>0.978172</td>\n",
       "      <td>37.045777</td>\n",
       "      <td>34.074029</td>\n",
       "      <td>36.540714</td>\n",
       "      <td>0.975696</td>\n",
       "      <td>0.721947</td>\n",
       "      <td>0.923023</td>\n",
       "      <td>5.707591</td>\n",
       "      <td>6.802874</td>\n",
       "      <td>56.220687</td>\n",
       "      <td>122.235861</td>\n",
       "      <td>0.974016</td>\n",
       "      <td>0.001439</td>\n",
       "      <td>0.250219</td>\n",
       "      <td>45.613703</td>\n",
       "      <td>12.228131</td>\n",
       "    </tr>\n",
       "    <tr>\n",
       "      <th>G10BoatInPark_ERP_4096x2048_fps30_qp42_1507k.mp4</th>\n",
       "      <td>0.959965</td>\n",
       "      <td>34.534499</td>\n",
       "      <td>31.430402</td>\n",
       "      <td>33.216521</td>\n",
       "      <td>0.962685</td>\n",
       "      <td>0.672978</td>\n",
       "      <td>0.923070</td>\n",
       "      <td>6.641128</td>\n",
       "      <td>7.194109</td>\n",
       "      <td>56.157094</td>\n",
       "      <td>121.932088</td>\n",
       "      <td>0.973082</td>\n",
       "      <td>0.001407</td>\n",
       "      <td>0.243489</td>\n",
       "      <td>42.835611</td>\n",
       "      <td>11.782598</td>\n",
       "    </tr>\n",
       "    <tr>\n",
       "      <th>G10BodybuildingWorkout_ERP_7680x3840_fps29.97_qp27_6105k.mp4</th>\n",
       "      <td>0.997337</td>\n",
       "      <td>46.713699</td>\n",
       "      <td>44.069635</td>\n",
       "      <td>48.525252</td>\n",
       "      <td>0.997130</td>\n",
       "      <td>0.915188</td>\n",
       "      <td>0.941557</td>\n",
       "      <td>1.083126</td>\n",
       "      <td>10.663758</td>\n",
       "      <td>107.170623</td>\n",
       "      <td>125.000000</td>\n",
       "      <td>0.975835</td>\n",
       "      <td>0.000408</td>\n",
       "      <td>0.691092</td>\n",
       "      <td>55.521111</td>\n",
       "      <td>3.173898</td>\n",
       "    </tr>\n",
       "    <tr>\n",
       "      <th>G10BodybuildingWorkout_ERP_7680x3840_fps29.97_qp37_913k.mp4</th>\n",
       "      <td>0.993475</td>\n",
       "      <td>42.391911</td>\n",
       "      <td>39.490941</td>\n",
       "      <td>42.097111</td>\n",
       "      <td>0.994158</td>\n",
       "      <td>0.873338</td>\n",
       "      <td>0.916841</td>\n",
       "      <td>0.990191</td>\n",
       "      <td>10.873596</td>\n",
       "      <td>107.176925</td>\n",
       "      <td>124.268885</td>\n",
       "      <td>0.970290</td>\n",
       "      <td>0.001945</td>\n",
       "      <td>0.350776</td>\n",
       "      <td>55.119636</td>\n",
       "      <td>3.099582</td>\n",
       "    </tr>\n",
       "  </tbody>\n",
       "</table>\n",
       "</div>"
      ],
      "text/plain": [
       "                                                      msssim       psnr  \\\n",
       "G10BoatInPark_ERP_4096x2048_fps30_qp27_14547k.mp4   0.993424  41.829451   \n",
       "G10BoatInPark_ERP_4096x2048_fps30_qp37_3270k.mp4    0.978172  37.045777   \n",
       "G10BoatInPark_ERP_4096x2048_fps30_qp42_1507k.mp4    0.959965  34.534499   \n",
       "G10BodybuildingWorkout_ERP_7680x3840_fps29.97_q...  0.997337  46.713699   \n",
       "G10BodybuildingWorkout_ERP_7680x3840_fps29.97_q...  0.993475  42.391911   \n",
       "\n",
       "                                                      psnrhvs   psnrhvsm  \\\n",
       "G10BoatInPark_ERP_4096x2048_fps30_qp27_14547k.mp4   39.401728  43.855814   \n",
       "G10BoatInPark_ERP_4096x2048_fps30_qp37_3270k.mp4    34.074029  36.540714   \n",
       "G10BoatInPark_ERP_4096x2048_fps30_qp42_1507k.mp4    31.430402  33.216521   \n",
       "G10BodybuildingWorkout_ERP_7680x3840_fps29.97_q...  44.069635  48.525252   \n",
       "G10BodybuildingWorkout_ERP_7680x3840_fps29.97_q...  39.490941  42.097111   \n",
       "\n",
       "                                                        ssim      vifp  \\\n",
       "G10BoatInPark_ERP_4096x2048_fps30_qp27_14547k.mp4   0.989905  0.818723   \n",
       "G10BoatInPark_ERP_4096x2048_fps30_qp37_3270k.mp4    0.975696  0.721947   \n",
       "G10BoatInPark_ERP_4096x2048_fps30_qp42_1507k.mp4    0.962685  0.672978   \n",
       "G10BodybuildingWorkout_ERP_7680x3840_fps29.97_q...  0.997130  0.915188   \n",
       "G10BodybuildingWorkout_ERP_7680x3840_fps29.97_q...  0.994158  0.873338   \n",
       "\n",
       "                                                    Blockiness  Blockloss  \\\n",
       "G10BoatInPark_ERP_4096x2048_fps30_qp27_14547k.mp4     0.918001   4.662472   \n",
       "G10BoatInPark_ERP_4096x2048_fps30_qp37_3270k.mp4      0.923023   5.707591   \n",
       "G10BoatInPark_ERP_4096x2048_fps30_qp42_1507k.mp4      0.923070   6.641128   \n",
       "G10BodybuildingWorkout_ERP_7680x3840_fps29.97_q...    0.941557   1.083126   \n",
       "G10BodybuildingWorkout_ERP_7680x3840_fps29.97_q...    0.916841   0.990191   \n",
       "\n",
       "                                                         Blur    Contrast  \\\n",
       "G10BoatInPark_ERP_4096x2048_fps30_qp27_14547k.mp4    6.318822   56.274408   \n",
       "G10BoatInPark_ERP_4096x2048_fps30_qp37_3270k.mp4     6.802874   56.220687   \n",
       "G10BoatInPark_ERP_4096x2048_fps30_qp42_1507k.mp4     7.194109   56.157094   \n",
       "G10BodybuildingWorkout_ERP_7680x3840_fps29.97_q...  10.663758  107.170623   \n",
       "G10BodybuildingWorkout_ERP_7680x3840_fps29.97_q...  10.873596  107.176925   \n",
       "\n",
       "                                                    Exposure(bri)  Flickering  \\\n",
       "G10BoatInPark_ERP_4096x2048_fps30_qp27_14547k.mp4      122.973648    0.973981   \n",
       "G10BoatInPark_ERP_4096x2048_fps30_qp37_3270k.mp4       122.235861    0.974016   \n",
       "G10BoatInPark_ERP_4096x2048_fps30_qp42_1507k.mp4       121.932088    0.973082   \n",
       "G10BodybuildingWorkout_ERP_7680x3840_fps29.97_q...     125.000000    0.975835   \n",
       "G10BodybuildingWorkout_ERP_7680x3840_fps29.97_q...     124.268885    0.970290   \n",
       "\n",
       "                                                    Interlace     Noise  \\\n",
       "G10BoatInPark_ERP_4096x2048_fps30_qp27_14547k.mp4    0.004543  0.385048   \n",
       "G10BoatInPark_ERP_4096x2048_fps30_qp37_3270k.mp4     0.001439  0.250219   \n",
       "G10BoatInPark_ERP_4096x2048_fps30_qp42_1507k.mp4     0.001407  0.243489   \n",
       "G10BodybuildingWorkout_ERP_7680x3840_fps29.97_q...   0.000408  0.691092   \n",
       "G10BodybuildingWorkout_ERP_7680x3840_fps29.97_q...   0.001945  0.350776   \n",
       "\n",
       "                                                           SA         TA  \n",
       "G10BoatInPark_ERP_4096x2048_fps30_qp27_14547k.mp4   48.017774  12.572215  \n",
       "G10BoatInPark_ERP_4096x2048_fps30_qp37_3270k.mp4    45.613703  12.228131  \n",
       "G10BoatInPark_ERP_4096x2048_fps30_qp42_1507k.mp4    42.835611  11.782598  \n",
       "G10BodybuildingWorkout_ERP_7680x3840_fps29.97_q...  55.521111   3.173898  \n",
       "G10BodybuildingWorkout_ERP_7680x3840_fps29.97_q...  55.119636   3.099582  "
      ]
     },
     "execution_count": 8,
     "metadata": {},
     "output_type": "execute_result"
    }
   ],
   "source": [
    "features.head()"
   ]
  },
  {
   "cell_type": "code",
   "execution_count": null,
   "metadata": {},
   "outputs": [],
   "source": []
  },
  {
   "cell_type": "code",
   "execution_count": null,
   "metadata": {},
   "outputs": [],
   "source": []
  },
  {
   "cell_type": "code",
   "execution_count": 9,
   "metadata": {},
   "outputs": [],
   "source": [
    "group_label = np.arange(len(features.index) / 3)\n",
    "group_label = np.matlib.repmat(group_label,3,1)\n",
    "group_label = group_label.reshape(-1,1, order='F')"
   ]
  },
  {
   "cell_type": "code",
   "execution_count": 10,
   "metadata": {},
   "outputs": [],
   "source": [
    "def rmse(y_true, y_pred):\n",
    "    rmse = np.sqrt(metrics.mean_squared_error(y_true, y_pred))\n",
    "    return rmse\n",
    "\n",
    "def lcc(y_true, y_pred):\n",
    "    lcc, _ = stats.pearsonr(y_true, y_pred)\n",
    "    return lcc\n",
    "\n",
    "def srocc(y_true, y_pred):\n",
    "    srocc, _ = stats.spearmanr(y_true, y_pred)\n",
    "    return srocc"
   ]
  },
  {
   "cell_type": "code",
   "execution_count": 11,
   "metadata": {},
   "outputs": [
    {
     "data": {
      "text/plain": [
       "{'rmse': make_scorer(rmse, greater_is_better=False),\n",
       " 'lcc': make_scorer(lcc),\n",
       " 'srocc': make_scorer(srocc)}"
      ]
     },
     "execution_count": 11,
     "metadata": {},
     "output_type": "execute_result"
    }
   ],
   "source": [
    "scorer = {}\n",
    "scorer['rmse'] = metrics.make_scorer(rmse, greater_is_better=False)\n",
    "scorer['lcc'] = metrics.make_scorer(lcc, greater_is_better=True)\n",
    "scorer['srocc'] = metrics.make_scorer(srocc, greater_is_better=True)\n",
    "scorer"
   ]
  },
  {
   "cell_type": "code",
   "execution_count": 12,
   "metadata": {},
   "outputs": [],
   "source": [
    "model_svr = svm.SVR(max_iter=3000)"
   ]
  },
  {
   "cell_type": "code",
   "execution_count": 28,
   "metadata": {},
   "outputs": [],
   "source": [
    "#grid search for the best parameters for SVR\n",
    "ParameterGrid={}\n",
    "ParameterGrid['C']=[27] \n",
    "ParameterGrid['gamma']= [0.01, 0, 'auto', 'scale']\n",
    "ParameterGrid['verbose'] = [0, 1]\n",
    "ParameterGrid['degree'] = [2, 3]\n",
    "ParameterGrid['kernel'] = ['rbf', 'poly']\n",
    "ParameterGrid['tol'] = [0.1, 0.01, 0.001]\n",
    "ParameterGrid['epsilon'] = np.arange(0.05,0.15,0.01)"
   ]
  },
  {
   "cell_type": "code",
   "execution_count": 29,
   "metadata": {},
   "outputs": [
    {
     "data": {
      "text/plain": [
       "{'C': [27],\n",
       " 'gamma': [0.01, 0, 'auto', 'scale'],\n",
       " 'verbose': [0, 1],\n",
       " 'degree': [2, 3],\n",
       " 'kernel': ['rbf', 'poly'],\n",
       " 'tol': [0.1, 0.01, 0.001],\n",
       " 'epsilon': array([0.05, 0.06, 0.07, 0.08, 0.09, 0.1 , 0.11, 0.12, 0.13, 0.14])}"
      ]
     },
     "execution_count": 29,
     "metadata": {},
     "output_type": "execute_result"
    }
   ],
   "source": [
    "ParameterGrid"
   ]
  },
  {
   "cell_type": "code",
   "execution_count": 30,
   "metadata": {},
   "outputs": [],
   "source": [
    "grid_search_svr= GridSearchCV(estimator = model_svr, param_grid = ParameterGrid, \n",
    "                          cv = CV_Generator(features, dataset_socres, group_label), n_jobs = -1, verbose = 1, return_train_score=True, \n",
    "                                      error_score = np.nan,scoring = scorer, refit = 'rmse', iid=False)"
   ]
  },
  {
   "cell_type": "code",
   "execution_count": 31,
   "metadata": {},
   "outputs": [
    {
     "name": "stdout",
     "output_type": "stream",
     "text": [
      "Fitting 8 folds for each of 960 candidates, totalling 7680 fits\n"
     ]
    },
    {
     "name": "stderr",
     "output_type": "stream",
     "text": [
      "[Parallel(n_jobs=-1)]: Using backend LokyBackend with 12 concurrent workers.\n",
      "[Parallel(n_jobs=-1)]: Done  44 tasks      | elapsed:    0.2s\n",
      "[Parallel(n_jobs=-1)]: Done 3080 tasks      | elapsed:    4.9s\n",
      "[Parallel(n_jobs=-1)]: Done 7680 out of 7680 | elapsed:   13.7s finished\n"
     ]
    },
    {
     "data": {
      "text/plain": [
       "GridSearchCV(cv=<generator object CV_Generator at 0x1a0d656990>,\n",
       "       error_score=nan,\n",
       "       estimator=SVR(C=1.0, cache_size=200, coef0=0.0, degree=3, epsilon=0.1,\n",
       "  gamma='auto_deprecated', kernel='rbf', max_iter=3000, shrinking=True,\n",
       "  tol=0.001, verbose=False),\n",
       "       fit_params=None, iid=False, n_jobs=-1,\n",
       "       param_grid={'C': [27], 'gamma': [0.01, 0, 'auto', 'scale'], 'verbose': [0, 1], 'degree': [2, 3], 'kernel': ['rbf', 'poly'], 'tol': [0.1, 0.01, 0.001], 'epsilon': array([0.05, 0.06, 0.07, 0.08, 0.09, 0.1 , 0.11, 0.12, 0.13, 0.14])},\n",
       "       pre_dispatch='2*n_jobs', refit='rmse', return_train_score=True,\n",
       "       scoring={'rmse': make_scorer(rmse, greater_is_better=False), 'lcc': make_scorer(lcc), 'srocc': make_scorer(srocc)},\n",
       "       verbose=1)"
      ]
     },
     "execution_count": 31,
     "metadata": {},
     "output_type": "execute_result"
    }
   ],
   "source": [
    "grid_search_svr.fit(features, dataset_socres)"
   ]
  },
  {
   "cell_type": "code",
   "execution_count": 32,
   "metadata": {},
   "outputs": [
    {
     "data": {
      "text/plain": [
       "{'C': 27,\n",
       " 'degree': 2,\n",
       " 'epsilon': 0.08000000000000002,\n",
       " 'gamma': 'scale',\n",
       " 'kernel': 'rbf',\n",
       " 'tol': 0.1,\n",
       " 'verbose': 0}"
      ]
     },
     "execution_count": 32,
     "metadata": {},
     "output_type": "execute_result"
    }
   ],
   "source": [
    "grid_search_svr.best_params_"
   ]
  },
  {
   "cell_type": "code",
   "execution_count": 33,
   "metadata": {},
   "outputs": [
    {
     "name": "stdout",
     "output_type": "stream",
     "text": [
      "RMSE: 3.679305983102991 8.447124634637527\n",
      "LCC: 0.9557976219408639 0.7014188937172912\n",
      "SROCC: 0.9665439445181727 0.7114543114543116\n",
      "\n",
      "\n",
      "RMSE: 3.865605663882623 10.360236665696121\n",
      "LCC: 0.9425969213777985 0.7622921107780034\n",
      "SROCC: 0.9554090500449505 0.7830115830115831\n",
      "\n",
      "\n",
      "RMSE: 3.8669991529318186 7.3125797693877175\n",
      "LCC: 0.9527338343657263 0.6827283745966812\n",
      "SROCC: 0.9580889592876406 0.6501930501930502\n",
      "\n",
      "\n",
      "RMSE: 3.6078090738936512 9.638508168914402\n",
      "LCC: 0.9585994139979798 0.5600113880330159\n",
      "SROCC: 0.9647116743011258 0.5935649935649936\n",
      "\n",
      "\n",
      "RMSE: 3.0953422606034646 8.090850882375712\n",
      "LCC: 0.9693102514237563 0.6894950271167003\n",
      "SROCC: 0.9686202320304805 0.7307593307593309\n",
      "\n",
      "\n",
      "Model saved\n",
      "RMSE: 3.769362328014192 5.923657798219429\n",
      "LCC: 0.9548769409670231 0.8363670355518922\n",
      "SROCC: 0.9641893916691638 0.8870012870012871\n",
      "\n",
      "\n",
      "RMSE: 3.999601846833558 7.791944246368636\n",
      "LCC: 0.9439344920820284 0.8089203223191738\n",
      "SROCC: 0.952420908429299 0.8383526383526384\n",
      "\n",
      "\n",
      "RMSE: 3.959852497807788 7.541371274194503\n",
      "LCC: 0.9503383459168006 0.7549475165795614\n",
      "SROCC: 0.9589194742925639 0.8247104247104249\n",
      "\n",
      "\n",
      "RMSE: 3.932852876695514 6.62019265846984\n",
      "LCC: 0.9503818732349135 0.7949866803703693\n",
      "SROCC: 0.9569074018579562 0.7732303732303732\n",
      "\n",
      "\n",
      "RMSE: 3.737390329123996 8.135785754459189\n",
      "LCC: 0.955630958286324 0.7639663303274828\n",
      "SROCC: 0.9614495483539535 0.7392535392535393\n",
      "\n",
      "\n",
      "RMSE: 3.797613072559297 7.246421406986004\n",
      "LCC: 0.9541837850604038 0.7611963675002015\n",
      "SROCC: 0.9529474720664411 0.8120978120978121\n",
      "\n",
      "\n",
      "RMSE: 3.7861631714834867 8.200163600201853\n",
      "LCC: 0.9517945447561178 0.6771284078467578\n",
      "SROCC: 0.9549424204803286 0.7608751608751609\n",
      "\n",
      "\n",
      "RMSE: 3.846235612863986 7.264478181164055\n",
      "LCC: 0.9518491657708115 0.7708102505079549\n",
      "SROCC: 0.9602851149449889 0.792020592020592\n",
      "\n",
      "\n",
      "RMSE: 3.77964281928201 7.792169989994579\n",
      "LCC: 0.9535651112217586 0.7812710654405383\n",
      "SROCC: 0.9560554818271328 0.8090090090090091\n",
      "\n",
      "\n",
      "RMSE: 3.6935051199163267 7.730119275084658\n",
      "LCC: 0.9581627931836856 0.6796216466004456\n",
      "SROCC: 0.9609358277323514 0.6731016731016731\n",
      "\n",
      "\n",
      "RMSE: 4.0592512833383925 7.117077732629524\n",
      "LCC: 0.9462424479494765 0.8244729751374478\n",
      "SROCC: 0.9559612997131726 0.8283140283140284\n",
      "\n",
      "\n"
     ]
    }
   ],
   "source": [
    "idx = 0\n",
    "for train_idx, test_idx in CV_Generator(features, dataset_socres, group_label, 16, test_ratio=0.2):\n",
    "    train_features = features.iloc[train_idx]\n",
    "    train_labels = dataset_socres.iloc[train_idx]\n",
    "    test_features = features.iloc[test_idx]\n",
    "    test_labels = dataset_socres.iloc[test_idx]\n",
    "    best_model = grid_search_svr.best_estimator_.fit(train_features, train_labels)\n",
    "    train_pred = best_model.predict(train_features)\n",
    "    test_pred = best_model.predict(test_features)\n",
    "    if idx == 5:\n",
    "        final_model = best_model\n",
    "        print('Model saved')\n",
    "    print('RMSE:', rmse(train_labels, train_pred), rmse(test_labels, test_pred))\n",
    "    print('LCC:', lcc(train_labels, train_pred), lcc(test_labels, test_pred))\n",
    "    print('SROCC:', srocc(train_labels, train_pred), srocc(test_labels, test_pred))\n",
    "    #print('Accuracy:', accuracy(train_labels, train_pred), accuracy(test_labels, test_pred))\n",
    "    print('\\n')\n",
    "    idx += 1"
   ]
  },
  {
   "cell_type": "code",
   "execution_count": 64,
   "metadata": {},
   "outputs": [
    {
     "data": {
      "text/plain": [
       "(177, 16)"
      ]
     },
     "execution_count": 64,
     "metadata": {},
     "output_type": "execute_result"
    }
   ],
   "source": []
  },
  {
   "cell_type": "code",
   "execution_count": null,
   "metadata": {},
   "outputs": [],
   "source": []
  },
  {
   "cell_type": "code",
   "execution_count": null,
   "metadata": {},
   "outputs": [],
   "source": []
  },
  {
   "cell_type": "code",
   "execution_count": null,
   "metadata": {},
   "outputs": [],
   "source": []
  },
  {
   "cell_type": "code",
   "execution_count": null,
   "metadata": {},
   "outputs": [],
   "source": []
  },
  {
   "cell_type": "code",
   "execution_count": null,
   "metadata": {},
   "outputs": [],
   "source": []
  },
  {
   "cell_type": "code",
   "execution_count": null,
   "metadata": {},
   "outputs": [],
   "source": []
  },
  {
   "cell_type": "code",
   "execution_count": null,
   "metadata": {},
   "outputs": [],
   "source": []
  },
  {
   "cell_type": "code",
   "execution_count": null,
   "metadata": {},
   "outputs": [],
   "source": []
  },
  {
   "cell_type": "code",
   "execution_count": null,
   "metadata": {},
   "outputs": [],
   "source": []
  },
  {
   "cell_type": "code",
   "execution_count": null,
   "metadata": {},
   "outputs": [],
   "source": []
  },
  {
   "cell_type": "code",
   "execution_count": null,
   "metadata": {},
   "outputs": [],
   "source": []
  },
  {
   "cell_type": "code",
   "execution_count": null,
   "metadata": {},
   "outputs": [],
   "source": []
  }
 ],
 "metadata": {
  "kernelspec": {
   "display_name": "Python 3",
   "language": "python",
   "name": "python3"
  },
  "language_info": {
   "codemirror_mode": {
    "name": "ipython",
    "version": 3
   },
   "file_extension": ".py",
   "mimetype": "text/x-python",
   "name": "python",
   "nbconvert_exporter": "python",
   "pygments_lexer": "ipython3",
   "version": "3.6.6"
  }
 },
 "nbformat": 4,
 "nbformat_minor": 2
}
