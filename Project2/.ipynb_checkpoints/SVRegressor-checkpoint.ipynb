{
 "cells": [
  {
   "cell_type": "code",
   "execution_count": 31,
   "metadata": {},
   "outputs": [],
   "source": [
    "import pandas as pd\n",
    "import numpy as np\n",
    "import sklearn\n",
    "import matplotlib as mpl\n",
    "import matplotlib.pyplot as plt\n",
    "from sklearn.decomposition import PCA\n",
    "import sklearn.metrics as metrics\n",
    "from sklearn.model_selection import GroupShuffleSplit"
   ]
  },
  {
   "cell_type": "code",
   "execution_count": 46,
   "metadata": {},
   "outputs": [],
   "source": [
    "from sklearn import svm\n",
    "from sklearn import multiclass \n",
    "from scipy import stats"
   ]
  },
  {
   "cell_type": "code",
   "execution_count": 33,
   "metadata": {},
   "outputs": [],
   "source": [
    "from sklearn import preprocessing\n",
    "from sklearn import utils"
   ]
  },
  {
   "cell_type": "code",
   "execution_count": 34,
   "metadata": {},
   "outputs": [],
   "source": [
    "from sklearn.model_selection import train_test_split\n",
    "from sklearn import datasets\n",
    "from sklearn.model_selection import cross_val_score\n",
    "from sklearn.model_selection import GridSearchCV"
   ]
  },
  {
   "cell_type": "code",
   "execution_count": 35,
   "metadata": {},
   "outputs": [],
   "source": [
    "dataset_socres = pd.read_pickle('labels.pkl')\n",
    "features = pd.read_pickle('features.pkl')\n",
    "nr_old=pd.read_pickle('nr_metrics.pkl')"
   ]
  },
  {
   "cell_type": "code",
   "execution_count": 36,
   "metadata": {},
   "outputs": [],
   "source": [
    "def CV_Generator(features, labels, group_label, n=8, test_ratio=0.2):\n",
    "    CV_Group = GroupShuffleSplit(n_splits=n, test_size=test_ratio, random_state=8)\n",
    "    for train, test in CV_Group.split(features, labels, groups=group_label):\n",
    "        yield train, test"
   ]
  },
  {
   "cell_type": "code",
   "execution_count": 61,
   "metadata": {},
   "outputs": [],
   "source": [
    "def accuracy(y_true, y_pred):\n",
    "    ratio = abs(y_true - y_pred) / y_true\n",
    "    return 1 - np.mean(ratio)"
   ]
  },
  {
   "cell_type": "code",
   "execution_count": 37,
   "metadata": {},
   "outputs": [
    {
     "data": {
      "text/html": [
       "<div>\n",
       "<style scoped>\n",
       "    .dataframe tbody tr th:only-of-type {\n",
       "        vertical-align: middle;\n",
       "    }\n",
       "\n",
       "    .dataframe tbody tr th {\n",
       "        vertical-align: top;\n",
       "    }\n",
       "\n",
       "    .dataframe thead th {\n",
       "        text-align: right;\n",
       "    }\n",
       "</style>\n",
       "<table border=\"1\" class=\"dataframe\">\n",
       "  <thead>\n",
       "    <tr style=\"text-align: right;\">\n",
       "      <th></th>\n",
       "      <th>msssim</th>\n",
       "      <th>psnr</th>\n",
       "      <th>psnrhvs</th>\n",
       "      <th>psnrhvsm</th>\n",
       "      <th>ssim</th>\n",
       "      <th>vifp</th>\n",
       "      <th>Blockiness</th>\n",
       "      <th>Blockloss</th>\n",
       "      <th>Blur</th>\n",
       "      <th>Contrast</th>\n",
       "      <th>Exposure(bri)</th>\n",
       "      <th>Flickering</th>\n",
       "      <th>Interlace</th>\n",
       "      <th>Noise</th>\n",
       "      <th>SA</th>\n",
       "      <th>TA</th>\n",
       "    </tr>\n",
       "  </thead>\n",
       "  <tbody>\n",
       "    <tr>\n",
       "      <th>G10BoatInPark_ERP_4096x2048_fps30_qp27_14547k.mp4</th>\n",
       "      <td>0.993424</td>\n",
       "      <td>41.829451</td>\n",
       "      <td>39.401728</td>\n",
       "      <td>43.855814</td>\n",
       "      <td>0.989905</td>\n",
       "      <td>0.818723</td>\n",
       "      <td>0.918001</td>\n",
       "      <td>4.662472</td>\n",
       "      <td>6.318822</td>\n",
       "      <td>56.274408</td>\n",
       "      <td>122.973648</td>\n",
       "      <td>0.973981</td>\n",
       "      <td>0.004543</td>\n",
       "      <td>0.385048</td>\n",
       "      <td>48.017774</td>\n",
       "      <td>12.572215</td>\n",
       "    </tr>\n",
       "    <tr>\n",
       "      <th>G10BoatInPark_ERP_4096x2048_fps30_qp37_3270k.mp4</th>\n",
       "      <td>0.978172</td>\n",
       "      <td>37.045777</td>\n",
       "      <td>34.074029</td>\n",
       "      <td>36.540714</td>\n",
       "      <td>0.975696</td>\n",
       "      <td>0.721947</td>\n",
       "      <td>0.923023</td>\n",
       "      <td>5.707591</td>\n",
       "      <td>6.802874</td>\n",
       "      <td>56.220687</td>\n",
       "      <td>122.235861</td>\n",
       "      <td>0.974016</td>\n",
       "      <td>0.001439</td>\n",
       "      <td>0.250219</td>\n",
       "      <td>45.613703</td>\n",
       "      <td>12.228131</td>\n",
       "    </tr>\n",
       "    <tr>\n",
       "      <th>G10BoatInPark_ERP_4096x2048_fps30_qp42_1507k.mp4</th>\n",
       "      <td>0.959965</td>\n",
       "      <td>34.534499</td>\n",
       "      <td>31.430402</td>\n",
       "      <td>33.216521</td>\n",
       "      <td>0.962685</td>\n",
       "      <td>0.672978</td>\n",
       "      <td>0.923070</td>\n",
       "      <td>6.641128</td>\n",
       "      <td>7.194109</td>\n",
       "      <td>56.157094</td>\n",
       "      <td>121.932088</td>\n",
       "      <td>0.973082</td>\n",
       "      <td>0.001407</td>\n",
       "      <td>0.243489</td>\n",
       "      <td>42.835611</td>\n",
       "      <td>11.782598</td>\n",
       "    </tr>\n",
       "    <tr>\n",
       "      <th>G10BodybuildingWorkout_ERP_7680x3840_fps29.97_qp27_6105k.mp4</th>\n",
       "      <td>0.997337</td>\n",
       "      <td>46.713699</td>\n",
       "      <td>44.069635</td>\n",
       "      <td>48.525252</td>\n",
       "      <td>0.997130</td>\n",
       "      <td>0.915188</td>\n",
       "      <td>0.941557</td>\n",
       "      <td>1.083126</td>\n",
       "      <td>10.663758</td>\n",
       "      <td>107.170623</td>\n",
       "      <td>125.000000</td>\n",
       "      <td>0.975835</td>\n",
       "      <td>0.000408</td>\n",
       "      <td>0.691092</td>\n",
       "      <td>55.521111</td>\n",
       "      <td>3.173898</td>\n",
       "    </tr>\n",
       "    <tr>\n",
       "      <th>G10BodybuildingWorkout_ERP_7680x3840_fps29.97_qp37_913k.mp4</th>\n",
       "      <td>0.993475</td>\n",
       "      <td>42.391911</td>\n",
       "      <td>39.490941</td>\n",
       "      <td>42.097111</td>\n",
       "      <td>0.994158</td>\n",
       "      <td>0.873338</td>\n",
       "      <td>0.916841</td>\n",
       "      <td>0.990191</td>\n",
       "      <td>10.873596</td>\n",
       "      <td>107.176925</td>\n",
       "      <td>124.268885</td>\n",
       "      <td>0.970290</td>\n",
       "      <td>0.001945</td>\n",
       "      <td>0.350776</td>\n",
       "      <td>55.119636</td>\n",
       "      <td>3.099582</td>\n",
       "    </tr>\n",
       "  </tbody>\n",
       "</table>\n",
       "</div>"
      ],
      "text/plain": [
       "                                                      msssim       psnr  \\\n",
       "G10BoatInPark_ERP_4096x2048_fps30_qp27_14547k.mp4   0.993424  41.829451   \n",
       "G10BoatInPark_ERP_4096x2048_fps30_qp37_3270k.mp4    0.978172  37.045777   \n",
       "G10BoatInPark_ERP_4096x2048_fps30_qp42_1507k.mp4    0.959965  34.534499   \n",
       "G10BodybuildingWorkout_ERP_7680x3840_fps29.97_q...  0.997337  46.713699   \n",
       "G10BodybuildingWorkout_ERP_7680x3840_fps29.97_q...  0.993475  42.391911   \n",
       "\n",
       "                                                      psnrhvs   psnrhvsm  \\\n",
       "G10BoatInPark_ERP_4096x2048_fps30_qp27_14547k.mp4   39.401728  43.855814   \n",
       "G10BoatInPark_ERP_4096x2048_fps30_qp37_3270k.mp4    34.074029  36.540714   \n",
       "G10BoatInPark_ERP_4096x2048_fps30_qp42_1507k.mp4    31.430402  33.216521   \n",
       "G10BodybuildingWorkout_ERP_7680x3840_fps29.97_q...  44.069635  48.525252   \n",
       "G10BodybuildingWorkout_ERP_7680x3840_fps29.97_q...  39.490941  42.097111   \n",
       "\n",
       "                                                        ssim      vifp  \\\n",
       "G10BoatInPark_ERP_4096x2048_fps30_qp27_14547k.mp4   0.989905  0.818723   \n",
       "G10BoatInPark_ERP_4096x2048_fps30_qp37_3270k.mp4    0.975696  0.721947   \n",
       "G10BoatInPark_ERP_4096x2048_fps30_qp42_1507k.mp4    0.962685  0.672978   \n",
       "G10BodybuildingWorkout_ERP_7680x3840_fps29.97_q...  0.997130  0.915188   \n",
       "G10BodybuildingWorkout_ERP_7680x3840_fps29.97_q...  0.994158  0.873338   \n",
       "\n",
       "                                                    Blockiness  Blockloss  \\\n",
       "G10BoatInPark_ERP_4096x2048_fps30_qp27_14547k.mp4     0.918001   4.662472   \n",
       "G10BoatInPark_ERP_4096x2048_fps30_qp37_3270k.mp4      0.923023   5.707591   \n",
       "G10BoatInPark_ERP_4096x2048_fps30_qp42_1507k.mp4      0.923070   6.641128   \n",
       "G10BodybuildingWorkout_ERP_7680x3840_fps29.97_q...    0.941557   1.083126   \n",
       "G10BodybuildingWorkout_ERP_7680x3840_fps29.97_q...    0.916841   0.990191   \n",
       "\n",
       "                                                         Blur    Contrast  \\\n",
       "G10BoatInPark_ERP_4096x2048_fps30_qp27_14547k.mp4    6.318822   56.274408   \n",
       "G10BoatInPark_ERP_4096x2048_fps30_qp37_3270k.mp4     6.802874   56.220687   \n",
       "G10BoatInPark_ERP_4096x2048_fps30_qp42_1507k.mp4     7.194109   56.157094   \n",
       "G10BodybuildingWorkout_ERP_7680x3840_fps29.97_q...  10.663758  107.170623   \n",
       "G10BodybuildingWorkout_ERP_7680x3840_fps29.97_q...  10.873596  107.176925   \n",
       "\n",
       "                                                    Exposure(bri)  Flickering  \\\n",
       "G10BoatInPark_ERP_4096x2048_fps30_qp27_14547k.mp4      122.973648    0.973981   \n",
       "G10BoatInPark_ERP_4096x2048_fps30_qp37_3270k.mp4       122.235861    0.974016   \n",
       "G10BoatInPark_ERP_4096x2048_fps30_qp42_1507k.mp4       121.932088    0.973082   \n",
       "G10BodybuildingWorkout_ERP_7680x3840_fps29.97_q...     125.000000    0.975835   \n",
       "G10BodybuildingWorkout_ERP_7680x3840_fps29.97_q...     124.268885    0.970290   \n",
       "\n",
       "                                                    Interlace     Noise  \\\n",
       "G10BoatInPark_ERP_4096x2048_fps30_qp27_14547k.mp4    0.004543  0.385048   \n",
       "G10BoatInPark_ERP_4096x2048_fps30_qp37_3270k.mp4     0.001439  0.250219   \n",
       "G10BoatInPark_ERP_4096x2048_fps30_qp42_1507k.mp4     0.001407  0.243489   \n",
       "G10BodybuildingWorkout_ERP_7680x3840_fps29.97_q...   0.000408  0.691092   \n",
       "G10BodybuildingWorkout_ERP_7680x3840_fps29.97_q...   0.001945  0.350776   \n",
       "\n",
       "                                                           SA         TA  \n",
       "G10BoatInPark_ERP_4096x2048_fps30_qp27_14547k.mp4   48.017774  12.572215  \n",
       "G10BoatInPark_ERP_4096x2048_fps30_qp37_3270k.mp4    45.613703  12.228131  \n",
       "G10BoatInPark_ERP_4096x2048_fps30_qp42_1507k.mp4    42.835611  11.782598  \n",
       "G10BodybuildingWorkout_ERP_7680x3840_fps29.97_q...  55.521111   3.173898  \n",
       "G10BodybuildingWorkout_ERP_7680x3840_fps29.97_q...  55.119636   3.099582  "
      ]
     },
     "execution_count": 37,
     "metadata": {},
     "output_type": "execute_result"
    }
   ],
   "source": [
    "features.head()"
   ]
  },
  {
   "cell_type": "code",
   "execution_count": null,
   "metadata": {},
   "outputs": [],
   "source": []
  },
  {
   "cell_type": "code",
   "execution_count": null,
   "metadata": {},
   "outputs": [],
   "source": []
  },
  {
   "cell_type": "code",
   "execution_count": 38,
   "metadata": {},
   "outputs": [],
   "source": [
    "group_label = np.arange(len(features.index) / 3)\n",
    "group_label = np.matlib.repmat(group_label,3,1)\n",
    "group_label = group_label.reshape(-1,1, order='F')"
   ]
  },
  {
   "cell_type": "code",
   "execution_count": 39,
   "metadata": {},
   "outputs": [],
   "source": [
    "def rmse(y_true, y_pred):\n",
    "    rmse = np.sqrt(metrics.mean_squared_error(y_true, y_pred))\n",
    "    return rmse\n",
    "\n",
    "def lcc(y_true, y_pred):\n",
    "    lcc, _ = stats.pearsonr(y_true, y_pred)\n",
    "    return lcc\n",
    "\n",
    "def srocc(y_true, y_pred):\n",
    "    srocc, _ = stats.spearmanr(y_true, y_pred)\n",
    "    return srocc"
   ]
  },
  {
   "cell_type": "code",
   "execution_count": 40,
   "metadata": {},
   "outputs": [
    {
     "data": {
      "text/plain": [
       "{'rmse': make_scorer(rmse, greater_is_better=False),\n",
       " 'lcc': make_scorer(lcc),\n",
       " 'srocc': make_scorer(srocc)}"
      ]
     },
     "execution_count": 40,
     "metadata": {},
     "output_type": "execute_result"
    }
   ],
   "source": [
    "scorer = {}\n",
    "scorer['rmse'] = metrics.make_scorer(rmse, greater_is_better=False)\n",
    "scorer['lcc'] = metrics.make_scorer(lcc, greater_is_better=True)\n",
    "scorer['srocc'] = metrics.make_scorer(srocc, greater_is_better=True)\n",
    "scorer"
   ]
  },
  {
   "cell_type": "code",
   "execution_count": 41,
   "metadata": {},
   "outputs": [],
   "source": [
    "model_svr = svm.SVR(max_iter=3000)"
   ]
  },
  {
   "cell_type": "code",
   "execution_count": 81,
   "metadata": {},
   "outputs": [],
   "source": [
    "#grid search for the best parameters for SVR\n",
    "ParameterGrid={}\n",
    "ParameterGrid['C']=[27] \n",
    "ParameterGrid['gamma']= [0.01, 0, 'auto', 'scale']\n",
    "ParameterGrid['verbose'] = [0, 1]\n",
    "ParameterGrid['degree'] = [2, 3]\n",
    "ParameterGrid['kernel'] = ['rbf', 'poly']\n",
    "ParameterGrid['tol'] = [0.1, 0.01, 0.001]"
   ]
  },
  {
   "cell_type": "code",
   "execution_count": 82,
   "metadata": {},
   "outputs": [],
   "source": [
    "grid_search_svr= GridSearchCV(estimator = model_svr, param_grid = ParameterGrid, \n",
    "                          cv = CV_Generator(features, dataset_socres, group_label), n_jobs = -1, verbose = 1, return_train_score=True, \n",
    "                                      error_score = np.nan,scoring = scorer, refit = 'rmse', iid=False)"
   ]
  },
  {
   "cell_type": "code",
   "execution_count": 83,
   "metadata": {},
   "outputs": [
    {
     "name": "stdout",
     "output_type": "stream",
     "text": [
      "Fitting 8 folds for each of 96 candidates, totalling 768 fits\n"
     ]
    },
    {
     "name": "stderr",
     "output_type": "stream",
     "text": [
      "[Parallel(n_jobs=-1)]: Using backend LokyBackend with 12 concurrent workers.\n",
      "[Parallel(n_jobs=-1)]: Done  48 tasks      | elapsed:    0.3s\n",
      "[Parallel(n_jobs=-1)]: Done 768 out of 768 | elapsed:    1.3s finished\n"
     ]
    },
    {
     "data": {
      "text/plain": [
       "GridSearchCV(cv=<generator object CV_Generator at 0x1a0ce0e308>,\n",
       "       error_score=nan,\n",
       "       estimator=SVR(C=1.0, cache_size=200, coef0=0.0, degree=3, epsilon=0.1,\n",
       "  gamma='auto_deprecated', kernel='rbf', max_iter=3000, shrinking=True,\n",
       "  tol=0.001, verbose=False),\n",
       "       fit_params=None, iid=False, n_jobs=-1,\n",
       "       param_grid={'C': [27], 'gamma': [0.01, 0, 'auto', 'scale'], 'verbose': [0, 1], 'degree': [2, 3], 'kernel': ['rbf', 'poly'], 'tol': [0.1, 0.01, 0.001]},\n",
       "       pre_dispatch='2*n_jobs', refit='rmse', return_train_score=True,\n",
       "       scoring={'rmse': make_scorer(rmse, greater_is_better=False), 'lcc': make_scorer(lcc), 'srocc': make_scorer(srocc)},\n",
       "       verbose=1)"
      ]
     },
     "execution_count": 83,
     "metadata": {},
     "output_type": "execute_result"
    }
   ],
   "source": [
    "grid_search_svr.fit(features, dataset_socres)"
   ]
  },
  {
   "cell_type": "code",
   "execution_count": 84,
   "metadata": {},
   "outputs": [
    {
     "data": {
      "text/plain": [
       "{'C': 27,\n",
       " 'degree': 2,\n",
       " 'gamma': 'scale',\n",
       " 'kernel': 'rbf',\n",
       " 'tol': 0.01,\n",
       " 'verbose': 0}"
      ]
     },
     "execution_count": 84,
     "metadata": {},
     "output_type": "execute_result"
    }
   ],
   "source": [
    "grid_search_svr.best_params_"
   ]
  },
  {
   "cell_type": "code",
   "execution_count": 85,
   "metadata": {},
   "outputs": [
    {
     "name": "stdout",
     "output_type": "stream",
     "text": [
      "RMSE: 3.6764030482080408 8.452125416951658\n",
      "LCC: 0.9558798593713201 0.7009726928323456\n",
      "SROCC: 0.9666894986942933 0.7111969111969112\n",
      "\n",
      "\n",
      "RMSE: 3.859803069944364 10.357298388865042\n",
      "LCC: 0.9427640048579708 0.7620758174375366\n",
      "SROCC: 0.9553191489361702 0.7848133848133849\n",
      "\n",
      "\n",
      "RMSE: 3.863953556146061 7.316810128544472\n",
      "LCC: 0.9528513010449268 0.6821535641638705\n",
      "SROCC: 0.9583715056295219 0.6501930501930502\n",
      "\n",
      "\n",
      "RMSE: 3.609176860364414 9.643204046975637\n",
      "LCC: 0.9585977110515748 0.5595056288617928\n",
      "SROCC: 0.964763046363286 0.5935649935649936\n",
      "\n",
      "\n",
      "RMSE: 3.094085229737944 8.093377419573724\n",
      "LCC: 0.9693810709385112 0.689307777695586\n",
      "SROCC: 0.9687015711289011 0.7317889317889319\n",
      "\n",
      "\n",
      "Model saved\n",
      "RMSE: 3.766662652593603 5.932914242022221\n",
      "LCC: 0.9550228671780459 0.8360403339111226\n",
      "SROCC: 0.9638640352754826 0.8870012870012871\n",
      "\n",
      "\n",
      "RMSE: 3.9952769220025712 7.7913933321472895\n",
      "LCC: 0.9441189440160276 0.8087969190896183\n",
      "SROCC: 0.952943191061261 0.8383526383526384\n",
      "\n",
      "\n",
      "RMSE: 3.9561406981788347 7.538167551843059\n",
      "LCC: 0.9504845499922466 0.7551289158995145\n",
      "SROCC: 0.9588809452459436 0.8239382239382239\n",
      "\n",
      "\n",
      "RMSE: 3.929765176283079 6.628766930413547\n",
      "LCC: 0.9505119916987169 0.7945090367110265\n",
      "SROCC: 0.9567275996403954 0.76988416988417\n",
      "\n",
      "\n",
      "RMSE: 3.732690709144641 8.126891640406699\n",
      "LCC: 0.9558256377859558 0.7646810396604401\n",
      "SROCC: 0.9617278136906544 0.7413127413127413\n",
      "\n",
      "\n",
      "RMSE: 3.795630466222885 7.23339694913285\n",
      "LCC: 0.9543281295069501 0.7612317909609503\n",
      "SROCC: 0.9530074061389614 0.8133848133848134\n",
      "\n",
      "\n",
      "RMSE: 3.7802057219577776 8.19755486972063\n",
      "LCC: 0.9519852924036676 0.6773408385368105\n",
      "SROCC: 0.9548268333404683 0.7608751608751609\n",
      "\n",
      "\n",
      "RMSE: 3.847741605243413 7.262877614503027\n",
      "LCC: 0.951872710792909 0.7709086093658085\n",
      "SROCC: 0.9604691981677297 0.794851994851995\n",
      "\n",
      "\n",
      "RMSE: 3.7749243566639956 7.8017026148277715\n",
      "LCC: 0.953798647386678 0.780857743198026\n",
      "SROCC: 0.9560041097649729 0.8090090090090091\n",
      "\n",
      "\n",
      "RMSE: 3.6921776271004125 7.7182559979868595\n",
      "LCC: 0.9582823065615083 0.6801470738247762\n",
      "SROCC: 0.9611969690483324 0.6731016731016731\n",
      "\n",
      "\n",
      "RMSE: 4.053593525725616 7.1157280387012625\n",
      "LCC: 0.9464157785953988 0.8245419994918634\n",
      "SROCC: 0.9561924739928935 0.8277992277992279\n",
      "\n",
      "\n"
     ]
    }
   ],
   "source": [
    "idx = 0\n",
    "for train_idx, test_idx in CV_Generator(features, dataset_socres, group_label, 16, test_ratio=0.2):\n",
    "    train_features = features.iloc[train_idx]\n",
    "    train_labels = dataset_socres.iloc[train_idx]\n",
    "    test_features = features.iloc[test_idx]\n",
    "    test_labels = dataset_socres.iloc[test_idx]\n",
    "    best_model = grid_search_svr.best_estimator_.fit(train_features, train_labels)\n",
    "    train_pred = best_model.predict(train_features)\n",
    "    test_pred = best_model.predict(test_features)\n",
    "    if idx == 5:\n",
    "        final_model = best_model\n",
    "        print('Model saved')\n",
    "    print('RMSE:', rmse(train_labels, train_pred), rmse(test_labels, test_pred))\n",
    "    print('LCC:', lcc(train_labels, train_pred), lcc(test_labels, test_pred))\n",
    "    print('SROCC:', srocc(train_labels, train_pred), srocc(test_labels, test_pred))\n",
    "    #print('Accuracy:', accuracy(train_labels, train_pred), accuracy(test_labels, test_pred))\n",
    "    print('\\n')\n",
    "    idx += 1"
   ]
  },
  {
   "cell_type": "code",
   "execution_count": 64,
   "metadata": {},
   "outputs": [
    {
     "data": {
      "text/plain": [
       "(177, 16)"
      ]
     },
     "execution_count": 64,
     "metadata": {},
     "output_type": "execute_result"
    }
   ],
   "source": []
  },
  {
   "cell_type": "code",
   "execution_count": null,
   "metadata": {},
   "outputs": [],
   "source": []
  },
  {
   "cell_type": "code",
   "execution_count": null,
   "metadata": {},
   "outputs": [],
   "source": []
  },
  {
   "cell_type": "code",
   "execution_count": null,
   "metadata": {},
   "outputs": [],
   "source": []
  },
  {
   "cell_type": "code",
   "execution_count": null,
   "metadata": {},
   "outputs": [],
   "source": []
  },
  {
   "cell_type": "code",
   "execution_count": null,
   "metadata": {},
   "outputs": [],
   "source": []
  },
  {
   "cell_type": "code",
   "execution_count": null,
   "metadata": {},
   "outputs": [],
   "source": []
  },
  {
   "cell_type": "code",
   "execution_count": null,
   "metadata": {},
   "outputs": [],
   "source": []
  },
  {
   "cell_type": "code",
   "execution_count": null,
   "metadata": {},
   "outputs": [],
   "source": []
  },
  {
   "cell_type": "code",
   "execution_count": null,
   "metadata": {},
   "outputs": [],
   "source": []
  },
  {
   "cell_type": "code",
   "execution_count": null,
   "metadata": {},
   "outputs": [],
   "source": []
  },
  {
   "cell_type": "code",
   "execution_count": null,
   "metadata": {},
   "outputs": [],
   "source": []
  },
  {
   "cell_type": "code",
   "execution_count": null,
   "metadata": {},
   "outputs": [],
   "source": []
  }
 ],
 "metadata": {
  "kernelspec": {
   "display_name": "Python 3",
   "language": "python",
   "name": "python3"
  },
  "language_info": {
   "codemirror_mode": {
    "name": "ipython",
    "version": 3
   },
   "file_extension": ".py",
   "mimetype": "text/x-python",
   "name": "python",
   "nbconvert_exporter": "python",
   "pygments_lexer": "ipython3",
   "version": "3.6.6"
  }
 },
 "nbformat": 4,
 "nbformat_minor": 2
}
