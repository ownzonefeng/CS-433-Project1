{
 "cells": [
  {
   "cell_type": "code",
   "execution_count": 1,
   "metadata": {},
   "outputs": [],
   "source": [
    "import pandas as pd\n",
    "import numpy as np\n",
    "import sklearn\n",
    "import matplotlib as mpl\n",
    "import matplotlib.pyplot as plt"
   ]
  },
  {
   "cell_type": "code",
   "execution_count": 2,
   "metadata": {},
   "outputs": [],
   "source": [
    "from sklearn import svm\n",
    "from sklearn import multiclass "
   ]
  },
  {
   "cell_type": "code",
   "execution_count": 3,
   "metadata": {},
   "outputs": [],
   "source": [
    "from sklearn import preprocessing\n",
    "from sklearn import utils"
   ]
  },
  {
   "cell_type": "code",
   "execution_count": 4,
   "metadata": {},
   "outputs": [],
   "source": [
    "from sklearn.model_selection import train_test_split\n",
    "from sklearn import datasets\n",
    "from sklearn.model_selection import cross_val_score"
   ]
  },
  {
   "cell_type": "code",
   "execution_count": 5,
   "metadata": {},
   "outputs": [],
   "source": [
    "dataset_socres = pd.read_pickle('labels.pkl')\n",
    "nr_metrics = pd.read_pickle('features.pkl')\n",
    "nr_old=pd.read_pickle('nr_metrics.pkl')"
   ]
  },
  {
   "cell_type": "code",
   "execution_count": 6,
   "metadata": {},
   "outputs": [
    {
     "data": {
      "text/plain": [
       "G6AngelFallsClimbing_ERP_7680x3840_fps29.97_qp27_54581k.mp4    84.396726\n",
       "Name: Raw, dtype: float64"
      ]
     },
     "execution_count": 6,
     "metadata": {},
     "output_type": "execute_result"
    }
   ],
   "source": [
    "dataset_socres[dataset_socres > 80]"
   ]
  },
  {
   "cell_type": "code",
   "execution_count": 7,
   "metadata": {},
   "outputs": [
    {
     "data": {
      "text/html": [
       "<div>\n",
       "<style scoped>\n",
       "    .dataframe tbody tr th:only-of-type {\n",
       "        vertical-align: middle;\n",
       "    }\n",
       "\n",
       "    .dataframe tbody tr th {\n",
       "        vertical-align: top;\n",
       "    }\n",
       "\n",
       "    .dataframe thead th {\n",
       "        text-align: right;\n",
       "    }\n",
       "</style>\n",
       "<table border=\"1\" class=\"dataframe\">\n",
       "  <thead>\n",
       "    <tr style=\"text-align: right;\">\n",
       "      <th></th>\n",
       "      <th>max_msssim</th>\n",
       "      <th>max_psnr</th>\n",
       "      <th>max_psnrhvs</th>\n",
       "      <th>max_psnrhvsm</th>\n",
       "      <th>max_ssim</th>\n",
       "      <th>max_vifp</th>\n",
       "      <th>mean_msssim</th>\n",
       "      <th>mean_psnr</th>\n",
       "      <th>mean_psnrhvs</th>\n",
       "      <th>mean_psnrhvsm</th>\n",
       "      <th>...</th>\n",
       "      <th>std_Blur</th>\n",
       "      <th>std_Contrast</th>\n",
       "      <th>std_Exposure(bri)</th>\n",
       "      <th>std_Flickering</th>\n",
       "      <th>std_Interlace</th>\n",
       "      <th>std_Letterbox</th>\n",
       "      <th>std_Noise</th>\n",
       "      <th>std_Pillarbox</th>\n",
       "      <th>std_SA</th>\n",
       "      <th>std_TA</th>\n",
       "    </tr>\n",
       "  </thead>\n",
       "  <tbody>\n",
       "    <tr>\n",
       "      <th>G10BoatInPark_ERP_4096x2048_fps30_qp27_14547k.mp4</th>\n",
       "      <td>0.997392</td>\n",
       "      <td>46.133789</td>\n",
       "      <td>44.279213</td>\n",
       "      <td>50.718632</td>\n",
       "      <td>0.995475</td>\n",
       "      <td>0.891705</td>\n",
       "      <td>0.993421</td>\n",
       "      <td>41.796802</td>\n",
       "      <td>39.355793</td>\n",
       "      <td>43.768754</td>\n",
       "      <td>...</td>\n",
       "      <td>0.673493</td>\n",
       "      <td>0.923127</td>\n",
       "      <td>0.161376</td>\n",
       "      <td>0.555076</td>\n",
       "      <td>0.001677</td>\n",
       "      <td>0.0</td>\n",
       "      <td>0.053726</td>\n",
       "      <td>0.0</td>\n",
       "      <td>8.573505</td>\n",
       "      <td>3.692404</td>\n",
       "    </tr>\n",
       "    <tr>\n",
       "      <th>G10BoatInPark_ERP_4096x2048_fps30_qp37_3270k.mp4</th>\n",
       "      <td>0.989167</td>\n",
       "      <td>40.454590</td>\n",
       "      <td>37.767975</td>\n",
       "      <td>41.375046</td>\n",
       "      <td>0.986984</td>\n",
       "      <td>0.782142</td>\n",
       "      <td>0.978148</td>\n",
       "      <td>37.008199</td>\n",
       "      <td>34.024982</td>\n",
       "      <td>36.471304</td>\n",
       "      <td>...</td>\n",
       "      <td>0.738179</td>\n",
       "      <td>0.914809</td>\n",
       "      <td>0.454140</td>\n",
       "      <td>0.555547</td>\n",
       "      <td>0.000423</td>\n",
       "      <td>0.0</td>\n",
       "      <td>0.005880</td>\n",
       "      <td>0.0</td>\n",
       "      <td>8.647012</td>\n",
       "      <td>3.725965</td>\n",
       "    </tr>\n",
       "    <tr>\n",
       "      <th>G10BoatInPark_ERP_4096x2048_fps30_qp42_1507k.mp4</th>\n",
       "      <td>0.988243</td>\n",
       "      <td>39.480148</td>\n",
       "      <td>36.625156</td>\n",
       "      <td>39.592644</td>\n",
       "      <td>0.983493</td>\n",
       "      <td>0.777223</td>\n",
       "      <td>0.959902</td>\n",
       "      <td>34.488414</td>\n",
       "      <td>31.374308</td>\n",
       "      <td>33.145878</td>\n",
       "      <td>...</td>\n",
       "      <td>0.778477</td>\n",
       "      <td>0.910941</td>\n",
       "      <td>0.665406</td>\n",
       "      <td>0.547511</td>\n",
       "      <td>0.000416</td>\n",
       "      <td>0.0</td>\n",
       "      <td>0.000718</td>\n",
       "      <td>0.0</td>\n",
       "      <td>8.553970</td>\n",
       "      <td>3.747884</td>\n",
       "    </tr>\n",
       "    <tr>\n",
       "      <th>G10BodybuildingWorkout_ERP_7680x3840_fps29.97_qp27_6105k.mp4</th>\n",
       "      <td>0.998561</td>\n",
       "      <td>48.881790</td>\n",
       "      <td>46.440197</td>\n",
       "      <td>52.151497</td>\n",
       "      <td>0.998019</td>\n",
       "      <td>0.935969</td>\n",
       "      <td>0.997337</td>\n",
       "      <td>46.696109</td>\n",
       "      <td>44.047773</td>\n",
       "      <td>48.487592</td>\n",
       "      <td>...</td>\n",
       "      <td>0.115909</td>\n",
       "      <td>0.380451</td>\n",
       "      <td>0.000000</td>\n",
       "      <td>0.568286</td>\n",
       "      <td>0.000138</td>\n",
       "      <td>0.0</td>\n",
       "      <td>0.288068</td>\n",
       "      <td>0.0</td>\n",
       "      <td>0.109267</td>\n",
       "      <td>1.117525</td>\n",
       "    </tr>\n",
       "    <tr>\n",
       "      <th>G10BodybuildingWorkout_ERP_7680x3840_fps29.97_qp37_913k.mp4</th>\n",
       "      <td>0.997163</td>\n",
       "      <td>45.922199</td>\n",
       "      <td>43.115520</td>\n",
       "      <td>47.492256</td>\n",
       "      <td>0.996843</td>\n",
       "      <td>0.906730</td>\n",
       "      <td>0.993474</td>\n",
       "      <td>42.361416</td>\n",
       "      <td>39.457154</td>\n",
       "      <td>42.041170</td>\n",
       "      <td>...</td>\n",
       "      <td>0.134619</td>\n",
       "      <td>0.366843</td>\n",
       "      <td>0.861126</td>\n",
       "      <td>0.514013</td>\n",
       "      <td>0.000782</td>\n",
       "      <td>0.0</td>\n",
       "      <td>0.008493</td>\n",
       "      <td>0.0</td>\n",
       "      <td>0.172757</td>\n",
       "      <td>1.132522</td>\n",
       "    </tr>\n",
       "  </tbody>\n",
       "</table>\n",
       "<p>5 rows × 60 columns</p>\n",
       "</div>"
      ],
      "text/plain": [
       "                                                    max_msssim   max_psnr  \\\n",
       "G10BoatInPark_ERP_4096x2048_fps30_qp27_14547k.mp4     0.997392  46.133789   \n",
       "G10BoatInPark_ERP_4096x2048_fps30_qp37_3270k.mp4      0.989167  40.454590   \n",
       "G10BoatInPark_ERP_4096x2048_fps30_qp42_1507k.mp4      0.988243  39.480148   \n",
       "G10BodybuildingWorkout_ERP_7680x3840_fps29.97_q...    0.998561  48.881790   \n",
       "G10BodybuildingWorkout_ERP_7680x3840_fps29.97_q...    0.997163  45.922199   \n",
       "\n",
       "                                                    max_psnrhvs  max_psnrhvsm  \\\n",
       "G10BoatInPark_ERP_4096x2048_fps30_qp27_14547k.mp4     44.279213     50.718632   \n",
       "G10BoatInPark_ERP_4096x2048_fps30_qp37_3270k.mp4      37.767975     41.375046   \n",
       "G10BoatInPark_ERP_4096x2048_fps30_qp42_1507k.mp4      36.625156     39.592644   \n",
       "G10BodybuildingWorkout_ERP_7680x3840_fps29.97_q...    46.440197     52.151497   \n",
       "G10BodybuildingWorkout_ERP_7680x3840_fps29.97_q...    43.115520     47.492256   \n",
       "\n",
       "                                                    max_ssim  max_vifp  \\\n",
       "G10BoatInPark_ERP_4096x2048_fps30_qp27_14547k.mp4   0.995475  0.891705   \n",
       "G10BoatInPark_ERP_4096x2048_fps30_qp37_3270k.mp4    0.986984  0.782142   \n",
       "G10BoatInPark_ERP_4096x2048_fps30_qp42_1507k.mp4    0.983493  0.777223   \n",
       "G10BodybuildingWorkout_ERP_7680x3840_fps29.97_q...  0.998019  0.935969   \n",
       "G10BodybuildingWorkout_ERP_7680x3840_fps29.97_q...  0.996843  0.906730   \n",
       "\n",
       "                                                    mean_msssim  mean_psnr  \\\n",
       "G10BoatInPark_ERP_4096x2048_fps30_qp27_14547k.mp4      0.993421  41.796802   \n",
       "G10BoatInPark_ERP_4096x2048_fps30_qp37_3270k.mp4       0.978148  37.008199   \n",
       "G10BoatInPark_ERP_4096x2048_fps30_qp42_1507k.mp4       0.959902  34.488414   \n",
       "G10BodybuildingWorkout_ERP_7680x3840_fps29.97_q...     0.997337  46.696109   \n",
       "G10BodybuildingWorkout_ERP_7680x3840_fps29.97_q...     0.993474  42.361416   \n",
       "\n",
       "                                                    mean_psnrhvs  \\\n",
       "G10BoatInPark_ERP_4096x2048_fps30_qp27_14547k.mp4      39.355793   \n",
       "G10BoatInPark_ERP_4096x2048_fps30_qp37_3270k.mp4       34.024982   \n",
       "G10BoatInPark_ERP_4096x2048_fps30_qp42_1507k.mp4       31.374308   \n",
       "G10BodybuildingWorkout_ERP_7680x3840_fps29.97_q...     44.047773   \n",
       "G10BodybuildingWorkout_ERP_7680x3840_fps29.97_q...     39.457154   \n",
       "\n",
       "                                                    mean_psnrhvsm    ...     \\\n",
       "G10BoatInPark_ERP_4096x2048_fps30_qp27_14547k.mp4       43.768754    ...      \n",
       "G10BoatInPark_ERP_4096x2048_fps30_qp37_3270k.mp4        36.471304    ...      \n",
       "G10BoatInPark_ERP_4096x2048_fps30_qp42_1507k.mp4        33.145878    ...      \n",
       "G10BodybuildingWorkout_ERP_7680x3840_fps29.97_q...      48.487592    ...      \n",
       "G10BodybuildingWorkout_ERP_7680x3840_fps29.97_q...      42.041170    ...      \n",
       "\n",
       "                                                    std_Blur  std_Contrast  \\\n",
       "G10BoatInPark_ERP_4096x2048_fps30_qp27_14547k.mp4   0.673493      0.923127   \n",
       "G10BoatInPark_ERP_4096x2048_fps30_qp37_3270k.mp4    0.738179      0.914809   \n",
       "G10BoatInPark_ERP_4096x2048_fps30_qp42_1507k.mp4    0.778477      0.910941   \n",
       "G10BodybuildingWorkout_ERP_7680x3840_fps29.97_q...  0.115909      0.380451   \n",
       "G10BodybuildingWorkout_ERP_7680x3840_fps29.97_q...  0.134619      0.366843   \n",
       "\n",
       "                                                    std_Exposure(bri)  \\\n",
       "G10BoatInPark_ERP_4096x2048_fps30_qp27_14547k.mp4            0.161376   \n",
       "G10BoatInPark_ERP_4096x2048_fps30_qp37_3270k.mp4             0.454140   \n",
       "G10BoatInPark_ERP_4096x2048_fps30_qp42_1507k.mp4             0.665406   \n",
       "G10BodybuildingWorkout_ERP_7680x3840_fps29.97_q...           0.000000   \n",
       "G10BodybuildingWorkout_ERP_7680x3840_fps29.97_q...           0.861126   \n",
       "\n",
       "                                                    std_Flickering  \\\n",
       "G10BoatInPark_ERP_4096x2048_fps30_qp27_14547k.mp4         0.555076   \n",
       "G10BoatInPark_ERP_4096x2048_fps30_qp37_3270k.mp4          0.555547   \n",
       "G10BoatInPark_ERP_4096x2048_fps30_qp42_1507k.mp4          0.547511   \n",
       "G10BodybuildingWorkout_ERP_7680x3840_fps29.97_q...        0.568286   \n",
       "G10BodybuildingWorkout_ERP_7680x3840_fps29.97_q...        0.514013   \n",
       "\n",
       "                                                    std_Interlace  \\\n",
       "G10BoatInPark_ERP_4096x2048_fps30_qp27_14547k.mp4        0.001677   \n",
       "G10BoatInPark_ERP_4096x2048_fps30_qp37_3270k.mp4         0.000423   \n",
       "G10BoatInPark_ERP_4096x2048_fps30_qp42_1507k.mp4         0.000416   \n",
       "G10BodybuildingWorkout_ERP_7680x3840_fps29.97_q...       0.000138   \n",
       "G10BodybuildingWorkout_ERP_7680x3840_fps29.97_q...       0.000782   \n",
       "\n",
       "                                                    std_Letterbox  std_Noise  \\\n",
       "G10BoatInPark_ERP_4096x2048_fps30_qp27_14547k.mp4             0.0   0.053726   \n",
       "G10BoatInPark_ERP_4096x2048_fps30_qp37_3270k.mp4              0.0   0.005880   \n",
       "G10BoatInPark_ERP_4096x2048_fps30_qp42_1507k.mp4              0.0   0.000718   \n",
       "G10BodybuildingWorkout_ERP_7680x3840_fps29.97_q...            0.0   0.288068   \n",
       "G10BodybuildingWorkout_ERP_7680x3840_fps29.97_q...            0.0   0.008493   \n",
       "\n",
       "                                                    std_Pillarbox    std_SA  \\\n",
       "G10BoatInPark_ERP_4096x2048_fps30_qp27_14547k.mp4             0.0  8.573505   \n",
       "G10BoatInPark_ERP_4096x2048_fps30_qp37_3270k.mp4              0.0  8.647012   \n",
       "G10BoatInPark_ERP_4096x2048_fps30_qp42_1507k.mp4              0.0  8.553970   \n",
       "G10BodybuildingWorkout_ERP_7680x3840_fps29.97_q...            0.0  0.109267   \n",
       "G10BodybuildingWorkout_ERP_7680x3840_fps29.97_q...            0.0  0.172757   \n",
       "\n",
       "                                                      std_TA  \n",
       "G10BoatInPark_ERP_4096x2048_fps30_qp27_14547k.mp4   3.692404  \n",
       "G10BoatInPark_ERP_4096x2048_fps30_qp37_3270k.mp4    3.725965  \n",
       "G10BoatInPark_ERP_4096x2048_fps30_qp42_1507k.mp4    3.747884  \n",
       "G10BodybuildingWorkout_ERP_7680x3840_fps29.97_q...  1.117525  \n",
       "G10BodybuildingWorkout_ERP_7680x3840_fps29.97_q...  1.132522  \n",
       "\n",
       "[5 rows x 60 columns]"
      ]
     },
     "execution_count": 7,
     "metadata": {},
     "output_type": "execute_result"
    }
   ],
   "source": [
    "nr_metrics.head()"
   ]
  },
  {
   "cell_type": "code",
   "execution_count": 8,
   "metadata": {},
   "outputs": [],
   "source": [
    "y_origin=dataset_socres.values\n",
    "X=nr_metrics.values"
   ]
  },
  {
   "cell_type": "code",
   "execution_count": 9,
   "metadata": {},
   "outputs": [
    {
     "data": {
      "text/plain": [
       "array([3., 2., 1., 3., 2., 1., 3., 1., 0., 3., 2., 1., 3., 2., 1., 3., 2.,\n",
       "       1., 3., 2., 2., 3., 2., 2., 2., 2., 2., 2., 2., 1., 3., 2., 1., 3.,\n",
       "       1., 1., 3., 2., 1., 3., 1., 0., 2., 2., 1., 3., 2., 1., 3., 2., 2.,\n",
       "       3., 3., 2., 3., 2., 2., 2., 2., 1., 3., 2., 2., 3., 3., 2., 3., 2.,\n",
       "       1., 2., 2., 1., 3., 3., 3., 3., 2., 2., 3., 2., 1., 2., 2., 2., 2.,\n",
       "       2., 1., 3., 3., 2., 3., 3., 1., 3., 3., 2., 3., 2., 2., 3., 2., 2.,\n",
       "       3., 2., 1., 4., 3., 1., 3., 2., 1., 3., 2., 2., 2., 2., 1., 3., 1.,\n",
       "       0., 3., 2., 1., 3., 2., 1., 3., 2., 2., 3., 2., 1., 3., 2., 1., 3.,\n",
       "       2., 1., 3., 3., 2., 3., 2., 2., 3., 2., 1., 3., 3., 2., 2., 2., 1.,\n",
       "       3., 1., 1., 3., 2., 1., 3., 1., 0., 3., 2., 2., 3., 2., 1., 3., 2.,\n",
       "       1., 3., 0., 0., 3., 2., 2.])"
      ]
     },
     "execution_count": 9,
     "metadata": {},
     "output_type": "execute_result"
    }
   ],
   "source": [
    "y_label=y_origin/20\n",
    "#y_label[y_label<=5]=0#poor\n",
    "#y_label[y_label>5]=1#excellent\n",
    "y=np.floor(y_label)\n",
    "y"
   ]
  },
  {
   "cell_type": "code",
   "execution_count": 10,
   "metadata": {},
   "outputs": [],
   "source": [
    "X_train,X_test,y_train,y_test=train_test_split(X, y, test_size=0.2, random_state=0)"
   ]
  },
  {
   "cell_type": "code",
   "execution_count": 11,
   "metadata": {},
   "outputs": [
    {
     "data": {
      "text/plain": [
       "0.4444444444444444"
      ]
     },
     "execution_count": 11,
     "metadata": {},
     "output_type": "execute_result"
    }
   ],
   "source": [
    "clf = svm.SVC(C=1, kernel='poly', degree=4, decision_function_shape='ovr')\n",
    "clf.fit(X_train, y_train)\n",
    "clf.score(X_test,y_test)\n",
    "#clf.decision_function(X_train)\n",
    "#y_pre=clf.predict(X_test)"
   ]
  },
  {
   "cell_type": "code",
   "execution_count": null,
   "metadata": {},
   "outputs": [],
   "source": [
    "onevsall=multiclass.OneVsOneClassifier(svm.LinearSVC(random_state=0))\n",
    "onevsall.fit(X_train,y_train)"
   ]
  },
  {
   "cell_type": "code",
   "execution_count": 12,
   "metadata": {},
   "outputs": [
    {
     "name": "stderr",
     "output_type": "stream",
     "text": [
      "C:\\Users\\zhuangym\\Anaconda3\\lib\\site-packages\\sklearn\\model_selection\\_split.py:605: Warning: The least populated class in y has only 1 members, which is too few. The minimum number of members in any class cannot be less than n_splits=5.\n",
      "  % (min_groups, self.n_splits)), Warning)\n"
     ]
    },
    {
     "data": {
      "text/plain": [
       "array([0.57894737, 0.52777778, 0.58333333, 0.5       , 0.72727273])"
      ]
     },
     "execution_count": 12,
     "metadata": {},
     "output_type": "execute_result"
    }
   ],
   "source": [
    "scores1 = cross_val_score(clf, X, y, cv=5)\n",
    "scores1"
   ]
  },
  {
   "cell_type": "code",
   "execution_count": null,
   "metadata": {},
   "outputs": [],
   "source": [
    "clf_lin=svm.NuSVC(kernel='linear',gamma=20)\n",
    "#clf.lin.fit(X_train,y_train)"
   ]
  },
  {
   "cell_type": "code",
   "execution_count": null,
   "metadata": {},
   "outputs": [],
   "source": [
    "scores = cross_val_score(clf_lin, X, y, cv=4)"
   ]
  },
  {
   "cell_type": "code",
   "execution_count": null,
   "metadata": {},
   "outputs": [],
   "source": [
    "scores"
   ]
  },
  {
   "cell_type": "code",
   "execution_count": null,
   "metadata": {},
   "outputs": [],
   "source": [
    "x1_min, x1_max = X[:, 2].min(), X[:, 2].max()\n",
    "x2_min, x2_max = X[:, 3].min(), X[:, 3].max() \n",
    "x1, x2 = np.mgrid[x1_min:x1_max:200j, x2_min:x2_max:200j]"
   ]
  },
  {
   "cell_type": "code",
   "execution_count": null,
   "metadata": {},
   "outputs": [],
   "source": [
    "cm_light =mpl.colors.ListedColormap(['#A0FFA0', '#FFA0A0', '#A0A0FF'])\n",
    "cm_dark = mpl.colors.ListedColormap(['g', 'r', 'b','y'])\n",
    "plt.scatter(X[:, 2], X[:, 3], c=y, edgecolors='k', s=50, cmap=cm_dark)  \n",
    "plt.scatter(X_test[:, 2], X_test[:, 3], s=120, facecolors='none', zorder=10)  \n",
    "plt.xlim(x1_min, x1_max)\n",
    "plt.ylim(x2_min, x2_max)\n",
    "plt.show()"
   ]
  },
  {
   "cell_type": "code",
   "execution_count": null,
   "metadata": {},
   "outputs": [],
   "source": []
  }
 ],
 "metadata": {
  "kernelspec": {
   "display_name": "Python 3",
   "language": "python",
   "name": "python3"
  },
  "language_info": {
   "codemirror_mode": {
    "name": "ipython",
    "version": 3
   },
   "file_extension": ".py",
   "mimetype": "text/x-python",
   "name": "python",
   "nbconvert_exporter": "python",
   "pygments_lexer": "ipython3",
   "version": "3.6.5"
  }
 },
 "nbformat": 4,
 "nbformat_minor": 2
}
