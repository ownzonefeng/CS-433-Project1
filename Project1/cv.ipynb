{
 "cells": [
  {
   "cell_type": "code",
   "execution_count": 14,
   "metadata": {},
   "outputs": [
    {
     "name": "stdout",
     "output_type": "stream",
     "text": [
      "The autoreload extension is already loaded. To reload it, use:\n",
      "  %reload_ext autoreload\n"
     ]
    }
   ],
   "source": [
    "# Useful starting lines\n",
    "%matplotlib inline\n",
    "import numpy as np\n",
    "import matplotlib.pyplot as plt\n",
    "%load_ext autoreload\n",
    "%autoreload 2"
   ]
  },
  {
   "cell_type": "markdown",
   "metadata": {},
   "source": [
    "# Cross-Validation and Bias-Variance decomposition\n",
    "## Cross-Validation\n",
    "Implementing 4-fold cross-validation below:"
   ]
  },
  {
   "cell_type": "code",
   "execution_count": 15,
   "metadata": {},
   "outputs": [],
   "source": [
    "from helpers import load_data\n",
    "\n",
    "# load dataset\n",
    "x, y = load_data()"
   ]
  },
  {
   "cell_type": "code",
   "execution_count": 16,
   "metadata": {},
   "outputs": [],
   "source": [
    "def build_k_indices(y, k_fold, seed):\n",
    "    \"\"\"build k indices for k-fold.\"\"\"\n",
    "    num_row = y.shape[0]\n",
    "    interval = int(num_row / k_fold)\n",
    "    np.random.seed(seed)\n",
    "    indices = np.random.permutation(num_row)\n",
    "    k_indices = [indices[k * interval: (k + 1) * interval]\n",
    "                 for k in range(k_fold)]\n",
    "    return np.array(k_indices)"
   ]
  },
  {
   "cell_type": "code",
   "execution_count": 17,
   "metadata": {},
   "outputs": [],
   "source": [
    "from implementations import least_squares,compute_loss\n",
    "from build_polynomial import build_poly\n",
    "\n",
    "def cross_validation(y, x, k_indices, k):\n",
    "   \n",
    "    \"\"\"return the loss of ridge regression.\"\"\"\n",
    "    # ***************************************************\n",
    "    # INSERT YOUR CODE HERE\n",
    "    # get k'th subgroup in test, others in train: TODO\n",
    "    # ***************************************************\n",
    "    x_te=x[k_indices[k]]\n",
    "    y_te=y[k_indices[k]]\n",
    "    x_tr=[]\n",
    "    y_tr=[]\n",
    "    degree=5\n",
    "    for i in range(k_indices.shape[0]):\n",
    "       if (i != k):\n",
    "        x_tr=np.append(x_tr,x[k_indices[i]])\n",
    "        y_tr=np.append(y_tr,y[k_indices[i]])  \n",
    "    # ***************************************************\n",
    "    # INSERT YOUR CODE HERE\n",
    "    # form data with polynomial degree: TODO\n",
    "    # ***************************************************\n",
    "    t_tr=build_poly(x_tr,degree)\n",
    "    t_te=build_poly(x_te,degree)\n",
    "    weight=least_squares(y_tr,t_tr)\n",
    "    loss_te=compute_loss(y_te,t_te,weight,'mse')\n",
    "    loss_tr=compute_loss(y_tr,t_tr,weight,'mse')\n",
    "    return loss_tr, loss_te\n",
    "    #raise NotImplementedError\n",
    "    # ***************************************************\n",
    "    # INSERT YOUR CODE HERE\n",
    "    # ridge regression: TODO\n",
    "    # ***************************************************\n",
    "   # raise NotImplementedError\n",
    "    # ***************************************************\n",
    "    # INSERT YOUR CODE HERE\n",
    "    # calculate the loss for train and test data: TODO\n",
    "    # ***************************************************\n",
    "    #raise NotImplementedError\n",
    "  "
   ]
  },
  {
   "cell_type": "code",
   "execution_count": 18,
   "metadata": {},
   "outputs": [
    {
     "data": {
      "text/plain": [
       "(array([3.50706129, 2.74993656, 1.2356871 , 5.90462294, 1.99281183,\n",
       "        1.48806201, 5.52606058, 0.98331219, 0.22618746, 2.87612401,\n",
       "        3.12849893, 5.14749821, 4.01181111, 1.10949964, 2.49756165,\n",
       "        4.76893584, 6.0308104 , 3.25468638, 2.11899928, 0.1       ,\n",
       "        3.38087384, 4.64274839, 1.61424946, 2.24518674, 0.60474982,\n",
       "        4.26418602, 3.7594362 , 4.39037348, 0.47856237, 4.51656093,\n",
       "        1.36187455, 3.88562366, 5.65224803, 4.13799857, 4.8951233 ,\n",
       "        6.15699785, 0.35237491, 5.39987312, 0.73093728, 3.63324875,\n",
       "        2.37137419, 6.28318531, 0.85712473, 1.74043692, 5.27368567]),\n",
       " array([-2.68157012e-01,  1.21879684e-01,  9.94909022e-01, -7.66467434e-01,\n",
       "         7.27781486e-01,  7.73288841e-01, -8.26518932e-01,  9.51211821e-01,\n",
       "         2.52524512e-01, -3.72595292e-01,  7.69121860e-02, -1.04670162e+00,\n",
       "        -5.59911457e-01,  6.05998553e-01,  3.76102400e-02, -5.72305352e-01,\n",
       "        -3.08575746e-01,  3.05224230e-02,  7.77071848e-01,  3.59152612e-01,\n",
       "        -2.06807030e-01, -7.46011639e-01,  8.33364051e-01,  7.00138842e-01,\n",
       "         4.37144573e-01, -1.29168955e+00, -1.06662741e+00, -1.33397556e+00,\n",
       "         7.22554859e-01, -7.37222919e-01,  3.88647453e-01, -4.84226326e-01,\n",
       "        -1.05814170e+00, -8.35127298e-01, -1.28027608e+00, -1.41108000e-04,\n",
       "         8.95549970e-02, -4.37345163e-01,  5.38669461e-01, -3.01041920e-01,\n",
       "         1.94693837e-01,  2.22695473e-01,  4.25144932e-01,  7.39727694e-01,\n",
       "        -9.56348655e-01]))"
      ]
     },
     "execution_count": 18,
     "metadata": {},
     "output_type": "execute_result"
    }
   ],
   "source": [
    "k_fold=10\n",
    "k_indices = build_k_indices(y, k_fold, 1)\n",
    "k=0\n",
    "x_te=x[k_indices[k]]\n",
    "y_te=y[k_indices[k]]\n",
    "x_tr=[]\n",
    "y_tr=[]\n",
    "degree=1\n",
    "for i in range(k_indices.shape[0]):\n",
    "       if (i != k):\n",
    "        x_tr=np.append(x_tr,x[k_indices[i]])\n",
    "        y_tr=np.append(y_tr,y[k_indices[i]])  \n",
    "        \n",
    "x_tr,y_tr"
   ]
  },
  {
   "cell_type": "code",
   "execution_count": 19,
   "metadata": {},
   "outputs": [
    {
     "name": "stdout",
     "output_type": "stream",
     "text": [
      "0.002365750670626017 0.003393836962113361\n"
     ]
    }
   ],
   "source": [
    "k_fold=10\n",
    "k_indices = build_k_indices(y, k_fold, 1)\n",
    "\n",
    "loss_tr,loss_te=0,0\n",
    "for i in range(k_fold):\n",
    " losstr, losste=cross_validation(y, x, k_indices, i)\n",
    " loss_te=+losstr\n",
    " loss_tr=+losste\n",
    "\n",
    "print(loss_tr/k_fold,loss_te/k_fold)"
   ]
  },
  {
   "cell_type": "code",
   "execution_count": 20,
   "metadata": {},
   "outputs": [
    {
     "name": "stdout",
     "output_type": "stream",
     "text": [
      "0.08238734080079732 0.06878590946736136\n"
     ]
    }
   ],
   "source": [
    "k_fold=10\n",
    "k_indices = build_k_indices(y, k_fold, 1)\n",
    "\n",
    "loss_tr,loss_te=0,0\n",
    "for i in range(k_fold):\n",
    " losstr, losste=cross_validation(y, x, k_indices, i)\n",
    " loss_te=+losste\n",
    " loss_tr=+losstr\n",
    "\n",
    "loss_tr=loss_tr/k_fold\n",
    "loss_te=loss_te/k_fold\n",
    "print(np.sqrt(2*loss_tr),np.sqrt(2*loss_te))\n"
   ]
  },
  {
   "cell_type": "code",
   "execution_count": 21,
   "metadata": {},
   "outputs": [],
   "source": [
    "from plots import cross_validation_visualization\n",
    "\n",
    "def cross_validation_demo():\n",
    "    seed = 1\n",
    "    #degree = 7\n",
    "    k_fold = 4\n",
    "    lambdas = np.logspace(-4, 0, 30)\n",
    "    # split data in k fold\n",
    "    k_indices = build_k_indices(y, k_fold, seed)\n",
    "    # define lists to store the loss of training data and test data\n",
    "    loss_tr = []\n",
    "    loss_te = []\n",
    "    for i in range(k_fold):\n",
    "     losstr,losste=cross_validation(y, x, k_indices, i)\n",
    "     loss_tr.append(losstr)\n",
    "     loss_te.append(losste)\n",
    "    # ***************************************************\n",
    "    # INSERT YOUR CODE HERE\n",
    "    # cross validation: TODO\n",
    "    # ***************************************************    \n",
    "    #cross_validation_visualization(lambdas, rmse_tr, rmse_te)\n",
    "\n",
    "cross_validation_demo()"
   ]
  },
  {
   "cell_type": "markdown",
   "metadata": {},
   "source": [
    "## Bias-Variance Decomposition\n",
    "Visualize bias-variance trade-off by implementing the function `bias_variance_demo()` below:"
   ]
  },
  {
   "cell_type": "code",
   "execution_count": null,
   "metadata": {},
   "outputs": [],
   "source": [
    "from least_squares import least_squares\n",
    "from split_data import split_data\n",
    "from plots import bias_variance_decomposition_visualization\n",
    "\n",
    "def bias_variance_demo():\n",
    "    \"\"\"The entry.\"\"\"\n",
    "    # define parameters\n",
    "    seeds = range(100)\n",
    "    num_data = 10000\n",
    "    ratio_train = 0.005\n",
    "    degrees = range(1, 10)\n",
    "    \n",
    "    # define list to store the variable\n",
    "    rmse_tr = np.empty((len(seeds), len(degrees)))\n",
    "    rmse_te = np.empty((len(seeds), len(degrees)))\n",
    "    \n",
    "    for index_seed, seed in enumerate(seeds):\n",
    "        np.random.seed(seed)\n",
    "        x = np.linspace(0.1, 2 * np.pi, num_data)\n",
    "        y = np.sin(x) + 0.3 * np.random.randn(num_data).T\n",
    "        # ***************************************************\n",
    "        # INSERT YOUR CODE HERE\n",
    "        # split data with a specific seed: TODO\n",
    "        # ***************************************************\n",
    "        raise NotImplementedError\n",
    "        # ***************************************************\n",
    "        # INSERT YOUR CODE HERE\n",
    "        # bias_variance_decomposition: TODO\n",
    "        # ***************************************************\n",
    "        raise NotImplementedError\n",
    "\n",
    "    bias_variance_decomposition_visualization(degrees, rmse_tr, rmse_te)\n",
    "\n",
    "bias_variance_demo()"
   ]
  }
 ],
 "metadata": {
  "anaconda-cloud": {},
  "kernelspec": {
   "display_name": "Python 3",
   "language": "python",
   "name": "python3"
  },
  "language_info": {
   "codemirror_mode": {
    "name": "ipython",
    "version": 3
   },
   "file_extension": ".py",
   "mimetype": "text/x-python",
   "name": "python",
   "nbconvert_exporter": "python",
   "pygments_lexer": "ipython3",
   "version": "3.6.5"
  }
 },
 "nbformat": 4,
 "nbformat_minor": 1
}
