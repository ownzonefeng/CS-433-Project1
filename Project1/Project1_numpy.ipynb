{
 "cells": [
  {
   "cell_type": "code",
   "execution_count": 1,
   "metadata": {},
   "outputs": [],
   "source": [
    "import numpy as np\n",
    "import matplotlib.pyplot as plt\n",
    "from sklearn.preprocessing import PolynomialFeatures\n",
    "from Myhelper import *"
   ]
  },
  {
   "cell_type": "code",
   "execution_count": 2,
   "metadata": {},
   "outputs": [],
   "source": [
    "from proj1_helpers import *\n",
    "from implementations import *\n",
    "np.set_printoptions(precision=3, suppress=True)"
   ]
  },
  {
   "cell_type": "code",
   "execution_count": 3,
   "metadata": {},
   "outputs": [],
   "source": [
    "labels, features, ids = load_csv_data('train.csv') "
   ]
  },
  {
   "cell_type": "code",
   "execution_count": 4,
   "metadata": {},
   "outputs": [
    {
     "data": {
      "text/plain": [
       "array([1., 0., 0., ..., 1., 0., 0.])"
      ]
     },
     "execution_count": 4,
     "metadata": {},
     "output_type": "execute_result"
    }
   ],
   "source": [
    "labels = (labels + 1) /2 \n",
    "labels"
   ]
  },
  {
   "cell_type": "code",
   "execution_count": 5,
   "metadata": {},
   "outputs": [
    {
     "name": "stdout",
     "output_type": "stream",
     "text": [
      "[[ 138.47    51.655   97.827 ...    1.24    -2.475  113.497]\n",
      " [ 160.937   68.768  103.235 ... -999.    -999.      46.226]\n",
      " [-999.     162.172  125.953 ... -999.    -999.      44.251]\n",
      " ...\n",
      " [ 105.457   60.526   75.839 ... -999.    -999.      41.992]\n",
      " [  94.951   19.362   68.812 ... -999.    -999.       0.   ]\n",
      " [-999.      72.756   70.831 ... -999.    -999.       0.   ]]\n"
     ]
    }
   ],
   "source": [
    "print(features)"
   ]
  },
  {
   "cell_type": "code",
   "execution_count": 6,
   "metadata": {},
   "outputs": [],
   "source": [
    "feature_dict = {\"DER_mass_MMC\":0,\n",
    "\"DER_mass_transverse_met_lep\":1,\n",
    "\"DER_mass_vis\":2,\n",
    "\"DER_pt_h\":3,\n",
    "\"DER_deltaeta_jet_jet\":4,\n",
    "\"DER_mass_jet_jet\":5,\n",
    "\"DER_prodeta_jet_jet\":6,\n",
    "\"DER_deltar_tau_lep\":7,\n",
    "\"DER_pt_tot\":8,\n",
    "\"DER_sum_pt\":9,\n",
    "\"DER_pt_ratio_lep_tau\":10,\n",
    "\"DER_met_phi_centrality\":11,\n",
    "\"DER_lep_eta_centrality\":12,\n",
    "\"PRI_tau_pt\":13,\n",
    "\"PRI_tau_eta\":14,\n",
    "\"PRI_tau_phi\":15,\n",
    "\"PRI_lep_pt\":16,\n",
    "\"PRI_lep_eta\":17,\n",
    "\"PRI_lep_phi\":18,\n",
    "\"PRI_met\":19,\n",
    "\"PRI_met_phi\":20,\n",
    "\"PRI_met_sumet\":21,\n",
    "\"PRI_jet_num\":22,\n",
    "\"PRI_jet_leading_pt\":23,\n",
    "\"PRI_jet_leading_eta\":24,\n",
    "\"PRI_jet_leading_phi\":25,\n",
    "\"PRI_jet_subleading_pt\":26,\n",
    "\"PRI_jet_subleading_eta\":27,\n",
    "\"PRI_jet_subleading_phi\":28,\n",
    "\"PRI_jet_all_pt\":29}"
   ]
  },
  {
   "cell_type": "code",
   "execution_count": 7,
   "metadata": {},
   "outputs": [],
   "source": [
    "feature_0 = features[features[:, feature_dict[\"PRI_jet_num\"]] == 0, :]\n",
    "feature_1 = features[features[:, feature_dict[\"PRI_jet_num\"]] == 1, :]\n",
    "feature_2 = features[features[:, feature_dict[\"PRI_jet_num\"]] == 2, :]\n",
    "feature_3 = features[features[:, feature_dict[\"PRI_jet_num\"]] == 3, :]\n",
    "label_0 = labels[features[:, feature_dict[\"PRI_jet_num\"]] == 0]\n",
    "label_1 = labels[features[:, feature_dict[\"PRI_jet_num\"]] == 1]\n",
    "label_2 = labels[features[:, feature_dict[\"PRI_jet_num\"]] == 2]\n",
    "label_3 = labels[features[:, feature_dict[\"PRI_jet_num\"]] == 3]"
   ]
  },
  {
   "cell_type": "code",
   "execution_count": 8,
   "metadata": {},
   "outputs": [
    {
     "data": {
      "text/plain": [
       "250000"
      ]
     },
     "execution_count": 8,
     "metadata": {},
     "output_type": "execute_result"
    }
   ],
   "source": [
    "feature_0.shape[0] + feature_1.shape[0] +feature_2.shape[0] +feature_3.shape[0] "
   ]
  },
  {
   "cell_type": "code",
   "execution_count": 9,
   "metadata": {},
   "outputs": [],
   "source": [
    "drop_feature_0 = [feature_dict[\"DER_deltaeta_jet_jet\"],\n",
    "feature_dict[\"DER_lep_eta_centrality\"],\n",
    "feature_dict[\"DER_mass_jet_jet\"],\n",
    "feature_dict[\"DER_prodeta_jet_jet\"],\n",
    "feature_dict[\"PRI_jet_all_pt\"],\n",
    "feature_dict[\"PRI_jet_leading_eta\"],\n",
    "feature_dict[\"PRI_jet_leading_phi\"],\n",
    "feature_dict[\"PRI_jet_leading_pt\"],\n",
    "feature_dict[\"PRI_jet_num\"],\n",
    "feature_dict[\"PRI_jet_subleading_eta\"],\n",
    "feature_dict[\"PRI_jet_subleading_phi\"],\n",
    "feature_dict[\"PRI_jet_subleading_pt\"],\n",
    "feature_dict[\"PRI_lep_phi\"],\n",
    "feature_dict[\"PRI_met_phi\"],\n",
    "feature_dict[\"PRI_tau_phi\"],\n",
    "feature_dict[\"DER_mass_MMC\"],\n",
    "feature_dict[\"PRI_met_sumet\"]]"
   ]
  },
  {
   "cell_type": "code",
   "execution_count": 10,
   "metadata": {},
   "outputs": [],
   "source": [
    "drop_feature_1 = [feature_dict[\"DER_deltaeta_jet_jet\"],\n",
    "feature_dict[\"DER_lep_eta_centrality\"],\n",
    "feature_dict[\"DER_mass_jet_jet\"],\n",
    "feature_dict[\"DER_prodeta_jet_jet\"],\n",
    "feature_dict[\"PRI_jet_leading_phi\"],\n",
    "feature_dict[\"PRI_jet_num\"],\n",
    "feature_dict[\"PRI_jet_subleading_eta\"],\n",
    "feature_dict[\"PRI_jet_subleading_phi\"],\n",
    "feature_dict[\"PRI_jet_subleading_pt\"],\n",
    "feature_dict[\"PRI_lep_phi\"],\n",
    "feature_dict[\"PRI_met_phi\"],\n",
    "feature_dict[\"PRI_tau_phi\"],\n",
    "feature_dict[\"PRI_jet_leading_pt\"],\n",
    "feature_dict[\"PRI_jet_all_pt\"],\n",
    "feature_dict[\"DER_mass_MMC\"],\n",
    "feature_dict[\"PRI_met_sumet\"]]"
   ]
  },
  {
   "cell_type": "code",
   "execution_count": 11,
   "metadata": {},
   "outputs": [],
   "source": [
    "drop_feature_2 = [feature_dict[\"PRI_jet_leading_phi\"],\n",
    "feature_dict[\"PRI_jet_num\"],\n",
    "feature_dict[\"PRI_jet_subleading_phi\"],\n",
    "feature_dict[\"PRI_lep_phi\"],\n",
    "feature_dict[\"PRI_met_phi\"],\n",
    "feature_dict[\"PRI_tau_phi\"],\n",
    "feature_dict[\"PRI_jet_leading_pt\"],\n",
    "feature_dict[\"PRI_jet_all_pt\"],\n",
    "feature_dict[\"DER_mass_MMC\"],\n",
    "feature_dict[\"PRI_met_sumet\"]]"
   ]
  },
  {
   "cell_type": "code",
   "execution_count": 12,
   "metadata": {},
   "outputs": [],
   "source": [
    "drop_feature_3 = [feature_dict[\"PRI_jet_leading_phi\"],\n",
    "feature_dict[\"PRI_jet_num\"],\n",
    "feature_dict[\"PRI_jet_subleading_phi\"],\n",
    "feature_dict[\"PRI_lep_phi\"],\n",
    "feature_dict[\"PRI_met_phi\"],\n",
    "feature_dict[\"PRI_tau_phi\"],\n",
    "feature_dict[\"PRI_jet_leading_pt\"],\n",
    "feature_dict[\"PRI_jet_all_pt\"],\n",
    "feature_dict[\"DER_mass_MMC\"],\n",
    "feature_dict[\"PRI_met_sumet\"]]"
   ]
  },
  {
   "cell_type": "code",
   "execution_count": 13,
   "metadata": {},
   "outputs": [],
   "source": [
    "feature_0 = np.delete(feature_0, drop_feature_0, axis = 1)\n",
    "feature_1 = np.delete(feature_1, drop_feature_1, axis = 1)\n",
    "feature_2 = np.delete(feature_2, drop_feature_2, axis = 1)\n",
    "feature_3 = np.delete(feature_3, drop_feature_3, axis = 1)"
   ]
  },
  {
   "cell_type": "code",
   "execution_count": 14,
   "metadata": {},
   "outputs": [
    {
     "data": {
      "text/plain": [
       "(22164, 20)"
      ]
     },
     "execution_count": 14,
     "metadata": {},
     "output_type": "execute_result"
    }
   ],
   "source": [
    "feature_3.shape"
   ]
  },
  {
   "cell_type": "code",
   "execution_count": null,
   "metadata": {},
   "outputs": [],
   "source": []
  },
  {
   "cell_type": "code",
   "execution_count": 15,
   "metadata": {},
   "outputs": [],
   "source": [
    "feature_0 = log_normal(feature_0)\n",
    "feature_1 = log_normal(feature_1)\n",
    "feature_2 = log_normal(feature_2)\n",
    "feature_3 = log_normal(feature_3)\n"
   ]
  },
  {
   "cell_type": "code",
   "execution_count": null,
   "metadata": {},
   "outputs": [],
   "source": []
  },
  {
   "cell_type": "code",
   "execution_count": null,
   "metadata": {},
   "outputs": [],
   "source": []
  },
  {
   "cell_type": "code",
   "execution_count": null,
   "metadata": {},
   "outputs": [],
   "source": []
  },
  {
   "cell_type": "code",
   "execution_count": null,
   "metadata": {},
   "outputs": [],
   "source": []
  },
  {
   "cell_type": "code",
   "execution_count": 16,
   "metadata": {},
   "outputs": [],
   "source": [
    "feature_0_poly = PolynomialFeatures(2).fit_transform(feature_0)\n",
    "feature_1_poly = PolynomialFeatures(2).fit_transform(feature_1)\n",
    "feature_2_poly = PolynomialFeatures(2).fit_transform(feature_2)\n",
    "feature_3_poly = PolynomialFeatures(2).fit_transform(feature_3)"
   ]
  },
  {
   "cell_type": "code",
   "execution_count": 17,
   "metadata": {},
   "outputs": [
    {
     "data": {
      "text/plain": [
       "(99913, 105)"
      ]
     },
     "execution_count": 17,
     "metadata": {},
     "output_type": "execute_result"
    }
   ],
   "source": [
    "feature_0_poly.shape"
   ]
  },
  {
   "cell_type": "code",
   "execution_count": 18,
   "metadata": {},
   "outputs": [
    {
     "data": {
      "text/plain": [
       "99913"
      ]
     },
     "execution_count": 18,
     "metadata": {},
     "output_type": "execute_result"
    }
   ],
   "source": [
    "label_0.shape[0]"
   ]
  },
  {
   "cell_type": "code",
   "execution_count": 19,
   "metadata": {},
   "outputs": [],
   "source": [
    "lamb = 0.001"
   ]
  },
  {
   "cell_type": "code",
   "execution_count": 20,
   "metadata": {},
   "outputs": [],
   "source": [
    "#3 for 0, 5 for 1, 4 for 2, 4 for 3"
   ]
  },
  {
   "cell_type": "code",
   "execution_count": 21,
   "metadata": {},
   "outputs": [],
   "source": [
    "k_fold = 4\n",
    "k_indices_0 = build_k_indices(labels, k_fold = 4)"
   ]
  },
  {
   "cell_type": "code",
   "execution_count": 23,
   "metadata": {},
   "outputs": [
    {
     "ename": "IndexError",
     "evalue": "index 168406 is out of bounds for axis 0 with size 99913",
     "output_type": "error",
     "traceback": [
      "\u001b[0;31m---------------------------------------------------------------------------\u001b[0m",
      "\u001b[0;31mIndexError\u001b[0m                                Traceback (most recent call last)",
      "\u001b[0;32m<ipython-input-23-42405b09b165>\u001b[0m in \u001b[0;36m<module>\u001b[0;34m()\u001b[0m\n\u001b[0;32m----> 1\u001b[0;31m \u001b[0mw0\u001b[0m \u001b[0;34m=\u001b[0m \u001b[0mridge_regression_cv\u001b[0m\u001b[0;34m(\u001b[0m\u001b[0mlabel_0\u001b[0m\u001b[0;34m,\u001b[0m \u001b[0mfeature_0_poly\u001b[0m\u001b[0;34m,\u001b[0m \u001b[0mlamb\u001b[0m\u001b[0;34m,\u001b[0m \u001b[0mk_indices_0\u001b[0m\u001b[0;34m,\u001b[0m \u001b[0mk_fold\u001b[0m\u001b[0;34m)\u001b[0m\u001b[0;34m\u001b[0m\u001b[0m\n\u001b[0m",
      "\u001b[0;32m~/Documents/GitHub/CS-433-Project1/Project1/implementations.py\u001b[0m in \u001b[0;36mridge_regression_cv\u001b[0;34m(y, tx, lamb, k_indices, k_fold)\u001b[0m\n\u001b[1;32m    207\u001b[0m     \u001b[0mright_rate\u001b[0m \u001b[0;34m=\u001b[0m \u001b[0;34m[\u001b[0m\u001b[0;34m]\u001b[0m\u001b[0;34m\u001b[0m\u001b[0m\n\u001b[1;32m    208\u001b[0m     \u001b[0;32mfor\u001b[0m \u001b[0mk\u001b[0m \u001b[0;32min\u001b[0m \u001b[0mrange\u001b[0m\u001b[0;34m(\u001b[0m\u001b[0mk_fold\u001b[0m\u001b[0;34m)\u001b[0m\u001b[0;34m:\u001b[0m\u001b[0;34m\u001b[0m\u001b[0m\n\u001b[0;32m--> 209\u001b[0;31m         \u001b[0my_train\u001b[0m\u001b[0;34m,\u001b[0m \u001b[0mx_train\u001b[0m\u001b[0;34m,\u001b[0m \u001b[0my_k_test\u001b[0m\u001b[0;34m,\u001b[0m \u001b[0mx_k_test\u001b[0m \u001b[0;34m=\u001b[0m \u001b[0mcross_validation_set\u001b[0m\u001b[0;34m(\u001b[0m\u001b[0my\u001b[0m\u001b[0;34m,\u001b[0m \u001b[0mtx\u001b[0m\u001b[0;34m,\u001b[0m \u001b[0mk_indices\u001b[0m\u001b[0;34m,\u001b[0m \u001b[0mk\u001b[0m\u001b[0;34m)\u001b[0m\u001b[0;34m\u001b[0m\u001b[0m\n\u001b[0m\u001b[1;32m    210\u001b[0m         \u001b[0mw\u001b[0m\u001b[0;34m[\u001b[0m\u001b[0;34m:\u001b[0m\u001b[0;34m,\u001b[0m \u001b[0mk\u001b[0m\u001b[0;34m]\u001b[0m \u001b[0;34m=\u001b[0m \u001b[0mridge_regression\u001b[0m\u001b[0;34m(\u001b[0m\u001b[0my_train\u001b[0m\u001b[0;34m,\u001b[0m \u001b[0mx_train\u001b[0m\u001b[0;34m,\u001b[0m \u001b[0mlamb\u001b[0m\u001b[0;34m)\u001b[0m\u001b[0;34m\u001b[0m\u001b[0m\n\u001b[1;32m    211\u001b[0m         \u001b[0mtest_predict_label\u001b[0m \u001b[0;34m=\u001b[0m \u001b[0mx_k_test\u001b[0m \u001b[0;34m@\u001b[0m \u001b[0mw\u001b[0m\u001b[0;34m[\u001b[0m\u001b[0;34m:\u001b[0m\u001b[0;34m,\u001b[0m \u001b[0mk\u001b[0m\u001b[0;34m]\u001b[0m\u001b[0;34m\u001b[0m\u001b[0m\n",
      "\u001b[0;32m~/Documents/GitHub/CS-433-Project1/Project1/Myhelper.py\u001b[0m in \u001b[0;36mcross_validation_set\u001b[0;34m(y, x, k_indices, k)\u001b[0m\n\u001b[1;32m      9\u001b[0m \u001b[0;34m\u001b[0m\u001b[0m\n\u001b[1;32m     10\u001b[0m \u001b[0;32mdef\u001b[0m \u001b[0mcross_validation_set\u001b[0m\u001b[0;34m(\u001b[0m\u001b[0my\u001b[0m\u001b[0;34m,\u001b[0m \u001b[0mx\u001b[0m\u001b[0;34m,\u001b[0m \u001b[0mk_indices\u001b[0m\u001b[0;34m,\u001b[0m \u001b[0mk\u001b[0m\u001b[0;34m)\u001b[0m\u001b[0;34m:\u001b[0m\u001b[0;34m\u001b[0m\u001b[0m\n\u001b[0;32m---> 11\u001b[0;31m     \u001b[0mx_k_test\u001b[0m \u001b[0;34m=\u001b[0m \u001b[0mx\u001b[0m\u001b[0;34m[\u001b[0m\u001b[0mk_indices\u001b[0m\u001b[0;34m[\u001b[0m\u001b[0mk\u001b[0m\u001b[0;34m]\u001b[0m\u001b[0;34m,\u001b[0m\u001b[0;34m:\u001b[0m\u001b[0;34m]\u001b[0m\u001b[0;34m\u001b[0m\u001b[0m\n\u001b[0m\u001b[1;32m     12\u001b[0m     \u001b[0my_k_test\u001b[0m \u001b[0;34m=\u001b[0m \u001b[0my\u001b[0m\u001b[0;34m[\u001b[0m\u001b[0mk_indices\u001b[0m\u001b[0;34m[\u001b[0m\u001b[0mk\u001b[0m\u001b[0;34m]\u001b[0m\u001b[0;34m]\u001b[0m\u001b[0;34m\u001b[0m\u001b[0m\n\u001b[1;32m     13\u001b[0m     \u001b[0mx_train\u001b[0m \u001b[0;34m=\u001b[0m \u001b[0mnp\u001b[0m\u001b[0;34m.\u001b[0m\u001b[0mdelete\u001b[0m\u001b[0;34m(\u001b[0m\u001b[0mx\u001b[0m\u001b[0;34m,\u001b[0m \u001b[0mk_indices\u001b[0m\u001b[0;34m[\u001b[0m\u001b[0mk\u001b[0m\u001b[0;34m]\u001b[0m\u001b[0;34m,\u001b[0m \u001b[0;36m0\u001b[0m\u001b[0;34m)\u001b[0m\u001b[0;34m\u001b[0m\u001b[0m\n",
      "\u001b[0;31mIndexError\u001b[0m: index 168406 is out of bounds for axis 0 with size 99913"
     ]
    }
   ],
   "source": [
    "w0 = ridge_regression_cv(label_0, feature_0_poly, lamb, k_indices_0, k_fold)"
   ]
  },
  {
   "cell_type": "code",
   "execution_count": null,
   "metadata": {},
   "outputs": [],
   "source": [
    "w0 = ridge_regression(label_0, feature_0_poly, lamb)\n",
    "w1 = ridge_regression(label_1, feature_1_poly, lamb)\n",
    "w2 = ridge_regression(label_2, feature_2_poly, lamb)\n",
    "w3 = ridge_regression(label_3, feature_3_poly, lamb)"
   ]
  },
  {
   "cell_type": "code",
   "execution_count": null,
   "metadata": {},
   "outputs": [],
   "source": []
  },
  {
   "cell_type": "code",
   "execution_count": null,
   "metadata": {},
   "outputs": [],
   "source": [
    "label_test, feature_test, id_test = load_csv_data('test.csv') "
   ]
  },
  {
   "cell_type": "code",
   "execution_count": null,
   "metadata": {},
   "outputs": [],
   "source": [
    "feature_test"
   ]
  },
  {
   "cell_type": "code",
   "execution_count": null,
   "metadata": {},
   "outputs": [],
   "source": [
    "test_0 = feature_test[feature_test[:, feature_dict[\"PRI_jet_num\"]] == 0, :]\n",
    "test_1 = feature_test[feature_test[:, feature_dict[\"PRI_jet_num\"]] == 1, :]\n",
    "test_2 = feature_test[feature_test[:, feature_dict[\"PRI_jet_num\"]] == 2, :]\n",
    "test_3 = feature_test[feature_test[:, feature_dict[\"PRI_jet_num\"]] == 3, :]"
   ]
  },
  {
   "cell_type": "code",
   "execution_count": null,
   "metadata": {},
   "outputs": [],
   "source": [
    "test_0 = np.delete(test_0, drop_feature_0, axis = 1)\n",
    "test_1 = np.delete(test_1, drop_feature_1, axis = 1)\n",
    "test_2 = np.delete(test_2, drop_feature_2, axis = 1)\n",
    "test_3 = np.delete(test_3, drop_feature_3, axis = 1)"
   ]
  },
  {
   "cell_type": "code",
   "execution_count": null,
   "metadata": {},
   "outputs": [],
   "source": [
    "test_0 = log_normal(test_0)\n",
    "test_1 = log_normal(test_1)\n",
    "test_2 = log_normal(test_2)\n",
    "test_3 = log_normal(test_3)"
   ]
  },
  {
   "cell_type": "code",
   "execution_count": null,
   "metadata": {},
   "outputs": [],
   "source": [
    "test_0_poly = PolynomialFeatures(2).fit_transform(test_0)\n",
    "test_1_poly = PolynomialFeatures(2).fit_transform(test_1)\n",
    "test_2_poly = PolynomialFeatures(2).fit_transform(test_2)\n",
    "test_3_poly = PolynomialFeatures(2).fit_transform(test_3)"
   ]
  },
  {
   "cell_type": "code",
   "execution_count": null,
   "metadata": {},
   "outputs": [],
   "source": [
    "test_label_0 = predict_labels(w0, test_0_poly)\n",
    "test_label_1 = predict_labels(w1, test_1_poly)\n",
    "test_label_2 = predict_labels(w2, test_2_poly)\n",
    "test_label_3 = predict_labels(w3, test_3_poly)"
   ]
  },
  {
   "cell_type": "code",
   "execution_count": null,
   "metadata": {},
   "outputs": [],
   "source": [
    "label_test[np.where(feature_test[:, feature_dict[\"PRI_jet_num\"]] == 0)] = test_label_0\n",
    "label_test[np.where(feature_test[:, feature_dict[\"PRI_jet_num\"]] == 1)] = test_label_1\n",
    "label_test[np.where(feature_test[:, feature_dict[\"PRI_jet_num\"]] == 2)] = test_label_2\n",
    "label_test[np.where(feature_test[:, feature_dict[\"PRI_jet_num\"]] == 3)] = test_label_3"
   ]
  },
  {
   "cell_type": "code",
   "execution_count": null,
   "metadata": {},
   "outputs": [],
   "source": [
    "create_csv_submission(id_test, label_test, 'submission.csv')"
   ]
  },
  {
   "cell_type": "code",
   "execution_count": null,
   "metadata": {},
   "outputs": [],
   "source": [
    "best_labels, no_feature, best_ids = load_csv_data('best.csv')"
   ]
  },
  {
   "cell_type": "code",
   "execution_count": null,
   "metadata": {},
   "outputs": [],
   "source": [
    "np.sum(abs(best_labels - label_test) / 2) / best_labels.shape[0]"
   ]
  },
  {
   "cell_type": "code",
   "execution_count": null,
   "metadata": {},
   "outputs": [],
   "source": []
  }
 ],
 "metadata": {
  "kernelspec": {
   "display_name": "Python 3",
   "language": "python",
   "name": "python3"
  },
  "language_info": {
   "codemirror_mode": {
    "name": "ipython",
    "version": 3
   },
   "file_extension": ".py",
   "mimetype": "text/x-python",
   "name": "python",
   "nbconvert_exporter": "python",
   "pygments_lexer": "ipython3",
   "version": "3.6.5"
  }
 },
 "nbformat": 4,
 "nbformat_minor": 2
}
